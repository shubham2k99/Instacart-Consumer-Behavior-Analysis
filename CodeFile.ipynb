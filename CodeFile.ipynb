{
 "cells": [
  {
   "cell_type": "markdown",
   "id": "9744508d-bac6-46bb-80fb-15165688316d",
   "metadata": {},
   "source": [
    "### DNSC 6306\n",
    "### Group members: Shubham Patil, Yuxuan Chen, Namarata Satpute, Chao Hu, Tai Pham"
   ]
  },
  {
   "cell_type": "markdown",
   "id": "c52b1916-e28d-44dd-805e-d1d3a84362e8",
   "metadata": {},
   "source": [
    "## Data Files Preparation"
   ]
  },
  {
   "cell_type": "markdown",
   "id": "0dad1e29-ece4-4983-8348-648a2e26391d",
   "metadata": {},
   "source": [
    "* If not already, use the following command to change working directory to /home/ubuntu/notebooks"
   ]
  },
  {
   "cell_type": "markdown",
   "id": "62df6b9c-2ac4-42cc-9abe-9eaf01ed98de",
   "metadata": {},
   "source": [
    "* Upload California_Crime_2021_DB.zip downloaded from Blackboard manually to the current directory. Then, unzip it using the following commands. "
   ]
  },
  {
   "cell_type": "code",
   "execution_count": 1,
   "id": "2f236e16-f2db-4305-85cd-97d1b369c5ce",
   "metadata": {},
   "outputs": [
    {
     "name": "stdout",
     "output_type": "stream",
     "text": [
      "Archive:  California_Crime_2021_DB.zip\n",
      "  Length      Date    Time    Name\n",
      "---------  ---------- -----   ----\n",
      "  2662581  2023-09-30 22:03   NIBRS_ARRESTEE.csv\n",
      "   126779  2023-10-19 23:31   NIBRS_DataDictionary_highlighted.pdf\n",
      "      141  2023-09-30 22:03   NIBRS_ETHNICITY.csv\n",
      " 11311050  2023-09-30 22:03   NIBRS_incident.csv\n",
      "     1314  2023-09-30 22:03   NIBRS_LOCATION_TYPE.csv\n",
      "  5883876  2023-09-30 22:03   NIBRS_OFFENDER.csv\n",
      "  4930928  2023-09-30 22:03   NIBRS_OFFENSE.csv\n",
      "     5413  2023-09-30 22:03   NIBRS_OFFENSE_TYPE.csv\n",
      "      852  2023-09-30 22:03   NIBRS_RELATIONSHIP.csv\n",
      "  6912753  2023-09-30 22:03   NIBRS_VICTIM.csv\n",
      "  1125169  2023-09-30 22:03   NIBRS_VICTIM_OFFENDER_REL.csv\n",
      "  3716831  2023-09-30 22:03   NIBRS_VICTIM_OFFENSE.csv\n",
      "      214  2023-09-30 22:03   NIBRS_VICTIM_TYPE.csv\n",
      "      661  2023-09-30 22:03   REF_RACE.csv\n",
      "---------                     -------\n",
      " 36678562                     14 files\n"
     ]
    }
   ],
   "source": [
    "!unzip -l California_Crime_2021_DB.zip"
   ]
  },
  {
   "cell_type": "code",
   "execution_count": 2,
   "id": "eb3f1206-22c1-43aa-ad31-9e00e00256cc",
   "metadata": {},
   "outputs": [
    {
     "name": "stdout",
     "output_type": "stream",
     "text": [
      "Archive:  California_Crime_2021_DB.zip\n",
      "  inflating: NIBRS_ARRESTEE.csv      \n",
      "  inflating: NIBRS_DataDictionary_highlighted.pdf  \n",
      "  inflating: NIBRS_ETHNICITY.csv     \n",
      "  inflating: NIBRS_incident.csv      \n",
      "  inflating: NIBRS_LOCATION_TYPE.csv  \n",
      "  inflating: NIBRS_OFFENDER.csv      \n",
      "  inflating: NIBRS_OFFENSE.csv       \n",
      "  inflating: NIBRS_OFFENSE_TYPE.csv  \n",
      "  inflating: NIBRS_RELATIONSHIP.csv  \n",
      "  inflating: NIBRS_VICTIM.csv        \n",
      "  inflating: NIBRS_VICTIM_OFFENDER_REL.csv  \n",
      "  inflating: NIBRS_VICTIM_OFFENSE.csv  \n",
      "  inflating: NIBRS_VICTIM_TYPE.csv   \n",
      "  inflating: REF_RACE.csv            \n"
     ]
    }
   ],
   "source": [
    "!unzip California_Crime_2021_DB.zip"
   ]
  },
  {
   "cell_type": "code",
   "execution_count": 3,
   "id": "f4c36f12-d098-4d0d-acbc-8d5f262e6682",
   "metadata": {},
   "outputs": [
    {
     "name": "stdout",
     "output_type": "stream",
     "text": [
      "   39568    39568  2662581 NIBRS_ARRESTEE.csv\n",
      "       6       12      141 NIBRS_ETHNICITY.csv\n",
      "      48       84     1314 NIBRS_LOCATION_TYPE.csv\n",
      "  131343   131343  5883876 NIBRS_OFFENDER.csv\n",
      "  136849   136849  4930928 NIBRS_OFFENSE.csv\n",
      "      87      384     5413 NIBRS_OFFENSE_TYPE.csv\n",
      "      28       89      852 NIBRS_RELATIONSHIP.csv\n",
      "  133988   133988  6912753 NIBRS_VICTIM.csv\n",
      "   39188    39188  1125169 NIBRS_VICTIM_OFFENDER_REL.csv\n",
      "  148673   148673  3716831 NIBRS_VICTIM_OFFENSE.csv\n",
      "      10       14      214 NIBRS_VICTIM_TYPE.csv\n",
      "  118177   236353 11311050 NIBRS_incident.csv\n",
      "      13       56      661 REF_RACE.csv\n",
      "  747978   866601 36551783 total\n"
     ]
    }
   ],
   "source": [
    "!wc *.csv"
   ]
  },
  {
   "cell_type": "markdown",
   "id": "9e3727d6-054b-4855-a529-854f816082be",
   "metadata": {
    "tags": []
   },
   "source": [
    "### Library Preparation\n",
    "* To install the libraries ipython-sql and psycopg2 to connect to PostgreSQL. PostSQL is already downloaded on EC2 instance. "
   ]
  },
  {
   "cell_type": "code",
   "execution_count": 4,
   "id": "0778dc3c-e313-44ce-b170-fe8cfed880a4",
   "metadata": {},
   "outputs": [
    {
     "name": "stdout",
     "output_type": "stream",
     "text": [
      "ipython-sql==0.4.1\n",
      "psycopg2==2.9.5\n",
      "psycopg2-binary==2.9.5\n"
     ]
    }
   ],
   "source": [
    "!pip freeze | grep -E 'ipython-sql|psycopg2'"
   ]
  },
  {
   "cell_type": "markdown",
   "id": "6da28001-1ccd-4bc7-bf3b-beeb251e352c",
   "metadata": {},
   "source": [
    "# Database Preparation"
   ]
  },
  {
   "cell_type": "markdown",
   "id": "8236b3c2-42a1-4f9b-86ba-be978aba6b64",
   "metadata": {},
   "source": [
    "* Drop the database if it already exists."
   ]
  },
  {
   "cell_type": "code",
   "execution_count": 5,
   "id": "2c19ea8a-1736-4f36-8331-c42e87a6358a",
   "metadata": {},
   "outputs": [],
   "source": [
    "!dropdb -U student assignment2"
   ]
  },
  {
   "cell_type": "markdown",
   "id": "59ecbe6e-8bac-44a9-bfc8-d5c38baf6b11",
   "metadata": {},
   "source": [
    "* Create a new database name 'Assignment2'"
   ]
  },
  {
   "cell_type": "code",
   "execution_count": 6,
   "id": "ca896946-c95a-449a-9d2e-b4927ea4abf6",
   "metadata": {},
   "outputs": [],
   "source": [
    "!createdb -U student assignment2"
   ]
  },
  {
   "cell_type": "markdown",
   "id": "11acad36-590a-4221-a75c-8b8dab0eb6df",
   "metadata": {},
   "source": [
    "* Load package SQL"
   ]
  },
  {
   "cell_type": "code",
   "execution_count": 7,
   "id": "3e4e760e-c0a9-43ab-ac79-948d37ec2647",
   "metadata": {},
   "outputs": [],
   "source": [
    "%load_ext sql"
   ]
  },
  {
   "cell_type": "markdown",
   "id": "9c29104d-203e-4069-8be5-615736609f68",
   "metadata": {},
   "source": [
    "* Connect the database with loaded package SQL. "
   ]
  },
  {
   "cell_type": "code",
   "execution_count": 8,
   "id": "b410847e-a751-4b95-9263-402a514cecf0",
   "metadata": {},
   "outputs": [],
   "source": [
    "%sql postgresql://student@/assignment2"
   ]
  },
  {
   "cell_type": "markdown",
   "id": "ecdf390d-f5f7-4969-8c61-4466d5991a7e",
   "metadata": {},
   "source": [
    "#### Create table of Ethnicity"
   ]
  },
  {
   "cell_type": "code",
   "execution_count": 9,
   "id": "e62c7059-1d55-4ab9-9f70-0245c014ece5",
   "metadata": {},
   "outputs": [
    {
     "name": "stdout",
     "output_type": "stream",
     "text": [
      " * postgresql://student@/assignment2\n",
      "Done.\n",
      "Done.\n"
     ]
    },
    {
     "data": {
      "text/plain": [
       "[]"
      ]
     },
     "execution_count": 9,
     "metadata": {},
     "output_type": "execute_result"
    }
   ],
   "source": [
    "%%sql\n",
    "DROP TABLE IF EXISTS NIBRS_Ethnicity Cascade;\n",
    "\n",
    "CREATE TABLE NIBRS_Ethnicity(\n",
    "  Ethnicity_ID numeric(4) NOT NULL,\n",
    "  Ethnicity_Code char(1) NULL,\n",
    "  Ethnicity_Name varchar(100) NULL,\n",
    "  PRIMARY KEY (Ethnicity_ID)\n",
    ");"
   ]
  },
  {
   "cell_type": "code",
   "execution_count": 10,
   "id": "c8fa6b6a-295d-4a58-a5bc-d803f3de1d45",
   "metadata": {},
   "outputs": [
    {
     "name": "stdout",
     "output_type": "stream",
     "text": [
      " * postgresql://student@/assignment2\n",
      "Done.\n"
     ]
    },
    {
     "data": {
      "text/plain": [
       "[]"
      ]
     },
     "execution_count": 10,
     "metadata": {},
     "output_type": "execute_result"
    }
   ],
   "source": [
    "%%sql\n",
    "COMMENT ON TABLE NIBRS_Ethnicity IS\n",
    "'Ethnicity table: holds information on ethnicity categories, including a unique identifier , a code that represents the ethnicity, and a descriptive term for that ethnicity category';"
   ]
  },
  {
   "cell_type": "code",
   "execution_count": 11,
   "id": "0b657085-bfbd-4470-a7c5-562dd5865f59",
   "metadata": {},
   "outputs": [
    {
     "name": "stdout",
     "output_type": "stream",
     "text": [
      " * postgresql://student@/assignment2\n",
      "1 rows affected.\n"
     ]
    },
    {
     "data": {
      "text/html": [
       "<table>\n",
       "    <thead>\n",
       "        <tr>\n",
       "            <th>obj_description</th>\n",
       "        </tr>\n",
       "    </thead>\n",
       "    <tbody>\n",
       "        <tr>\n",
       "            <td>Ethnicity table: holds information on ethnicity categories, including a unique identifier , a code that represents the ethnicity, and a descriptive term for that ethnicity category</td>\n",
       "        </tr>\n",
       "    </tbody>\n",
       "</table>"
      ],
      "text/plain": [
       "[('Ethnicity table: holds information on ethnicity categories, including a unique identifier , a code that represents the ethnicity, and a descriptive term for that ethnicity category',)]"
      ]
     },
     "execution_count": 11,
     "metadata": {},
     "output_type": "execute_result"
    }
   ],
   "source": [
    "%%sql\n",
    "SELECT obj_description(oid, 'pg_class')\n",
    "FROM pg_class\n",
    "WHERE upper(relname) = 'NIBRS_ETHNICITY';"
   ]
  },
  {
   "cell_type": "code",
   "execution_count": 12,
   "id": "3dcef7e9-a4f8-46e9-8ae0-3a92d42f54dc",
   "metadata": {},
   "outputs": [
    {
     "name": "stdout",
     "output_type": "stream",
     "text": [
      " * postgresql://student@/assignment2\n",
      "Done.\n",
      "Done.\n",
      "Done.\n"
     ]
    },
    {
     "data": {
      "text/plain": [
       "[]"
      ]
     },
     "execution_count": 12,
     "metadata": {},
     "output_type": "execute_result"
    }
   ],
   "source": [
    "%%sql\n",
    "COMMENT ON COLUMN NIBRS_Ethnicity.Ethnicity_ID IS 'Internal ID';\n",
    "COMMENT ON COLUMN NIBRS_Ethnicity.Ethnicity_Code IS 'Ethnicity code from the tech spec';\n",
    "COMMENT ON COLUMN NIBRS_Ethnicity.Ethnicity_Name IS 'Ethnicity name from the tech spec';"
   ]
  },
  {
   "cell_type": "code",
   "execution_count": 13,
   "id": "d97ae0c5-0bc4-4082-919b-46bdfffdb8e6",
   "metadata": {},
   "outputs": [
    {
     "name": "stdout",
     "output_type": "stream",
     "text": [
      " * postgresql://student@/assignment2\n",
      "3 rows affected.\n"
     ]
    },
    {
     "data": {
      "text/html": [
       "<table>\n",
       "    <thead>\n",
       "        <tr>\n",
       "            <th>column_name</th>\n",
       "            <th>col_description</th>\n",
       "        </tr>\n",
       "    </thead>\n",
       "    <tbody>\n",
       "        <tr>\n",
       "            <td>ethnicity_id</td>\n",
       "            <td>Internal ID</td>\n",
       "        </tr>\n",
       "        <tr>\n",
       "            <td>ethnicity_code</td>\n",
       "            <td>Ethnicity code from the tech spec</td>\n",
       "        </tr>\n",
       "        <tr>\n",
       "            <td>ethnicity_name</td>\n",
       "            <td>Ethnicity name from the tech spec</td>\n",
       "        </tr>\n",
       "    </tbody>\n",
       "</table>"
      ],
      "text/plain": [
       "[('ethnicity_id', 'Internal ID'),\n",
       " ('ethnicity_code', 'Ethnicity code from the tech spec'),\n",
       " ('ethnicity_name', 'Ethnicity name from the tech spec')]"
      ]
     },
     "execution_count": 13,
     "metadata": {},
     "output_type": "execute_result"
    }
   ],
   "source": [
    "%%sql\n",
    "SELECT cols.column_name,\n",
    "pg_catalog.col_description(c.oid, cols.ordinal_position::int)\n",
    "FROM pg_catalog.pg_class c, information_schema.columns cols\n",
    " WHERE cols.table_name = c.relname  and upper(relname) = 'NIBRS_ETHNICITY';"
   ]
  },
  {
   "cell_type": "markdown",
   "id": "6a563c4f-3bee-4bbf-8dd7-455044900a91",
   "metadata": {},
   "source": [
    "##### Show the colunms of the Ethnicity datafile "
   ]
  },
  {
   "cell_type": "code",
   "execution_count": 14,
   "id": "d985e4fb-d88c-4987-a30c-c39145f8d463",
   "metadata": {},
   "outputs": [
    {
     "name": "stdout",
     "output_type": "stream",
     "text": [
      "  1: ethnicity_id\n",
      "  2: ethnicity_code\n",
      "  3: ethnicity_name\n"
     ]
    }
   ],
   "source": [
    "!csvcut -n /home/ubuntu/notebooks/NIBRS_ETHNICITY.csv"
   ]
  },
  {
   "cell_type": "code",
   "execution_count": 15,
   "id": "160bdadb-baf0-4ed9-9fe8-5b2500bf189d",
   "metadata": {},
   "outputs": [
    {
     "name": "stdout",
     "output_type": "stream",
     "text": [
      " * postgresql://student@/assignment2\n",
      "5 rows affected.\n"
     ]
    },
    {
     "data": {
      "text/plain": [
       "[]"
      ]
     },
     "execution_count": 15,
     "metadata": {},
     "output_type": "execute_result"
    }
   ],
   "source": [
    "%%sql\n",
    "COPY NIBRS_Ethnicity FROM '/home/ubuntu/notebooks/NIBRS_ETHNICITY.csv'\n",
    "CSV\n",
    "HEADER;"
   ]
  },
  {
   "cell_type": "code",
   "execution_count": 16,
   "id": "f54d33cc-b60d-496b-b61c-33b7af7abcb6",
   "metadata": {},
   "outputs": [
    {
     "name": "stdout",
     "output_type": "stream",
     "text": [
      " * postgresql://student@/assignment2\n",
      "5 rows affected.\n"
     ]
    },
    {
     "data": {
      "text/html": [
       "<table>\n",
       "    <thead>\n",
       "        <tr>\n",
       "            <th>ethnicity_id</th>\n",
       "            <th>ethnicity_code</th>\n",
       "            <th>ethnicity_name</th>\n",
       "        </tr>\n",
       "    </thead>\n",
       "    <tbody>\n",
       "        <tr>\n",
       "            <td>10</td>\n",
       "            <td>H</td>\n",
       "            <td>Hispanic or Latino</td>\n",
       "        </tr>\n",
       "        <tr>\n",
       "            <td>20</td>\n",
       "            <td>N</td>\n",
       "            <td>Not Hispanic or Latino</td>\n",
       "        </tr>\n",
       "        <tr>\n",
       "            <td>30</td>\n",
       "            <td>M</td>\n",
       "            <td>Multiple</td>\n",
       "        </tr>\n",
       "        <tr>\n",
       "            <td>40</td>\n",
       "            <td>U</td>\n",
       "            <td>Unknown</td>\n",
       "        </tr>\n",
       "        <tr>\n",
       "            <td>50</td>\n",
       "            <td>X</td>\n",
       "            <td>Not Specified</td>\n",
       "        </tr>\n",
       "    </tbody>\n",
       "</table>"
      ],
      "text/plain": [
       "[(Decimal('10'), 'H', 'Hispanic or Latino'),\n",
       " (Decimal('20'), 'N', 'Not Hispanic or Latino'),\n",
       " (Decimal('30'), 'M', 'Multiple'),\n",
       " (Decimal('40'), 'U', 'Unknown'),\n",
       " (Decimal('50'), 'X', 'Not Specified')]"
      ]
     },
     "execution_count": 16,
     "metadata": {},
     "output_type": "execute_result"
    }
   ],
   "source": [
    "%%sql\n",
    "SELECT *\n",
    "FROM NIBRS_ETHNICITY;"
   ]
  },
  {
   "cell_type": "code",
   "execution_count": 17,
   "id": "9fa949a1-3461-4d77-b9b3-1b0df0ab6196",
   "metadata": {},
   "outputs": [
    {
     "name": "stdout",
     "output_type": "stream",
     "text": [
      " * postgresql://student@/assignment2\n",
      "1 rows affected.\n"
     ]
    },
    {
     "data": {
      "text/html": [
       "<table>\n",
       "    <thead>\n",
       "        <tr>\n",
       "            <th>count</th>\n",
       "        </tr>\n",
       "    </thead>\n",
       "    <tbody>\n",
       "        <tr>\n",
       "            <td>5</td>\n",
       "        </tr>\n",
       "    </tbody>\n",
       "</table>"
      ],
      "text/plain": [
       "[(5,)]"
      ]
     },
     "execution_count": 17,
     "metadata": {},
     "output_type": "execute_result"
    }
   ],
   "source": [
    "%%sql\n",
    "SELECT COUNT(*) FROM NIBRS_Ethnicity "
   ]
  },
  {
   "cell_type": "markdown",
   "id": "418fda49-b56c-41a8-b494-1e58968b3af9",
   "metadata": {},
   "source": [
    "!csvcut NIBRS_ETHNICITY.csv | csvstat"
   ]
  },
  {
   "cell_type": "code",
   "execution_count": 18,
   "id": "58da5aae-0b25-43f1-abb6-fd9d4696c582",
   "metadata": {},
   "outputs": [
    {
     "name": "stdout",
     "output_type": "stream",
     "text": [
      "5\n"
     ]
    }
   ],
   "source": [
    "!xsv count NIBRS_ETHNICITY.csv"
   ]
  },
  {
   "cell_type": "markdown",
   "id": "f3608fba-8efb-4f05-812f-020bb98c913c",
   "metadata": {},
   "source": [
    "* We decided to use xsv instead of csvcut to run it more efficiently. "
   ]
  },
  {
   "cell_type": "markdown",
   "id": "18ff5b23-4d2c-4084-8b1f-fa72d7c43441",
   "metadata": {},
   "source": [
    "#### Create table of Location Type"
   ]
  },
  {
   "cell_type": "code",
   "execution_count": 19,
   "id": "1d0bcb94-5f36-4b9a-81a0-4562c4bdf7f6",
   "metadata": {},
   "outputs": [
    {
     "name": "stdout",
     "output_type": "stream",
     "text": [
      " * postgresql://student@/assignment2\n",
      "Done.\n",
      "Done.\n"
     ]
    },
    {
     "data": {
      "text/plain": [
       "[]"
      ]
     },
     "execution_count": 19,
     "metadata": {},
     "output_type": "execute_result"
    }
   ],
   "source": [
    "%%sql\n",
    "DROP TABLE IF EXISTS NIBRS_Location_Type Cascade;\n",
    "\n",
    "CREATE TABLE NIBRS_Location_Type(\n",
    "  Location_ID numeric(10) NOT NULL,\n",
    "  Location_Code char(2) NULL,\n",
    "  Location_Name varchar(100) NULL,\n",
    "  PRIMARY KEY (Location_ID)\n",
    ");"
   ]
  },
  {
   "cell_type": "code",
   "execution_count": 20,
   "id": "96e7c44b-5900-43eb-81d5-cddf8ceedb3d",
   "metadata": {},
   "outputs": [
    {
     "name": "stdout",
     "output_type": "stream",
     "text": [
      " * postgresql://student@/assignment2\n",
      "Done.\n"
     ]
    },
    {
     "data": {
      "text/plain": [
       "[]"
      ]
     },
     "execution_count": 20,
     "metadata": {},
     "output_type": "execute_result"
    }
   ],
   "source": [
    "%%sql\n",
    "COMMENT ON TABLE NIBRS_Location_Type IS\n",
    "'Location Type table: holds information about various attributes of the location like its unique identity,  the type of location it represents, and a code connected with that location';"
   ]
  },
  {
   "cell_type": "code",
   "execution_count": 21,
   "id": "87b0f1e1-3fad-4180-98c4-bd7b762af55f",
   "metadata": {},
   "outputs": [
    {
     "name": "stdout",
     "output_type": "stream",
     "text": [
      " * postgresql://student@/assignment2\n",
      "1 rows affected.\n"
     ]
    },
    {
     "data": {
      "text/html": [
       "<table>\n",
       "    <thead>\n",
       "        <tr>\n",
       "            <th>obj_description</th>\n",
       "        </tr>\n",
       "    </thead>\n",
       "    <tbody>\n",
       "        <tr>\n",
       "            <td>Location Type table: holds information about various attributes of the location like its unique identity,  the type of location it represents, and a code connected with that location</td>\n",
       "        </tr>\n",
       "    </tbody>\n",
       "</table>"
      ],
      "text/plain": [
       "[('Location Type table: holds information about various attributes of the location like its unique identity,  the type of location it represents, and a code connected with that location',)]"
      ]
     },
     "execution_count": 21,
     "metadata": {},
     "output_type": "execute_result"
    }
   ],
   "source": [
    "%%sql\n",
    "SELECT obj_description(oid, 'pg_class')\n",
    "FROM pg_class\n",
    "WHERE upper(relname) = 'NIBRS_LOCATION_TYPE';"
   ]
  },
  {
   "cell_type": "code",
   "execution_count": 22,
   "id": "fdacf45b-6bf5-42de-99dd-e2e664c11b90",
   "metadata": {},
   "outputs": [
    {
     "name": "stdout",
     "output_type": "stream",
     "text": [
      " * postgresql://student@/assignment2\n",
      "Done.\n",
      "Done.\n",
      "Done.\n"
     ]
    },
    {
     "data": {
      "text/plain": [
       "[]"
      ]
     },
     "execution_count": 22,
     "metadata": {},
     "output_type": "execute_result"
    }
   ],
   "source": [
    "%%sql\n",
    "COMMENT ON COLUMN NIBRS_Location_Type.Location_ID IS 'Internal location ID';\n",
    "COMMENT ON COLUMN NIBRS_Location_Type.Location_Code IS 'Location code from the tech spec';\n",
    "COMMENT ON COLUMN NIBRS_Location_Type.Location_Name IS 'Location name from the tech spec';"
   ]
  },
  {
   "cell_type": "code",
   "execution_count": 23,
   "id": "0e608034-2f04-4794-a5c1-d8738229ab89",
   "metadata": {},
   "outputs": [
    {
     "name": "stdout",
     "output_type": "stream",
     "text": [
      " * postgresql://student@/assignment2\n",
      "3 rows affected.\n"
     ]
    },
    {
     "data": {
      "text/html": [
       "<table>\n",
       "    <thead>\n",
       "        <tr>\n",
       "            <th>column_name</th>\n",
       "            <th>col_description</th>\n",
       "        </tr>\n",
       "    </thead>\n",
       "    <tbody>\n",
       "        <tr>\n",
       "            <td>location_id</td>\n",
       "            <td>Internal location ID</td>\n",
       "        </tr>\n",
       "        <tr>\n",
       "            <td>location_code</td>\n",
       "            <td>Location code from the tech spec</td>\n",
       "        </tr>\n",
       "        <tr>\n",
       "            <td>location_name</td>\n",
       "            <td>Location name from the tech spec</td>\n",
       "        </tr>\n",
       "    </tbody>\n",
       "</table>"
      ],
      "text/plain": [
       "[('location_id', 'Internal location ID'),\n",
       " ('location_code', 'Location code from the tech spec'),\n",
       " ('location_name', 'Location name from the tech spec')]"
      ]
     },
     "execution_count": 23,
     "metadata": {},
     "output_type": "execute_result"
    }
   ],
   "source": [
    "%%sql\n",
    "SELECT cols.column_name,\n",
    "pg_catalog.col_description(c.oid, cols.ordinal_position::int)\n",
    "FROM pg_catalog.pg_class c, information_schema.columns cols\n",
    "WHERE cols.table_name = c.relname  and upper(relname) = 'NIBRS_LOCATION_TYPE';"
   ]
  },
  {
   "cell_type": "code",
   "execution_count": 24,
   "id": "ee4436a9-8d9f-4e29-ab2b-8a7b7778cb96",
   "metadata": {},
   "outputs": [
    {
     "name": "stdout",
     "output_type": "stream",
     "text": [
      "  1: location_id\n",
      "  2: location_code\n",
      "  3: location_name\n"
     ]
    }
   ],
   "source": [
    "!csvcut -n /home/ubuntu/notebooks/NIBRS_LOCATION_TYPE.csv"
   ]
  },
  {
   "cell_type": "code",
   "execution_count": 25,
   "id": "d5232f7b-872e-4091-8c8f-e9067d76fb31",
   "metadata": {},
   "outputs": [
    {
     "name": "stdout",
     "output_type": "stream",
     "text": [
      " * postgresql://student@/assignment2\n",
      "47 rows affected.\n"
     ]
    },
    {
     "data": {
      "text/plain": [
       "[]"
      ]
     },
     "execution_count": 25,
     "metadata": {},
     "output_type": "execute_result"
    }
   ],
   "source": [
    "%%sql\n",
    "COPY NIBRS_Location_Type FROM '/home/ubuntu/notebooks/NIBRS_LOCATION_TYPE.csv'\n",
    "CSV\n",
    "HEADER;"
   ]
  },
  {
   "cell_type": "code",
   "execution_count": 26,
   "id": "164edf39-e72a-4624-9b71-b963f8e46f12",
   "metadata": {},
   "outputs": [
    {
     "name": "stdout",
     "output_type": "stream",
     "text": [
      " * postgresql://student@/assignment2\n",
      "47 rows affected.\n"
     ]
    },
    {
     "data": {
      "text/html": [
       "<table>\n",
       "    <thead>\n",
       "        <tr>\n",
       "            <th>location_id</th>\n",
       "            <th>location_code</th>\n",
       "            <th>location_name</th>\n",
       "        </tr>\n",
       "    </thead>\n",
       "    <tbody>\n",
       "        <tr>\n",
       "            <td>1</td>\n",
       "            <td>37</td>\n",
       "            <td>Abandoned/Condemned Structure</td>\n",
       "        </tr>\n",
       "        <tr>\n",
       "            <td>2</td>\n",
       "            <td>01</td>\n",
       "            <td>Air/Bus/Train Terminal</td>\n",
       "        </tr>\n",
       "        <tr>\n",
       "            <td>3</td>\n",
       "            <td>38</td>\n",
       "            <td>Amusement Park</td>\n",
       "        </tr>\n",
       "        <tr>\n",
       "            <td>4</td>\n",
       "            <td>39</td>\n",
       "            <td>Arena/Stadium/Fairgrounds/Coliseum</td>\n",
       "        </tr>\n",
       "        <tr>\n",
       "            <td>5</td>\n",
       "            <td>40</td>\n",
       "            <td>ATM Separate from Bank</td>\n",
       "        </tr>\n",
       "        <tr>\n",
       "            <td>6</td>\n",
       "            <td>41</td>\n",
       "            <td>Auto Dealership New/Used</td>\n",
       "        </tr>\n",
       "        <tr>\n",
       "            <td>7</td>\n",
       "            <td>02</td>\n",
       "            <td>Bank/Savings and Loan</td>\n",
       "        </tr>\n",
       "        <tr>\n",
       "            <td>8</td>\n",
       "            <td>03</td>\n",
       "            <td>Bar/Nightclub</td>\n",
       "        </tr>\n",
       "        <tr>\n",
       "            <td>9</td>\n",
       "            <td>42</td>\n",
       "            <td>Camp/Campground</td>\n",
       "        </tr>\n",
       "        <tr>\n",
       "            <td>10</td>\n",
       "            <td>04</td>\n",
       "            <td>Church/Synagogue/Temple/Mosque</td>\n",
       "        </tr>\n",
       "        <tr>\n",
       "            <td>11</td>\n",
       "            <td>05</td>\n",
       "            <td>Commercial/Office Building</td>\n",
       "        </tr>\n",
       "        <tr>\n",
       "            <td>12</td>\n",
       "            <td>57</td>\n",
       "            <td>Community Center</td>\n",
       "        </tr>\n",
       "        <tr>\n",
       "            <td>13</td>\n",
       "            <td>06</td>\n",
       "            <td>Construction Site</td>\n",
       "        </tr>\n",
       "        <tr>\n",
       "            <td>14</td>\n",
       "            <td>07</td>\n",
       "            <td>Convenience Store</td>\n",
       "        </tr>\n",
       "        <tr>\n",
       "            <td>15</td>\n",
       "            <td>58</td>\n",
       "            <td>Cyberspace</td>\n",
       "        </tr>\n",
       "        <tr>\n",
       "            <td>16</td>\n",
       "            <td>44</td>\n",
       "            <td>Daycare Facility</td>\n",
       "        </tr>\n",
       "        <tr>\n",
       "            <td>17</td>\n",
       "            <td>08</td>\n",
       "            <td>Department/Discount Store</td>\n",
       "        </tr>\n",
       "        <tr>\n",
       "            <td>18</td>\n",
       "            <td>45</td>\n",
       "            <td>Dock/Wharf/Freight/Modal Terminal</td>\n",
       "        </tr>\n",
       "        <tr>\n",
       "            <td>19</td>\n",
       "            <td>09</td>\n",
       "            <td>Drug Store/Doctor&#x27;s Office/Hospital</td>\n",
       "        </tr>\n",
       "        <tr>\n",
       "            <td>20</td>\n",
       "            <td>46</td>\n",
       "            <td>Farm Facility</td>\n",
       "        </tr>\n",
       "        <tr>\n",
       "            <td>21</td>\n",
       "            <td>10</td>\n",
       "            <td>Field/Woods</td>\n",
       "        </tr>\n",
       "        <tr>\n",
       "            <td>22</td>\n",
       "            <td>47</td>\n",
       "            <td>Gambling Facility/Casino/Race Track</td>\n",
       "        </tr>\n",
       "        <tr>\n",
       "            <td>23</td>\n",
       "            <td>11</td>\n",
       "            <td>Government/Public Building</td>\n",
       "        </tr>\n",
       "        <tr>\n",
       "            <td>24</td>\n",
       "            <td>12</td>\n",
       "            <td>Grocery/Supermarket</td>\n",
       "        </tr>\n",
       "        <tr>\n",
       "            <td>25</td>\n",
       "            <td>13</td>\n",
       "            <td>Highway/Road/Alley/Street/Sidewalk</td>\n",
       "        </tr>\n",
       "        <tr>\n",
       "            <td>26</td>\n",
       "            <td>14</td>\n",
       "            <td>Hotel/Motel/Etc.</td>\n",
       "        </tr>\n",
       "        <tr>\n",
       "            <td>27</td>\n",
       "            <td>48</td>\n",
       "            <td>Industrial Site</td>\n",
       "        </tr>\n",
       "        <tr>\n",
       "            <td>28</td>\n",
       "            <td>15</td>\n",
       "            <td>Jail/Prison/Penitentiary/Corrections Facility</td>\n",
       "        </tr>\n",
       "        <tr>\n",
       "            <td>29</td>\n",
       "            <td>16</td>\n",
       "            <td>Lake/Waterway/Beach</td>\n",
       "        </tr>\n",
       "        <tr>\n",
       "            <td>30</td>\n",
       "            <td>17</td>\n",
       "            <td>Liquor Store</td>\n",
       "        </tr>\n",
       "        <tr>\n",
       "            <td>31</td>\n",
       "            <td>49</td>\n",
       "            <td>Military Installation</td>\n",
       "        </tr>\n",
       "        <tr>\n",
       "            <td>32</td>\n",
       "            <td>50</td>\n",
       "            <td>Park/Playground</td>\n",
       "        </tr>\n",
       "        <tr>\n",
       "            <td>33</td>\n",
       "            <td>18</td>\n",
       "            <td>Parking/Drop Lot/Garage</td>\n",
       "        </tr>\n",
       "        <tr>\n",
       "            <td>34</td>\n",
       "            <td>19</td>\n",
       "            <td>Rental Storage Facility</td>\n",
       "        </tr>\n",
       "        <tr>\n",
       "            <td>35</td>\n",
       "            <td>20</td>\n",
       "            <td>Residence/Home</td>\n",
       "        </tr>\n",
       "        <tr>\n",
       "            <td>36</td>\n",
       "            <td>51</td>\n",
       "            <td>Rest Area</td>\n",
       "        </tr>\n",
       "        <tr>\n",
       "            <td>37</td>\n",
       "            <td>21</td>\n",
       "            <td>Restaurant</td>\n",
       "        </tr>\n",
       "        <tr>\n",
       "            <td>38</td>\n",
       "            <td>22</td>\n",
       "            <td>School/College</td>\n",
       "        </tr>\n",
       "        <tr>\n",
       "            <td>39</td>\n",
       "            <td>52</td>\n",
       "            <td>School-College/University</td>\n",
       "        </tr>\n",
       "        <tr>\n",
       "            <td>40</td>\n",
       "            <td>53</td>\n",
       "            <td>School-Elementary/Secondary</td>\n",
       "        </tr>\n",
       "        <tr>\n",
       "            <td>41</td>\n",
       "            <td>23</td>\n",
       "            <td>Service/Gas Station</td>\n",
       "        </tr>\n",
       "        <tr>\n",
       "            <td>42</td>\n",
       "            <td>54</td>\n",
       "            <td>Shelter-Mission/Homeless</td>\n",
       "        </tr>\n",
       "        <tr>\n",
       "            <td>43</td>\n",
       "            <td>55</td>\n",
       "            <td>Shopping Mall</td>\n",
       "        </tr>\n",
       "        <tr>\n",
       "            <td>44</td>\n",
       "            <td>24</td>\n",
       "            <td>Specialty Store</td>\n",
       "        </tr>\n",
       "        <tr>\n",
       "            <td>45</td>\n",
       "            <td>56</td>\n",
       "            <td>Tribal Lands</td>\n",
       "        </tr>\n",
       "        <tr>\n",
       "            <td>98</td>\n",
       "            <td>25</td>\n",
       "            <td>Other/Unknown</td>\n",
       "        </tr>\n",
       "        <tr>\n",
       "            <td>99</td>\n",
       "            <td>00</td>\n",
       "            <td>Not Specified</td>\n",
       "        </tr>\n",
       "    </tbody>\n",
       "</table>"
      ],
      "text/plain": [
       "[(Decimal('1'), '37', 'Abandoned/Condemned Structure'),\n",
       " (Decimal('2'), '01', 'Air/Bus/Train Terminal'),\n",
       " (Decimal('3'), '38', 'Amusement Park'),\n",
       " (Decimal('4'), '39', 'Arena/Stadium/Fairgrounds/Coliseum'),\n",
       " (Decimal('5'), '40', 'ATM Separate from Bank'),\n",
       " (Decimal('6'), '41', 'Auto Dealership New/Used'),\n",
       " (Decimal('7'), '02', 'Bank/Savings and Loan'),\n",
       " (Decimal('8'), '03', 'Bar/Nightclub'),\n",
       " (Decimal('9'), '42', 'Camp/Campground'),\n",
       " (Decimal('10'), '04', 'Church/Synagogue/Temple/Mosque'),\n",
       " (Decimal('11'), '05', 'Commercial/Office Building'),\n",
       " (Decimal('12'), '57', 'Community Center'),\n",
       " (Decimal('13'), '06', 'Construction Site'),\n",
       " (Decimal('14'), '07', 'Convenience Store'),\n",
       " (Decimal('15'), '58', 'Cyberspace'),\n",
       " (Decimal('16'), '44', 'Daycare Facility'),\n",
       " (Decimal('17'), '08', 'Department/Discount Store'),\n",
       " (Decimal('18'), '45', 'Dock/Wharf/Freight/Modal Terminal'),\n",
       " (Decimal('19'), '09', \"Drug Store/Doctor's Office/Hospital\"),\n",
       " (Decimal('20'), '46', 'Farm Facility'),\n",
       " (Decimal('21'), '10', 'Field/Woods'),\n",
       " (Decimal('22'), '47', 'Gambling Facility/Casino/Race Track'),\n",
       " (Decimal('23'), '11', 'Government/Public Building'),\n",
       " (Decimal('24'), '12', 'Grocery/Supermarket'),\n",
       " (Decimal('25'), '13', 'Highway/Road/Alley/Street/Sidewalk'),\n",
       " (Decimal('26'), '14', 'Hotel/Motel/Etc.'),\n",
       " (Decimal('27'), '48', 'Industrial Site'),\n",
       " (Decimal('28'), '15', 'Jail/Prison/Penitentiary/Corrections Facility'),\n",
       " (Decimal('29'), '16', 'Lake/Waterway/Beach'),\n",
       " (Decimal('30'), '17', 'Liquor Store'),\n",
       " (Decimal('31'), '49', 'Military Installation'),\n",
       " (Decimal('32'), '50', 'Park/Playground'),\n",
       " (Decimal('33'), '18', 'Parking/Drop Lot/Garage'),\n",
       " (Decimal('34'), '19', 'Rental Storage Facility'),\n",
       " (Decimal('35'), '20', 'Residence/Home'),\n",
       " (Decimal('36'), '51', 'Rest Area'),\n",
       " (Decimal('37'), '21', 'Restaurant'),\n",
       " (Decimal('38'), '22', 'School/College'),\n",
       " (Decimal('39'), '52', 'School-College/University'),\n",
       " (Decimal('40'), '53', 'School-Elementary/Secondary'),\n",
       " (Decimal('41'), '23', 'Service/Gas Station'),\n",
       " (Decimal('42'), '54', 'Shelter-Mission/Homeless'),\n",
       " (Decimal('43'), '55', 'Shopping Mall'),\n",
       " (Decimal('44'), '24', 'Specialty Store'),\n",
       " (Decimal('45'), '56', 'Tribal Lands'),\n",
       " (Decimal('98'), '25', 'Other/Unknown'),\n",
       " (Decimal('99'), '00', 'Not Specified')]"
      ]
     },
     "execution_count": 26,
     "metadata": {},
     "output_type": "execute_result"
    }
   ],
   "source": [
    "%%sql\n",
    "SELECT *\n",
    "FROM NIBRS_Location_Type"
   ]
  },
  {
   "cell_type": "code",
   "execution_count": 27,
   "id": "8a2636cf-5f10-4c64-ab34-ed3517768132",
   "metadata": {},
   "outputs": [
    {
     "name": "stdout",
     "output_type": "stream",
     "text": [
      " * postgresql://student@/assignment2\n",
      "1 rows affected.\n"
     ]
    },
    {
     "data": {
      "text/html": [
       "<table>\n",
       "    <thead>\n",
       "        <tr>\n",
       "            <th>count</th>\n",
       "        </tr>\n",
       "    </thead>\n",
       "    <tbody>\n",
       "        <tr>\n",
       "            <td>47</td>\n",
       "        </tr>\n",
       "    </tbody>\n",
       "</table>"
      ],
      "text/plain": [
       "[(47,)]"
      ]
     },
     "execution_count": 27,
     "metadata": {},
     "output_type": "execute_result"
    }
   ],
   "source": [
    "%%sql\n",
    "SELECT COUNT(*) FROM NIBRS_Location_Type"
   ]
  },
  {
   "cell_type": "markdown",
   "id": "834aa7f4-9b31-4b2b-b289-86bba49fe5d9",
   "metadata": {},
   "source": [
    "!csvcut NIBRS_LOCATION_TYPE.csv | csvstat"
   ]
  },
  {
   "cell_type": "code",
   "execution_count": 28,
   "id": "18169c07-707b-4a28-9742-c9d0b5efa7f6",
   "metadata": {},
   "outputs": [
    {
     "name": "stdout",
     "output_type": "stream",
     "text": [
      "47\n"
     ]
    }
   ],
   "source": [
    "!xsv count NIBRS_LOCATION_TYPE.csv"
   ]
  },
  {
   "cell_type": "markdown",
   "id": "9380ef81-08ac-4cfd-99ee-d1dc110233ba",
   "metadata": {},
   "source": [
    "* We decided to use xsv instead of csvcut to run it more efficiently. "
   ]
  },
  {
   "cell_type": "markdown",
   "id": "2aac34db-47e5-4f17-9e35-ca0969145085",
   "metadata": {},
   "source": [
    "#### Create table of Offense Type"
   ]
  },
  {
   "cell_type": "markdown",
   "id": "27ebe803-d608-4415-96b7-56779c3f175a",
   "metadata": {},
   "source": [
    "* We removed the Offense_Type_ID as stated in the dictionary, because we are resonably sure there's no corresponding column on other files. \n",
    "* We substituted 'OFFENSE_TYPE_ID' with 'OFFENSE_CODE' in the 'NIBRS_OFFENSE_TYPE' entity and remove 'OFFENSE_TYPE_ID' from the 'NIBRS_OFFENSE_TYPE' entity in the data dictionary."
   ]
  },
  {
   "cell_type": "code",
   "execution_count": 29,
   "id": "c0329cbf-7c56-46ef-ad0b-67a3a3cd845b",
   "metadata": {},
   "outputs": [
    {
     "name": "stdout",
     "output_type": "stream",
     "text": [
      " * postgresql://student@/assignment2\n",
      "Done.\n",
      "Done.\n"
     ]
    },
    {
     "data": {
      "text/plain": [
       "[]"
      ]
     },
     "execution_count": 29,
     "metadata": {},
     "output_type": "execute_result"
    }
   ],
   "source": [
    "%%sql\n",
    "DROP TABLE IF EXISTS NIBRS_Offense_Type Cascade;\n",
    "\n",
    "CREATE TABLE NIBRS_Offense_Type(\n",
    "  Offense_Code varchar(5) NULL,\n",
    "  Offense_Name varchar(100) NULL,\n",
    "  Crime_Against varchar(100) NULL,\n",
    "  Offense_Category_Name varchar(100) NULL,\n",
    "  PRIMARY KEY (Offense_Code)\n",
    ");"
   ]
  },
  {
   "cell_type": "code",
   "execution_count": 30,
   "id": "04988564-8df4-40d6-b770-c8273de775e2",
   "metadata": {},
   "outputs": [
    {
     "name": "stdout",
     "output_type": "stream",
     "text": [
      " * postgresql://student@/assignment2\n",
      "Done.\n"
     ]
    },
    {
     "data": {
      "text/plain": [
       "[]"
      ]
     },
     "execution_count": 30,
     "metadata": {},
     "output_type": "execute_result"
    }
   ],
   "source": [
    "%%sql\n",
    "COMMENT ON TABLE NIBRS_Offense_Type IS\n",
    "'Offense Type table: holds information about a variety of offenses, such as the offense  unique identifier, the name of the offense, the entity against which the crime is committed, and the offenses category name';\n"
   ]
  },
  {
   "cell_type": "code",
   "execution_count": 31,
   "id": "4fe71f3f-a712-47d4-9e60-25113afa82bb",
   "metadata": {},
   "outputs": [
    {
     "name": "stdout",
     "output_type": "stream",
     "text": [
      " * postgresql://student@/assignment2\n",
      "1 rows affected.\n"
     ]
    },
    {
     "data": {
      "text/html": [
       "<table>\n",
       "    <thead>\n",
       "        <tr>\n",
       "            <th>obj_description</th>\n",
       "        </tr>\n",
       "    </thead>\n",
       "    <tbody>\n",
       "        <tr>\n",
       "            <td>Offense Type table: holds information about a variety of offenses, such as the offense  unique identifier, the name of the offense, the entity against which the crime is committed, and the offenses category name</td>\n",
       "        </tr>\n",
       "    </tbody>\n",
       "</table>"
      ],
      "text/plain": [
       "[('Offense Type table: holds information about a variety of offenses, such as the offense  unique identifier, the name of the offense, the entity against which the crime is committed, and the offenses category name',)]"
      ]
     },
     "execution_count": 31,
     "metadata": {},
     "output_type": "execute_result"
    }
   ],
   "source": [
    "%%sql\n",
    "SELECT obj_description(oid, 'pg_class')\n",
    "FROM pg_class\n",
    "WHERE upper(relname) = 'NIBRS_OFFENSE_TYPE';"
   ]
  },
  {
   "cell_type": "code",
   "execution_count": 32,
   "id": "c82a9dfd-1523-4899-91a7-56c054829d5b",
   "metadata": {},
   "outputs": [
    {
     "name": "stdout",
     "output_type": "stream",
     "text": [
      " * postgresql://student@/assignment2\n",
      "Done.\n",
      "Done.\n",
      "Done.\n",
      "Done.\n"
     ]
    },
    {
     "data": {
      "text/plain": [
       "[]"
      ]
     },
     "execution_count": 32,
     "metadata": {},
     "output_type": "execute_result"
    }
   ],
   "source": [
    "%%sql\n",
    "COMMENT ON COLUMN NIBRS_Offense_Type.Offense_Code IS 'NIBRS Offense Code';\n",
    "COMMENT ON COLUMN NIBRS_Offense_Type.Offense_Name IS 'NIBRS Offense name';\n",
    "COMMENT ON COLUMN NIBRS_Offense_Type.Crime_Against IS 'type of entity which is a crime against Person, Property, Society, Not a Crime - but tracked';\n",
    "COMMENT ON COLUMN NIBRS_Offense_Type.Offense_Category_Name IS 'The NIBRS category for this offense';"
   ]
  },
  {
   "cell_type": "code",
   "execution_count": 33,
   "id": "b2d442c6-711d-4eef-84ce-fa1188a6d31b",
   "metadata": {},
   "outputs": [
    {
     "name": "stdout",
     "output_type": "stream",
     "text": [
      " * postgresql://student@/assignment2\n",
      "4 rows affected.\n"
     ]
    },
    {
     "data": {
      "text/html": [
       "<table>\n",
       "    <thead>\n",
       "        <tr>\n",
       "            <th>column_name</th>\n",
       "            <th>col_description</th>\n",
       "        </tr>\n",
       "    </thead>\n",
       "    <tbody>\n",
       "        <tr>\n",
       "            <td>offense_code</td>\n",
       "            <td>NIBRS Offense Code</td>\n",
       "        </tr>\n",
       "        <tr>\n",
       "            <td>offense_name</td>\n",
       "            <td>NIBRS Offense name</td>\n",
       "        </tr>\n",
       "        <tr>\n",
       "            <td>crime_against</td>\n",
       "            <td>type of entity which is a crime against Person, Property, Society, Not a Crime - but tracked</td>\n",
       "        </tr>\n",
       "        <tr>\n",
       "            <td>offense_category_name</td>\n",
       "            <td>The NIBRS category for this offense</td>\n",
       "        </tr>\n",
       "    </tbody>\n",
       "</table>"
      ],
      "text/plain": [
       "[('offense_code', 'NIBRS Offense Code'),\n",
       " ('offense_name', 'NIBRS Offense name'),\n",
       " ('crime_against', 'type of entity which is a crime against Person, Property, Society, Not a Crime - but tracked'),\n",
       " ('offense_category_name', 'The NIBRS category for this offense')]"
      ]
     },
     "execution_count": 33,
     "metadata": {},
     "output_type": "execute_result"
    }
   ],
   "source": [
    "%%sql\n",
    "SELECT cols.column_name,\n",
    "pg_catalog.col_description(c.oid, cols.ordinal_position::int)\n",
    "FROM pg_catalog.pg_class c, information_schema.columns cols\n",
    "WHERE cols.table_name = c.relname  and upper(relname) = 'NIBRS_OFFENSE_TYPE';"
   ]
  },
  {
   "cell_type": "code",
   "execution_count": 34,
   "id": "2ab7afcc-ed37-48f5-88e5-9edbc75176fa",
   "metadata": {},
   "outputs": [
    {
     "name": "stdout",
     "output_type": "stream",
     "text": [
      "  1: offense_code\n",
      "  2: offense_name\n",
      "  3: crime_against\n",
      "  4: ct_flag\n",
      "  5: hc_flag\n",
      "  6: hc_code\n",
      "  7: offense_category_name\n",
      "  8: offense_group\n"
     ]
    }
   ],
   "source": [
    "!csvcut -n ~/notebooks/NIBRS_OFFENSE_TYPE.csv"
   ]
  },
  {
   "cell_type": "markdown",
   "id": "040f3436-645f-4aca-9411-a59c597f7c64",
   "metadata": {},
   "source": [
    "* The assigned csv file when review has additional columns which are not required for this assignment. Thus, we decided to remove the unnecessary columns before moving forward to the next step of building the tables. We used csvcut to remove the necessary columns and rename the file. "
   ]
  },
  {
   "cell_type": "code",
   "execution_count": 35,
   "id": "2697fe86-a732-4355-bda8-5861b4688784",
   "metadata": {},
   "outputs": [],
   "source": [
    "!csvcut -c 1,2,3,7 /home/ubuntu/notebooks/NIBRS_OFFENSE_TYPE.csv > /home/ubuntu/notebooks/NIBRS_OFFENSE_TYPE_F.csv"
   ]
  },
  {
   "cell_type": "code",
   "execution_count": 36,
   "id": "183ba96d-95ee-41f7-8ff8-63b8a06a3ca4",
   "metadata": {},
   "outputs": [
    {
     "name": "stdout",
     "output_type": "stream",
     "text": [
      " * postgresql://student@/assignment2\n",
      "86 rows affected.\n"
     ]
    },
    {
     "data": {
      "text/plain": [
       "[]"
      ]
     },
     "execution_count": 36,
     "metadata": {},
     "output_type": "execute_result"
    }
   ],
   "source": [
    "%%sql\n",
    "COPY NIBRS_Offense_Type FROM '/home/ubuntu/notebooks/NIBRS_OFFENSE_TYPE_F.csv'\n",
    "CSV\n",
    "HEADER;"
   ]
  },
  {
   "cell_type": "code",
   "execution_count": 37,
   "id": "5bed0180-c0a7-4487-8082-4ae31e586add",
   "metadata": {},
   "outputs": [
    {
     "name": "stdout",
     "output_type": "stream",
     "text": [
      " * postgresql://student@/assignment2\n",
      "86 rows affected.\n"
     ]
    },
    {
     "data": {
      "text/html": [
       "<table>\n",
       "    <thead>\n",
       "        <tr>\n",
       "            <th>offense_code</th>\n",
       "            <th>offense_name</th>\n",
       "            <th>crime_against</th>\n",
       "            <th>offense_category_name</th>\n",
       "        </tr>\n",
       "    </thead>\n",
       "    <tbody>\n",
       "        <tr>\n",
       "            <td>09A</td>\n",
       "            <td>Murder and Nonnegligent Manslaughter</td>\n",
       "            <td>Person</td>\n",
       "            <td>Homicide Offenses</td>\n",
       "        </tr>\n",
       "        <tr>\n",
       "            <td>09B</td>\n",
       "            <td>Negligent Manslaughter</td>\n",
       "            <td>Person</td>\n",
       "            <td>Homicide Offenses</td>\n",
       "        </tr>\n",
       "        <tr>\n",
       "            <td>09C</td>\n",
       "            <td>Justifiable Homicide</td>\n",
       "            <td>Person</td>\n",
       "            <td>Homicide Offenses</td>\n",
       "        </tr>\n",
       "        <tr>\n",
       "            <td>11A</td>\n",
       "            <td>Rape</td>\n",
       "            <td>Person</td>\n",
       "            <td>Sex Offenses</td>\n",
       "        </tr>\n",
       "        <tr>\n",
       "            <td>11B</td>\n",
       "            <td>Sodomy</td>\n",
       "            <td>Person</td>\n",
       "            <td>Sex Offenses</td>\n",
       "        </tr>\n",
       "        <tr>\n",
       "            <td>11C</td>\n",
       "            <td>Sexual Assault With An Object</td>\n",
       "            <td>Person</td>\n",
       "            <td>Sex Offenses</td>\n",
       "        </tr>\n",
       "        <tr>\n",
       "            <td>11D</td>\n",
       "            <td>Fondling</td>\n",
       "            <td>Person</td>\n",
       "            <td>Sex Offenses</td>\n",
       "        </tr>\n",
       "        <tr>\n",
       "            <td>120</td>\n",
       "            <td>Robbery</td>\n",
       "            <td>Property</td>\n",
       "            <td>Robbery</td>\n",
       "        </tr>\n",
       "        <tr>\n",
       "            <td>13A</td>\n",
       "            <td>Aggravated Assault</td>\n",
       "            <td>Person</td>\n",
       "            <td>Assault Offenses</td>\n",
       "        </tr>\n",
       "        <tr>\n",
       "            <td>220</td>\n",
       "            <td>Burglary/Breaking &amp; Entering</td>\n",
       "            <td>Property</td>\n",
       "            <td>Burglary/Breaking &amp; Entering</td>\n",
       "        </tr>\n",
       "        <tr>\n",
       "            <td>240</td>\n",
       "            <td>Motor Vehicle Theft</td>\n",
       "            <td>Property</td>\n",
       "            <td>Motor Vehicle Theft</td>\n",
       "        </tr>\n",
       "        <tr>\n",
       "            <td>23A</td>\n",
       "            <td>Pocket-picking</td>\n",
       "            <td>Property</td>\n",
       "            <td>Larceny/Theft Offenses</td>\n",
       "        </tr>\n",
       "        <tr>\n",
       "            <td>23B</td>\n",
       "            <td>Purse-snatching</td>\n",
       "            <td>Property</td>\n",
       "            <td>Larceny/Theft Offenses</td>\n",
       "        </tr>\n",
       "        <tr>\n",
       "            <td>23C</td>\n",
       "            <td>Shoplifting</td>\n",
       "            <td>Property</td>\n",
       "            <td>Larceny/Theft Offenses</td>\n",
       "        </tr>\n",
       "        <tr>\n",
       "            <td>23D</td>\n",
       "            <td>Theft From Building</td>\n",
       "            <td>Property</td>\n",
       "            <td>Larceny/Theft Offenses</td>\n",
       "        </tr>\n",
       "        <tr>\n",
       "            <td>23E</td>\n",
       "            <td>Theft From Coin-Operated Machine or Device</td>\n",
       "            <td>Property</td>\n",
       "            <td>Larceny/Theft Offenses</td>\n",
       "        </tr>\n",
       "        <tr>\n",
       "            <td>23F</td>\n",
       "            <td>Theft From Motor Vehicle</td>\n",
       "            <td>Property</td>\n",
       "            <td>Larceny/Theft Offenses</td>\n",
       "        </tr>\n",
       "        <tr>\n",
       "            <td>23G</td>\n",
       "            <td>Theft of Motor Vehicle Parts or Accessories</td>\n",
       "            <td>Property</td>\n",
       "            <td>Larceny/Theft Offenses</td>\n",
       "        </tr>\n",
       "        <tr>\n",
       "            <td>23H</td>\n",
       "            <td>All Other Larceny</td>\n",
       "            <td>Property</td>\n",
       "            <td>Larceny/Theft Offenses</td>\n",
       "        </tr>\n",
       "        <tr>\n",
       "            <td>23*</td>\n",
       "            <td>Not Specified</td>\n",
       "            <td>Property</td>\n",
       "            <td>Larceny/Theft Offenses</td>\n",
       "        </tr>\n",
       "        <tr>\n",
       "            <td>13B</td>\n",
       "            <td>Simple Assault</td>\n",
       "            <td>Person</td>\n",
       "            <td>Assault Offenses</td>\n",
       "        </tr>\n",
       "        <tr>\n",
       "            <td>13C</td>\n",
       "            <td>Intimidation</td>\n",
       "            <td>Person</td>\n",
       "            <td>Assault Offenses</td>\n",
       "        </tr>\n",
       "        <tr>\n",
       "            <td>100</td>\n",
       "            <td>Kidnapping/Abduction</td>\n",
       "            <td>Person</td>\n",
       "            <td>Kidnapping/Abduction</td>\n",
       "        </tr>\n",
       "        <tr>\n",
       "            <td>200</td>\n",
       "            <td>Arson</td>\n",
       "            <td>Property</td>\n",
       "            <td>Arson</td>\n",
       "        </tr>\n",
       "        <tr>\n",
       "            <td>210</td>\n",
       "            <td>Extortion/Blackmail</td>\n",
       "            <td>Property</td>\n",
       "            <td>Extortion/Blackmail</td>\n",
       "        </tr>\n",
       "        <tr>\n",
       "            <td>250</td>\n",
       "            <td>Counterfeiting/Forgery</td>\n",
       "            <td>Property</td>\n",
       "            <td>Counterfeiting/Forgery</td>\n",
       "        </tr>\n",
       "        <tr>\n",
       "            <td>26A</td>\n",
       "            <td>False Pretenses/Swindle/Confidence Game</td>\n",
       "            <td>Property</td>\n",
       "            <td>Fraud Offenses</td>\n",
       "        </tr>\n",
       "        <tr>\n",
       "            <td>26B</td>\n",
       "            <td>Credit Card/Automated Teller Machine Fraud</td>\n",
       "            <td>Property</td>\n",
       "            <td>Fraud Offenses</td>\n",
       "        </tr>\n",
       "        <tr>\n",
       "            <td>26C</td>\n",
       "            <td>Impersonation</td>\n",
       "            <td>Property</td>\n",
       "            <td>Fraud Offenses</td>\n",
       "        </tr>\n",
       "        <tr>\n",
       "            <td>26D</td>\n",
       "            <td>Welfare Fraud</td>\n",
       "            <td>Property</td>\n",
       "            <td>Fraud Offenses</td>\n",
       "        </tr>\n",
       "        <tr>\n",
       "            <td>26E</td>\n",
       "            <td>Wire Fraud</td>\n",
       "            <td>Property</td>\n",
       "            <td>Fraud Offenses</td>\n",
       "        </tr>\n",
       "        <tr>\n",
       "            <td>26F</td>\n",
       "            <td>Identity Theft</td>\n",
       "            <td>Property</td>\n",
       "            <td>Fraud Offenses</td>\n",
       "        </tr>\n",
       "        <tr>\n",
       "            <td>26G</td>\n",
       "            <td>Hacking/Computer Invasion</td>\n",
       "            <td>Property</td>\n",
       "            <td>Fraud Offenses</td>\n",
       "        </tr>\n",
       "        <tr>\n",
       "            <td>270</td>\n",
       "            <td>Embezzlement</td>\n",
       "            <td>Property</td>\n",
       "            <td>Embezzlement</td>\n",
       "        </tr>\n",
       "        <tr>\n",
       "            <td>280</td>\n",
       "            <td>Stolen Property Offenses</td>\n",
       "            <td>Property</td>\n",
       "            <td>Stolen Property Offenses</td>\n",
       "        </tr>\n",
       "        <tr>\n",
       "            <td>290</td>\n",
       "            <td>Destruction/Damage/Vandalism of Property</td>\n",
       "            <td>Property</td>\n",
       "            <td>Destruction/Damage/Vandalism of Property</td>\n",
       "        </tr>\n",
       "        <tr>\n",
       "            <td>35A</td>\n",
       "            <td>Drug/Narcotic Violations</td>\n",
       "            <td>Society</td>\n",
       "            <td>Drug/Narcotic Offenses</td>\n",
       "        </tr>\n",
       "        <tr>\n",
       "            <td>35B</td>\n",
       "            <td>Drug Equipment Violations</td>\n",
       "            <td>Society</td>\n",
       "            <td>Drug/Narcotic Offenses</td>\n",
       "        </tr>\n",
       "        <tr>\n",
       "            <td>36A</td>\n",
       "            <td>Incest</td>\n",
       "            <td>Person</td>\n",
       "            <td>Sex Offenses, Non-forcible</td>\n",
       "        </tr>\n",
       "        <tr>\n",
       "            <td>36B</td>\n",
       "            <td>Statutory Rape</td>\n",
       "            <td>Person</td>\n",
       "            <td>Sex Offenses, Non-forcible</td>\n",
       "        </tr>\n",
       "        <tr>\n",
       "            <td>370</td>\n",
       "            <td>Pornography/Obscene Material</td>\n",
       "            <td>Society</td>\n",
       "            <td>Pornography/Obscene Material</td>\n",
       "        </tr>\n",
       "        <tr>\n",
       "            <td>39A</td>\n",
       "            <td>Betting/Wagering</td>\n",
       "            <td>Society</td>\n",
       "            <td>Gambling Offenses</td>\n",
       "        </tr>\n",
       "        <tr>\n",
       "            <td>39B</td>\n",
       "            <td>Operating/Promoting/Assisting Gambling</td>\n",
       "            <td>Society</td>\n",
       "            <td>Gambling Offenses</td>\n",
       "        </tr>\n",
       "        <tr>\n",
       "            <td>39C</td>\n",
       "            <td>Gambling Equipment Violation</td>\n",
       "            <td>Society</td>\n",
       "            <td>Gambling Offenses</td>\n",
       "        </tr>\n",
       "        <tr>\n",
       "            <td>39D</td>\n",
       "            <td>Sports Tampering</td>\n",
       "            <td>Society</td>\n",
       "            <td>Gambling Offenses</td>\n",
       "        </tr>\n",
       "        <tr>\n",
       "            <td>40A</td>\n",
       "            <td>Prostitution</td>\n",
       "            <td>Society</td>\n",
       "            <td>Prostitution Offenses</td>\n",
       "        </tr>\n",
       "        <tr>\n",
       "            <td>40B</td>\n",
       "            <td>Assisting or Promoting Prostitution</td>\n",
       "            <td>Society</td>\n",
       "            <td>Prostitution Offenses</td>\n",
       "        </tr>\n",
       "        <tr>\n",
       "            <td>40C</td>\n",
       "            <td>Purchasing Prostitution</td>\n",
       "            <td>Society</td>\n",
       "            <td>Prostitution Offenses</td>\n",
       "        </tr>\n",
       "        <tr>\n",
       "            <td>510</td>\n",
       "            <td>Bribery</td>\n",
       "            <td>Property</td>\n",
       "            <td>Bribery</td>\n",
       "        </tr>\n",
       "        <tr>\n",
       "            <td>520</td>\n",
       "            <td>Weapon Law Violations</td>\n",
       "            <td>Society</td>\n",
       "            <td>Weapon Law Violations</td>\n",
       "        </tr>\n",
       "        <tr>\n",
       "            <td>64A</td>\n",
       "            <td>Human Trafficking, Commercial Sex Acts</td>\n",
       "            <td>Person</td>\n",
       "            <td>Human Trafficking</td>\n",
       "        </tr>\n",
       "        <tr>\n",
       "            <td>64B</td>\n",
       "            <td>Human Trafficking, Involuntary Servitude</td>\n",
       "            <td>Person</td>\n",
       "            <td>Human Trafficking</td>\n",
       "        </tr>\n",
       "        <tr>\n",
       "            <td>58B</td>\n",
       "            <td>Export Violations</td>\n",
       "            <td>Society</td>\n",
       "            <td>Other Offenses</td>\n",
       "        </tr>\n",
       "        <tr>\n",
       "            <td>58A</td>\n",
       "            <td>Import Violations</td>\n",
       "            <td>Society</td>\n",
       "            <td>Other Offenses</td>\n",
       "        </tr>\n",
       "        <tr>\n",
       "            <td>61A</td>\n",
       "            <td>Federal Liquor Offenses</td>\n",
       "            <td>Society</td>\n",
       "            <td>Other Offenses</td>\n",
       "        </tr>\n",
       "        <tr>\n",
       "            <td>61B</td>\n",
       "            <td>Federal Tobacco Offenses</td>\n",
       "            <td>Society</td>\n",
       "            <td>Other Offenses</td>\n",
       "        </tr>\n",
       "        <tr>\n",
       "            <td>49C</td>\n",
       "            <td>Flight to Avoid Deportation</td>\n",
       "            <td>Society</td>\n",
       "            <td>Other Offenses</td>\n",
       "        </tr>\n",
       "        <tr>\n",
       "            <td>26H</td>\n",
       "            <td>Money Laundering</td>\n",
       "            <td>Society</td>\n",
       "            <td>Other Offenses</td>\n",
       "        </tr>\n",
       "        <tr>\n",
       "            <td>620</td>\n",
       "            <td>Wildlife Trafficking</td>\n",
       "            <td>Society</td>\n",
       "            <td>Other Offenses</td>\n",
       "        </tr>\n",
       "        <tr>\n",
       "            <td>49B</td>\n",
       "            <td>Flight to Avoid Prosecution</td>\n",
       "            <td>Society</td>\n",
       "            <td>Other Offenses</td>\n",
       "        </tr>\n",
       "        <tr>\n",
       "            <td>49A</td>\n",
       "            <td>Harboring Escapee/Concealing from Arrest</td>\n",
       "            <td>Society</td>\n",
       "            <td>Other Offenses</td>\n",
       "        </tr>\n",
       "        <tr>\n",
       "            <td>360</td>\n",
       "            <td>Failure to Register as a Sex Offender</td>\n",
       "            <td>Society</td>\n",
       "            <td>Other Offenses</td>\n",
       "        </tr>\n",
       "        <tr>\n",
       "            <td>526</td>\n",
       "            <td>Explosives Violation</td>\n",
       "            <td>Society</td>\n",
       "            <td>Other Offenses</td>\n",
       "        </tr>\n",
       "        <tr>\n",
       "            <td>522</td>\n",
       "            <td>Weapons of Mass Destruction</td>\n",
       "            <td>Society</td>\n",
       "            <td>Other Offenses</td>\n",
       "        </tr>\n",
       "        <tr>\n",
       "            <td>521</td>\n",
       "            <td>Violation of National Firearm Act of 1934</td>\n",
       "            <td>Society</td>\n",
       "            <td>Other Offenses</td>\n",
       "        </tr>\n",
       "        <tr>\n",
       "            <td>101</td>\n",
       "            <td>Treason</td>\n",
       "            <td>Society</td>\n",
       "            <td>Other Offenses</td>\n",
       "        </tr>\n",
       "        <tr>\n",
       "            <td>103</td>\n",
       "            <td>Espionage</td>\n",
       "            <td>Society</td>\n",
       "            <td>Other Offenses</td>\n",
       "        </tr>\n",
       "        <tr>\n",
       "            <td>30A</td>\n",
       "            <td>Illegal Entry into the United States</td>\n",
       "            <td>Society</td>\n",
       "            <td>Other Offenses</td>\n",
       "        </tr>\n",
       "        <tr>\n",
       "            <td>30B</td>\n",
       "            <td>False Citizenship</td>\n",
       "            <td>Society</td>\n",
       "            <td>Other Offenses</td>\n",
       "        </tr>\n",
       "        <tr>\n",
       "            <td>30C</td>\n",
       "            <td>Smuggling Aliens</td>\n",
       "            <td>Society</td>\n",
       "            <td>Other Offenses</td>\n",
       "        </tr>\n",
       "        <tr>\n",
       "            <td>30D</td>\n",
       "            <td>Re-entry after Deportation</td>\n",
       "            <td>Society</td>\n",
       "            <td>Other Offenses</td>\n",
       "        </tr>\n",
       "        <tr>\n",
       "            <td>720</td>\n",
       "            <td>Animal Cruelty</td>\n",
       "            <td>Society</td>\n",
       "            <td>Animal Cruelty</td>\n",
       "        </tr>\n",
       "        <tr>\n",
       "            <td>90A</td>\n",
       "            <td>Bad Checks</td>\n",
       "            <td>Property</td>\n",
       "            <td>Bad Checks</td>\n",
       "        </tr>\n",
       "        <tr>\n",
       "            <td>90B</td>\n",
       "            <td>Curfew/Loitering/Vagrancy Violations</td>\n",
       "            <td>Society</td>\n",
       "            <td>Curfew/Loitering/Vagrancy Violations</td>\n",
       "        </tr>\n",
       "        <tr>\n",
       "            <td>90C</td>\n",
       "            <td>Disorderly Conduct</td>\n",
       "            <td>Society</td>\n",
       "            <td>Disorderly Conduct</td>\n",
       "        </tr>\n",
       "        <tr>\n",
       "            <td>90D</td>\n",
       "            <td>Driving Under the Influence</td>\n",
       "            <td>Society</td>\n",
       "            <td>Driving Under the Influence</td>\n",
       "        </tr>\n",
       "        <tr>\n",
       "            <td>90E</td>\n",
       "            <td>Drunkenness</td>\n",
       "            <td>Society</td>\n",
       "            <td>Drunkenness</td>\n",
       "        </tr>\n",
       "        <tr>\n",
       "            <td>90F</td>\n",
       "            <td>Family Offenses, Nonviolent</td>\n",
       "            <td>Person</td>\n",
       "            <td>Family Offenses, Nonviolent</td>\n",
       "        </tr>\n",
       "        <tr>\n",
       "            <td>90G</td>\n",
       "            <td>Liquor Law Violations</td>\n",
       "            <td>Society</td>\n",
       "            <td>Liquor Law Violations</td>\n",
       "        </tr>\n",
       "        <tr>\n",
       "            <td>90H</td>\n",
       "            <td>Peeping Tom</td>\n",
       "            <td>Person</td>\n",
       "            <td>Peeping Tom</td>\n",
       "        </tr>\n",
       "        <tr>\n",
       "            <td>90J</td>\n",
       "            <td>Trespass of Real Property</td>\n",
       "            <td>Society</td>\n",
       "            <td>Trespass of Real Property</td>\n",
       "        </tr>\n",
       "        <tr>\n",
       "            <td>90Z</td>\n",
       "            <td>All Other Offenses</td>\n",
       "            <td>Society</td>\n",
       "            <td>All Other Offenses</td>\n",
       "        </tr>\n",
       "        <tr>\n",
       "            <td>90K</td>\n",
       "            <td>Failure to Appear</td>\n",
       "            <td>Society</td>\n",
       "            <td>Other Offenses</td>\n",
       "        </tr>\n",
       "        <tr>\n",
       "            <td>90L</td>\n",
       "            <td>Federal Resource Violations</td>\n",
       "            <td>Society</td>\n",
       "            <td>Other Offenses</td>\n",
       "        </tr>\n",
       "        <tr>\n",
       "            <td>90M</td>\n",
       "            <td>Perjury</td>\n",
       "            <td>Society</td>\n",
       "            <td>Other Offenses</td>\n",
       "        </tr>\n",
       "        <tr>\n",
       "            <td>90I</td>\n",
       "            <td>Runaway</td>\n",
       "            <td>Not a Crime</td>\n",
       "            <td>Other Offenses</td>\n",
       "        </tr>\n",
       "    </tbody>\n",
       "</table>"
      ],
      "text/plain": [
       "[('09A', 'Murder and Nonnegligent Manslaughter', 'Person', 'Homicide Offenses'),\n",
       " ('09B', 'Negligent Manslaughter', 'Person', 'Homicide Offenses'),\n",
       " ('09C', 'Justifiable Homicide', 'Person', 'Homicide Offenses'),\n",
       " ('11A', 'Rape', 'Person', 'Sex Offenses'),\n",
       " ('11B', 'Sodomy', 'Person', 'Sex Offenses'),\n",
       " ('11C', 'Sexual Assault With An Object', 'Person', 'Sex Offenses'),\n",
       " ('11D', 'Fondling', 'Person', 'Sex Offenses'),\n",
       " ('120', 'Robbery', 'Property', 'Robbery'),\n",
       " ('13A', 'Aggravated Assault', 'Person', 'Assault Offenses'),\n",
       " ('220', 'Burglary/Breaking & Entering', 'Property', 'Burglary/Breaking & Entering'),\n",
       " ('240', 'Motor Vehicle Theft', 'Property', 'Motor Vehicle Theft'),\n",
       " ('23A', 'Pocket-picking', 'Property', 'Larceny/Theft Offenses'),\n",
       " ('23B', 'Purse-snatching', 'Property', 'Larceny/Theft Offenses'),\n",
       " ('23C', 'Shoplifting', 'Property', 'Larceny/Theft Offenses'),\n",
       " ('23D', 'Theft From Building', 'Property', 'Larceny/Theft Offenses'),\n",
       " ('23E', 'Theft From Coin-Operated Machine or Device', 'Property', 'Larceny/Theft Offenses'),\n",
       " ('23F', 'Theft From Motor Vehicle', 'Property', 'Larceny/Theft Offenses'),\n",
       " ('23G', 'Theft of Motor Vehicle Parts or Accessories', 'Property', 'Larceny/Theft Offenses'),\n",
       " ('23H', 'All Other Larceny', 'Property', 'Larceny/Theft Offenses'),\n",
       " ('23*', 'Not Specified', 'Property', 'Larceny/Theft Offenses'),\n",
       " ('13B', 'Simple Assault', 'Person', 'Assault Offenses'),\n",
       " ('13C', 'Intimidation', 'Person', 'Assault Offenses'),\n",
       " ('100', 'Kidnapping/Abduction', 'Person', 'Kidnapping/Abduction'),\n",
       " ('200', 'Arson', 'Property', 'Arson'),\n",
       " ('210', 'Extortion/Blackmail', 'Property', 'Extortion/Blackmail'),\n",
       " ('250', 'Counterfeiting/Forgery', 'Property', 'Counterfeiting/Forgery'),\n",
       " ('26A', 'False Pretenses/Swindle/Confidence Game', 'Property', 'Fraud Offenses'),\n",
       " ('26B', 'Credit Card/Automated Teller Machine Fraud', 'Property', 'Fraud Offenses'),\n",
       " ('26C', 'Impersonation', 'Property', 'Fraud Offenses'),\n",
       " ('26D', 'Welfare Fraud', 'Property', 'Fraud Offenses'),\n",
       " ('26E', 'Wire Fraud', 'Property', 'Fraud Offenses'),\n",
       " ('26F', 'Identity Theft', 'Property', 'Fraud Offenses'),\n",
       " ('26G', 'Hacking/Computer Invasion', 'Property', 'Fraud Offenses'),\n",
       " ('270', 'Embezzlement', 'Property', 'Embezzlement'),\n",
       " ('280', 'Stolen Property Offenses', 'Property', 'Stolen Property Offenses'),\n",
       " ('290', 'Destruction/Damage/Vandalism of Property', 'Property', 'Destruction/Damage/Vandalism of Property'),\n",
       " ('35A', 'Drug/Narcotic Violations', 'Society', 'Drug/Narcotic Offenses'),\n",
       " ('35B', 'Drug Equipment Violations', 'Society', 'Drug/Narcotic Offenses'),\n",
       " ('36A', 'Incest', 'Person', 'Sex Offenses, Non-forcible'),\n",
       " ('36B', 'Statutory Rape', 'Person', 'Sex Offenses, Non-forcible'),\n",
       " ('370', 'Pornography/Obscene Material', 'Society', 'Pornography/Obscene Material'),\n",
       " ('39A', 'Betting/Wagering', 'Society', 'Gambling Offenses'),\n",
       " ('39B', 'Operating/Promoting/Assisting Gambling', 'Society', 'Gambling Offenses'),\n",
       " ('39C', 'Gambling Equipment Violation', 'Society', 'Gambling Offenses'),\n",
       " ('39D', 'Sports Tampering', 'Society', 'Gambling Offenses'),\n",
       " ('40A', 'Prostitution', 'Society', 'Prostitution Offenses'),\n",
       " ('40B', 'Assisting or Promoting Prostitution', 'Society', 'Prostitution Offenses'),\n",
       " ('40C', 'Purchasing Prostitution', 'Society', 'Prostitution Offenses'),\n",
       " ('510', 'Bribery', 'Property', 'Bribery'),\n",
       " ('520', 'Weapon Law Violations', 'Society', 'Weapon Law Violations'),\n",
       " ('64A', 'Human Trafficking, Commercial Sex Acts', 'Person', 'Human Trafficking'),\n",
       " ('64B', 'Human Trafficking, Involuntary Servitude', 'Person', 'Human Trafficking'),\n",
       " ('58B', 'Export Violations', 'Society', 'Other Offenses'),\n",
       " ('58A', 'Import Violations', 'Society', 'Other Offenses'),\n",
       " ('61A', 'Federal Liquor Offenses', 'Society', 'Other Offenses'),\n",
       " ('61B', 'Federal Tobacco Offenses', 'Society', 'Other Offenses'),\n",
       " ('49C', 'Flight to Avoid Deportation', 'Society', 'Other Offenses'),\n",
       " ('26H', 'Money Laundering', 'Society', 'Other Offenses'),\n",
       " ('620', 'Wildlife Trafficking', 'Society', 'Other Offenses'),\n",
       " ('49B', 'Flight to Avoid Prosecution', 'Society', 'Other Offenses'),\n",
       " ('49A', 'Harboring Escapee/Concealing from Arrest', 'Society', 'Other Offenses'),\n",
       " ('360', 'Failure to Register as a Sex Offender', 'Society', 'Other Offenses'),\n",
       " ('526', 'Explosives Violation', 'Society', 'Other Offenses'),\n",
       " ('522', 'Weapons of Mass Destruction', 'Society', 'Other Offenses'),\n",
       " ('521', 'Violation of National Firearm Act of 1934', 'Society', 'Other Offenses'),\n",
       " ('101', 'Treason', 'Society', 'Other Offenses'),\n",
       " ('103', 'Espionage', 'Society', 'Other Offenses'),\n",
       " ('30A', 'Illegal Entry into the United States', 'Society', 'Other Offenses'),\n",
       " ('30B', 'False Citizenship', 'Society', 'Other Offenses'),\n",
       " ('30C', 'Smuggling Aliens', 'Society', 'Other Offenses'),\n",
       " ('30D', 'Re-entry after Deportation', 'Society', 'Other Offenses'),\n",
       " ('720', 'Animal Cruelty', 'Society', 'Animal Cruelty'),\n",
       " ('90A', 'Bad Checks', 'Property', 'Bad Checks'),\n",
       " ('90B', 'Curfew/Loitering/Vagrancy Violations', 'Society', 'Curfew/Loitering/Vagrancy Violations'),\n",
       " ('90C', 'Disorderly Conduct', 'Society', 'Disorderly Conduct'),\n",
       " ('90D', 'Driving Under the Influence', 'Society', 'Driving Under the Influence'),\n",
       " ('90E', 'Drunkenness', 'Society', 'Drunkenness'),\n",
       " ('90F', 'Family Offenses, Nonviolent', 'Person', 'Family Offenses, Nonviolent'),\n",
       " ('90G', 'Liquor Law Violations', 'Society', 'Liquor Law Violations'),\n",
       " ('90H', 'Peeping Tom', 'Person', 'Peeping Tom'),\n",
       " ('90J', 'Trespass of Real Property', 'Society', 'Trespass of Real Property'),\n",
       " ('90Z', 'All Other Offenses', 'Society', 'All Other Offenses'),\n",
       " ('90K', 'Failure to Appear', 'Society', 'Other Offenses'),\n",
       " ('90L', 'Federal Resource Violations', 'Society', 'Other Offenses'),\n",
       " ('90M', 'Perjury', 'Society', 'Other Offenses'),\n",
       " ('90I', 'Runaway', 'Not a Crime', 'Other Offenses')]"
      ]
     },
     "execution_count": 37,
     "metadata": {},
     "output_type": "execute_result"
    }
   ],
   "source": [
    "%%sql\n",
    "SELECT *\n",
    "FROM NIBRS_Offense_Type"
   ]
  },
  {
   "cell_type": "code",
   "execution_count": 38,
   "id": "40504658-6967-4a7b-b456-c30a63203335",
   "metadata": {},
   "outputs": [
    {
     "name": "stdout",
     "output_type": "stream",
     "text": [
      " * postgresql://student@/assignment2\n",
      "1 rows affected.\n"
     ]
    },
    {
     "data": {
      "text/html": [
       "<table>\n",
       "    <thead>\n",
       "        <tr>\n",
       "            <th>count</th>\n",
       "        </tr>\n",
       "    </thead>\n",
       "    <tbody>\n",
       "        <tr>\n",
       "            <td>86</td>\n",
       "        </tr>\n",
       "    </tbody>\n",
       "</table>"
      ],
      "text/plain": [
       "[(86,)]"
      ]
     },
     "execution_count": 38,
     "metadata": {},
     "output_type": "execute_result"
    }
   ],
   "source": [
    "%%sql\n",
    "SELECT COUNT(*) FROM NIBRS_OFFENSE_TYPE"
   ]
  },
  {
   "cell_type": "markdown",
   "id": "0b8f51a7-d34f-4f08-9344-e3b8daa930a8",
   "metadata": {},
   "source": [
    "!csvcut NIBRS_OFFENSE_TYPE_F.csv | csvstat"
   ]
  },
  {
   "cell_type": "code",
   "execution_count": 39,
   "id": "80763e5d-0572-464b-b928-a71d7fb55000",
   "metadata": {},
   "outputs": [
    {
     "name": "stdout",
     "output_type": "stream",
     "text": [
      "86\n"
     ]
    }
   ],
   "source": [
    "!xsv count NIBRS_OFFENSE_TYPE_F.csv"
   ]
  },
  {
   "cell_type": "markdown",
   "id": "4798c3ee-6edc-47a0-a8ef-ea90a5004a3f",
   "metadata": {},
   "source": [
    "* We decided to use xsv instead of csvcut to run it more efficiently. "
   ]
  },
  {
   "cell_type": "markdown",
   "id": "a209f0d8-7c3a-49df-8314-0a5836a36eb0",
   "metadata": {},
   "source": [
    "#### Create table of Relationship."
   ]
  },
  {
   "cell_type": "code",
   "execution_count": 40,
   "id": "5a37a952-76a4-42c9-a54e-e7ea6b1f2ad6",
   "metadata": {},
   "outputs": [
    {
     "name": "stdout",
     "output_type": "stream",
     "text": [
      " * postgresql://student@/assignment2\n",
      "Done.\n",
      "Done.\n"
     ]
    },
    {
     "data": {
      "text/plain": [
       "[]"
      ]
     },
     "execution_count": 40,
     "metadata": {},
     "output_type": "execute_result"
    }
   ],
   "source": [
    "%%sql\n",
    "DROP TABLE IF EXISTS NIBRS_Relationship Cascade;\n",
    "\n",
    "CREATE TABLE NIBRS_Relationship(\n",
    "  Relationship_ID numeric(4) NOT NULL,\n",
    "  Relationship_Code char(2) NULL,\n",
    "  Relationship_Name varchar(100) NULL,\n",
    "  PRIMARY KEY (Relationship_ID)\n",
    ");"
   ]
  },
  {
   "cell_type": "code",
   "execution_count": 41,
   "id": "bcce6408-0de9-4258-8526-29791602b224",
   "metadata": {},
   "outputs": [
    {
     "name": "stdout",
     "output_type": "stream",
     "text": [
      " * postgresql://student@/assignment2\n",
      "Done.\n"
     ]
    },
    {
     "data": {
      "text/plain": [
       "[]"
      ]
     },
     "execution_count": 41,
     "metadata": {},
     "output_type": "execute_result"
    }
   ],
   "source": [
    "%%sql\n",
    "\n",
    "COMMENT ON TABLE NIBRS_Relationship IS\n",
    "'Relationship table: holds information on relationships between entities, such as a unique identifier, a code for the type of relationship, and a descriptive name';\n"
   ]
  },
  {
   "cell_type": "code",
   "execution_count": 42,
   "id": "355548aa-2340-4c0c-922d-e7db64fe6958",
   "metadata": {},
   "outputs": [
    {
     "name": "stdout",
     "output_type": "stream",
     "text": [
      " * postgresql://student@/assignment2\n",
      "1 rows affected.\n"
     ]
    },
    {
     "data": {
      "text/html": [
       "<table>\n",
       "    <thead>\n",
       "        <tr>\n",
       "            <th>obj_description</th>\n",
       "        </tr>\n",
       "    </thead>\n",
       "    <tbody>\n",
       "        <tr>\n",
       "            <td>Relationship table: holds information on relationships between entities, such as a unique identifier, a code for the type of relationship, and a descriptive name</td>\n",
       "        </tr>\n",
       "    </tbody>\n",
       "</table>"
      ],
      "text/plain": [
       "[('Relationship table: holds information on relationships between entities, such as a unique identifier, a code for the type of relationship, and a descriptive name',)]"
      ]
     },
     "execution_count": 42,
     "metadata": {},
     "output_type": "execute_result"
    }
   ],
   "source": [
    "%%sql\n",
    "SELECT obj_description(oid, 'pg_class')\n",
    "FROM pg_class\n",
    "WHERE upper(relname) = 'NIBRS_RELATIONSHIP';"
   ]
  },
  {
   "cell_type": "code",
   "execution_count": 43,
   "id": "b8afa83d-9a22-48cb-9156-d0127bd3d7c8",
   "metadata": {},
   "outputs": [
    {
     "name": "stdout",
     "output_type": "stream",
     "text": [
      " * postgresql://student@/assignment2\n",
      "Done.\n",
      "Done.\n",
      "Done.\n"
     ]
    },
    {
     "data": {
      "text/plain": [
       "[]"
      ]
     },
     "execution_count": 43,
     "metadata": {},
     "output_type": "execute_result"
    }
   ],
   "source": [
    "%%sql\n",
    "COMMENT ON COLUMN NIBRS_Relationship.Relationship_ID IS 'Internal ID of the relationship';\n",
    "COMMENT ON COLUMN NIBRS_Relationship.Relationship_Code IS 'Relationship code';\n",
    "COMMENT ON COLUMN NIBRS_Relationship.Relationship_Name IS 'Relationship name';"
   ]
  },
  {
   "cell_type": "code",
   "execution_count": 44,
   "id": "d3065006-ee65-4cdb-8995-63bdb132108e",
   "metadata": {},
   "outputs": [
    {
     "name": "stdout",
     "output_type": "stream",
     "text": [
      " * postgresql://student@/assignment2\n",
      "3 rows affected.\n"
     ]
    },
    {
     "data": {
      "text/html": [
       "<table>\n",
       "    <thead>\n",
       "        <tr>\n",
       "            <th>column_name</th>\n",
       "            <th>col_description</th>\n",
       "        </tr>\n",
       "    </thead>\n",
       "    <tbody>\n",
       "        <tr>\n",
       "            <td>relationship_id</td>\n",
       "            <td>Internal ID of the relationship</td>\n",
       "        </tr>\n",
       "        <tr>\n",
       "            <td>relationship_code</td>\n",
       "            <td>Relationship code</td>\n",
       "        </tr>\n",
       "        <tr>\n",
       "            <td>relationship_name</td>\n",
       "            <td>Relationship name</td>\n",
       "        </tr>\n",
       "    </tbody>\n",
       "</table>"
      ],
      "text/plain": [
       "[('relationship_id', 'Internal ID of the relationship'),\n",
       " ('relationship_code', 'Relationship code'),\n",
       " ('relationship_name', 'Relationship name')]"
      ]
     },
     "execution_count": 44,
     "metadata": {},
     "output_type": "execute_result"
    }
   ],
   "source": [
    "%%sql\n",
    "SELECT cols.column_name,\n",
    "pg_catalog.col_description(c.oid, cols.ordinal_position::int)\n",
    "FROM pg_catalog.pg_class c, information_schema.columns cols\n",
    " WHERE cols.table_name = c.relname  and upper(relname) = 'NIBRS_RELATIONSHIP';"
   ]
  },
  {
   "cell_type": "code",
   "execution_count": 45,
   "id": "6688289f-483e-47a5-83ba-c597f8dcefd2",
   "metadata": {},
   "outputs": [
    {
     "name": "stdout",
     "output_type": "stream",
     "text": [
      "  1: relationship_id\n",
      "  2: relationship_code\n",
      "  3: relationship_name\n"
     ]
    }
   ],
   "source": [
    "!csvcut -n ~/notebooks/NIBRS_RELATIONSHIP.csv"
   ]
  },
  {
   "cell_type": "code",
   "execution_count": 46,
   "id": "6f86ec2d-e98e-4958-93a1-742b91632dc1",
   "metadata": {},
   "outputs": [
    {
     "name": "stdout",
     "output_type": "stream",
     "text": [
      " * postgresql://student@/assignment2\n",
      "27 rows affected.\n"
     ]
    },
    {
     "data": {
      "text/plain": [
       "[]"
      ]
     },
     "execution_count": 46,
     "metadata": {},
     "output_type": "execute_result"
    }
   ],
   "source": [
    "%%sql\n",
    "COPY NIBRS_RELATIONSHIP FROM '/home/ubuntu/notebooks/NIBRS_RELATIONSHIP.csv'\n",
    "CSV\n",
    "HEADER;"
   ]
  },
  {
   "cell_type": "code",
   "execution_count": 47,
   "id": "fae7e9ba-4872-488f-9a63-11f391ef099a",
   "metadata": {},
   "outputs": [
    {
     "name": "stdout",
     "output_type": "stream",
     "text": [
      " * postgresql://student@/assignment2\n",
      "27 rows affected.\n"
     ]
    },
    {
     "data": {
      "text/html": [
       "<table>\n",
       "    <thead>\n",
       "        <tr>\n",
       "            <th>relationship_id</th>\n",
       "            <th>relationship_code</th>\n",
       "            <th>relationship_name</th>\n",
       "        </tr>\n",
       "    </thead>\n",
       "    <tbody>\n",
       "        <tr>\n",
       "            <td>1</td>\n",
       "            <td>AQ</td>\n",
       "            <td>Victim Was Acquaintance</td>\n",
       "        </tr>\n",
       "        <tr>\n",
       "            <td>2</td>\n",
       "            <td>BE</td>\n",
       "            <td>Victim Was Babysittee</td>\n",
       "        </tr>\n",
       "        <tr>\n",
       "            <td>3</td>\n",
       "            <td>BG</td>\n",
       "            <td>Victim Was Boyfriend/Girlfriend</td>\n",
       "        </tr>\n",
       "        <tr>\n",
       "            <td>4</td>\n",
       "            <td>CF</td>\n",
       "            <td>Victim Was Child of Boyfriend or Girlfriend</td>\n",
       "        </tr>\n",
       "        <tr>\n",
       "            <td>5</td>\n",
       "            <td>CH</td>\n",
       "            <td>Victim Was Child</td>\n",
       "        </tr>\n",
       "        <tr>\n",
       "            <td>6</td>\n",
       "            <td>CS</td>\n",
       "            <td>Victim Was Common-Law Spouse</td>\n",
       "        </tr>\n",
       "        <tr>\n",
       "            <td>7</td>\n",
       "            <td>EE</td>\n",
       "            <td>Victim was Employee</td>\n",
       "        </tr>\n",
       "        <tr>\n",
       "            <td>8</td>\n",
       "            <td>ER</td>\n",
       "            <td>Victim was Employer</td>\n",
       "        </tr>\n",
       "        <tr>\n",
       "            <td>9</td>\n",
       "            <td>FR</td>\n",
       "            <td>Victim Was Friend</td>\n",
       "        </tr>\n",
       "        <tr>\n",
       "            <td>10</td>\n",
       "            <td>GC</td>\n",
       "            <td>Victim Was Grandchild</td>\n",
       "        </tr>\n",
       "        <tr>\n",
       "            <td>11</td>\n",
       "            <td>GP</td>\n",
       "            <td>Victim Was Grandparent</td>\n",
       "        </tr>\n",
       "        <tr>\n",
       "            <td>12</td>\n",
       "            <td>HR</td>\n",
       "            <td>Homosexual Relationship</td>\n",
       "        </tr>\n",
       "        <tr>\n",
       "            <td>13</td>\n",
       "            <td>IL</td>\n",
       "            <td>Victim Was In-law</td>\n",
       "        </tr>\n",
       "        <tr>\n",
       "            <td>14</td>\n",
       "            <td>NE</td>\n",
       "            <td>Victim Was Neighbor</td>\n",
       "        </tr>\n",
       "        <tr>\n",
       "            <td>15</td>\n",
       "            <td>OF</td>\n",
       "            <td>Victim Was Other Family Member</td>\n",
       "        </tr>\n",
       "        <tr>\n",
       "            <td>16</td>\n",
       "            <td>OK</td>\n",
       "            <td>Victim was Otherwise Known</td>\n",
       "        </tr>\n",
       "        <tr>\n",
       "            <td>17</td>\n",
       "            <td>PA</td>\n",
       "            <td>Victim Was Parent</td>\n",
       "        </tr>\n",
       "        <tr>\n",
       "            <td>18</td>\n",
       "            <td>RU</td>\n",
       "            <td>Relationship Unknown</td>\n",
       "        </tr>\n",
       "        <tr>\n",
       "            <td>19</td>\n",
       "            <td>SB</td>\n",
       "            <td>Victim Was Sibling</td>\n",
       "        </tr>\n",
       "        <tr>\n",
       "            <td>20</td>\n",
       "            <td>SC</td>\n",
       "            <td>Victim Was Stepchild</td>\n",
       "        </tr>\n",
       "        <tr>\n",
       "            <td>21</td>\n",
       "            <td>SE</td>\n",
       "            <td>Victim Was Spouse</td>\n",
       "        </tr>\n",
       "        <tr>\n",
       "            <td>22</td>\n",
       "            <td>SP</td>\n",
       "            <td>Victim Was Stepparent</td>\n",
       "        </tr>\n",
       "        <tr>\n",
       "            <td>23</td>\n",
       "            <td>SS</td>\n",
       "            <td>Victim Was Stepsibling</td>\n",
       "        </tr>\n",
       "        <tr>\n",
       "            <td>24</td>\n",
       "            <td>ST</td>\n",
       "            <td>Victim Was Stranger</td>\n",
       "        </tr>\n",
       "        <tr>\n",
       "            <td>25</td>\n",
       "            <td>VO</td>\n",
       "            <td>Victim Was Offender</td>\n",
       "        </tr>\n",
       "        <tr>\n",
       "            <td>26</td>\n",
       "            <td>XS</td>\n",
       "            <td>Victim was Ex-Spouse</td>\n",
       "        </tr>\n",
       "        <tr>\n",
       "            <td>27</td>\n",
       "            <td>XR</td>\n",
       "            <td>Victim Was Ex-Relationship (Ex-Boyfriend/Girlfriend)</td>\n",
       "        </tr>\n",
       "    </tbody>\n",
       "</table>"
      ],
      "text/plain": [
       "[(Decimal('1'), 'AQ', 'Victim Was Acquaintance'),\n",
       " (Decimal('2'), 'BE', 'Victim Was Babysittee'),\n",
       " (Decimal('3'), 'BG', 'Victim Was Boyfriend/Girlfriend'),\n",
       " (Decimal('4'), 'CF', 'Victim Was Child of Boyfriend or Girlfriend'),\n",
       " (Decimal('5'), 'CH', 'Victim Was Child'),\n",
       " (Decimal('6'), 'CS', 'Victim Was Common-Law Spouse'),\n",
       " (Decimal('7'), 'EE', 'Victim was Employee'),\n",
       " (Decimal('8'), 'ER', 'Victim was Employer'),\n",
       " (Decimal('9'), 'FR', 'Victim Was Friend'),\n",
       " (Decimal('10'), 'GC', 'Victim Was Grandchild'),\n",
       " (Decimal('11'), 'GP', 'Victim Was Grandparent'),\n",
       " (Decimal('12'), 'HR', 'Homosexual Relationship'),\n",
       " (Decimal('13'), 'IL', 'Victim Was In-law'),\n",
       " (Decimal('14'), 'NE', 'Victim Was Neighbor'),\n",
       " (Decimal('15'), 'OF', 'Victim Was Other Family Member'),\n",
       " (Decimal('16'), 'OK', 'Victim was Otherwise Known'),\n",
       " (Decimal('17'), 'PA', 'Victim Was Parent'),\n",
       " (Decimal('18'), 'RU', 'Relationship Unknown'),\n",
       " (Decimal('19'), 'SB', 'Victim Was Sibling'),\n",
       " (Decimal('20'), 'SC', 'Victim Was Stepchild'),\n",
       " (Decimal('21'), 'SE', 'Victim Was Spouse'),\n",
       " (Decimal('22'), 'SP', 'Victim Was Stepparent'),\n",
       " (Decimal('23'), 'SS', 'Victim Was Stepsibling'),\n",
       " (Decimal('24'), 'ST', 'Victim Was Stranger'),\n",
       " (Decimal('25'), 'VO', 'Victim Was Offender'),\n",
       " (Decimal('26'), 'XS', 'Victim was Ex-Spouse'),\n",
       " (Decimal('27'), 'XR', 'Victim Was Ex-Relationship (Ex-Boyfriend/Girlfriend)')]"
      ]
     },
     "execution_count": 47,
     "metadata": {},
     "output_type": "execute_result"
    }
   ],
   "source": [
    "%%sql\n",
    "SELECT *\n",
    "FROM NIBRS_Relationship"
   ]
  },
  {
   "cell_type": "code",
   "execution_count": 48,
   "id": "b0aa735d-8329-4975-97b4-7da31894872f",
   "metadata": {},
   "outputs": [
    {
     "name": "stdout",
     "output_type": "stream",
     "text": [
      " * postgresql://student@/assignment2\n",
      "1 rows affected.\n"
     ]
    },
    {
     "data": {
      "text/html": [
       "<table>\n",
       "    <thead>\n",
       "        <tr>\n",
       "            <th>count</th>\n",
       "        </tr>\n",
       "    </thead>\n",
       "    <tbody>\n",
       "        <tr>\n",
       "            <td>27</td>\n",
       "        </tr>\n",
       "    </tbody>\n",
       "</table>"
      ],
      "text/plain": [
       "[(27,)]"
      ]
     },
     "execution_count": 48,
     "metadata": {},
     "output_type": "execute_result"
    }
   ],
   "source": [
    "%%sql\n",
    "SELECT COUNT(*) FROM NIBRS_Relationship"
   ]
  },
  {
   "cell_type": "markdown",
   "id": "4efa571c-9c19-4cc1-84e2-5a99ed8662ed",
   "metadata": {},
   "source": [
    "!csvcut NIBRS_RELATIONSHIP.csv | csvstat"
   ]
  },
  {
   "cell_type": "code",
   "execution_count": 49,
   "id": "4fd05f6f-13d6-410a-ad2f-5a9d5445f1de",
   "metadata": {},
   "outputs": [
    {
     "name": "stdout",
     "output_type": "stream",
     "text": [
      "27\n"
     ]
    }
   ],
   "source": [
    "!xsv count NIBRS_RELATIONSHIP.csv"
   ]
  },
  {
   "cell_type": "markdown",
   "id": "3f3e4dde-fc8d-4f84-b064-0a86b9bfc66b",
   "metadata": {},
   "source": [
    "* We decided to use xsv instead of csvcut to run it more efficiently. "
   ]
  },
  {
   "cell_type": "markdown",
   "id": "a1df9825-19e3-4df5-a9d5-09f97b3c30f3",
   "metadata": {},
   "source": [
    "#### Create table of Race."
   ]
  },
  {
   "cell_type": "code",
   "execution_count": 50,
   "id": "2f4948e5-afc3-4ea0-9cd8-c0e425c2e01d",
   "metadata": {},
   "outputs": [
    {
     "name": "stdout",
     "output_type": "stream",
     "text": [
      " * postgresql://student@/assignment2\n",
      "Done.\n",
      "Done.\n"
     ]
    },
    {
     "data": {
      "text/plain": [
       "[]"
      ]
     },
     "execution_count": 50,
     "metadata": {},
     "output_type": "execute_result"
    }
   ],
   "source": [
    "%%sql\n",
    "DROP TABLE IF EXISTS Ref_Race Cascade;\n",
    "\n",
    "CREATE TABLE Ref_Race(\n",
    "  Race_ID numeric(2) NOT NULL,\n",
    "  Race_Code varchar(2) NOT NULL,\n",
    "  Race_Desc varchar (100) NOT NULL,\n",
    "  PRIMARY KEY (Race_ID)\n",
    ");\n"
   ]
  },
  {
   "cell_type": "code",
   "execution_count": 51,
   "id": "3b37f004-bf46-442c-bb7a-fd39d4386b8b",
   "metadata": {},
   "outputs": [
    {
     "name": "stdout",
     "output_type": "stream",
     "text": [
      " * postgresql://student@/assignment2\n",
      "Done.\n"
     ]
    },
    {
     "data": {
      "text/plain": [
       "[]"
      ]
     },
     "execution_count": 51,
     "metadata": {},
     "output_type": "execute_result"
    }
   ],
   "source": [
    "%%sql\n",
    "COMMENT ON TABLE Ref_Race IS\n",
    "'Ref Race table: holds information about race categories, such as a unique identifier, a code representing the race, and a descriptive explanation of that specific race category';\n"
   ]
  },
  {
   "cell_type": "code",
   "execution_count": 52,
   "id": "35a07f8d-8ff0-4b9b-8b25-b0067406a15a",
   "metadata": {},
   "outputs": [
    {
     "name": "stdout",
     "output_type": "stream",
     "text": [
      " * postgresql://student@/assignment2\n",
      "1 rows affected.\n"
     ]
    },
    {
     "data": {
      "text/html": [
       "<table>\n",
       "    <thead>\n",
       "        <tr>\n",
       "            <th>obj_description</th>\n",
       "        </tr>\n",
       "    </thead>\n",
       "    <tbody>\n",
       "        <tr>\n",
       "            <td>Ref Race table: holds information about race categories, such as a unique identifier, a code representing the race, and a descriptive explanation of that specific race category</td>\n",
       "        </tr>\n",
       "    </tbody>\n",
       "</table>"
      ],
      "text/plain": [
       "[('Ref Race table: holds information about race categories, such as a unique identifier, a code representing the race, and a descriptive explanation of that specific race category',)]"
      ]
     },
     "execution_count": 52,
     "metadata": {},
     "output_type": "execute_result"
    }
   ],
   "source": [
    "%%sql\n",
    "SELECT obj_description(oid, 'pg_class')\n",
    "FROM pg_class\n",
    "WHERE upper(relname) = 'REF_RACE';"
   ]
  },
  {
   "cell_type": "code",
   "execution_count": 53,
   "id": "680699da-cdef-474f-b6c5-a7fde25c0c77",
   "metadata": {},
   "outputs": [
    {
     "name": "stdout",
     "output_type": "stream",
     "text": [
      " * postgresql://student@/assignment2\n",
      "Done.\n",
      "Done.\n",
      "Done.\n"
     ]
    },
    {
     "data": {
      "text/plain": [
       "[]"
      ]
     },
     "execution_count": 53,
     "metadata": {},
     "output_type": "execute_result"
    }
   ],
   "source": [
    "%%sql\n",
    "COMMENT ON COLUMN Ref_Race.Race_ID IS 'The race of an individual';\n",
    "COMMENT ON COLUMN Ref_Race.Race_Code IS 'The race code of an individual';\n",
    "COMMENT ON COLUMN Ref_Race.Race_Desc IS 'The race description of an individual';"
   ]
  },
  {
   "cell_type": "code",
   "execution_count": 54,
   "id": "94dfb6d5-5640-436c-ac05-3d1b770476e6",
   "metadata": {},
   "outputs": [
    {
     "name": "stdout",
     "output_type": "stream",
     "text": [
      " * postgresql://student@/assignment2\n",
      "3 rows affected.\n"
     ]
    },
    {
     "data": {
      "text/html": [
       "<table>\n",
       "    <thead>\n",
       "        <tr>\n",
       "            <th>column_name</th>\n",
       "            <th>col_description</th>\n",
       "        </tr>\n",
       "    </thead>\n",
       "    <tbody>\n",
       "        <tr>\n",
       "            <td>race_id</td>\n",
       "            <td>The race of an individual</td>\n",
       "        </tr>\n",
       "        <tr>\n",
       "            <td>race_code</td>\n",
       "            <td>The race code of an individual</td>\n",
       "        </tr>\n",
       "        <tr>\n",
       "            <td>race_desc</td>\n",
       "            <td>The race description of an individual</td>\n",
       "        </tr>\n",
       "    </tbody>\n",
       "</table>"
      ],
      "text/plain": [
       "[('race_id', 'The race of an individual'),\n",
       " ('race_code', 'The race code of an individual'),\n",
       " ('race_desc', 'The race description of an individual')]"
      ]
     },
     "execution_count": 54,
     "metadata": {},
     "output_type": "execute_result"
    }
   ],
   "source": [
    "%%sql\n",
    "SELECT cols.column_name,\n",
    "pg_catalog.col_description(c.oid, cols.ordinal_position::int)\n",
    "FROM pg_catalog.pg_class c, information_schema.columns cols\n",
    " WHERE cols.table_name = c.relname  and upper(relname) = 'REF_RACE';"
   ]
  },
  {
   "cell_type": "code",
   "execution_count": 55,
   "id": "46bd08b5-915f-43f0-80ee-3f1e62b6fba7",
   "metadata": {},
   "outputs": [
    {
     "name": "stdout",
     "output_type": "stream",
     "text": [
      "  1: race_id\n",
      "  2: race_code\n",
      "  3: race_desc\n",
      "  4: sort_order\n",
      "  5: start_year\n",
      "  6: end_year\n",
      "  7: notes\n"
     ]
    }
   ],
   "source": [
    "!csvcut -n ~/notebooks/REF_RACE.csv"
   ]
  },
  {
   "cell_type": "code",
   "execution_count": 56,
   "id": "e8923511-3b85-4723-b552-93732706b97e",
   "metadata": {},
   "outputs": [],
   "source": [
    "!csvcut -c 1,2,3 /home/ubuntu/notebooks/REF_RACE.csv > /home/ubuntu/notebooks/REF_RACE_F.csv"
   ]
  },
  {
   "cell_type": "code",
   "execution_count": 57,
   "id": "d3c9ecfa-f297-4d64-9830-19039ce590cd",
   "metadata": {},
   "outputs": [
    {
     "name": "stdout",
     "output_type": "stream",
     "text": [
      " * postgresql://student@/assignment2\n",
      "12 rows affected.\n"
     ]
    },
    {
     "data": {
      "text/plain": [
       "[]"
      ]
     },
     "execution_count": 57,
     "metadata": {},
     "output_type": "execute_result"
    }
   ],
   "source": [
    "%%sql\n",
    "COPY Ref_Race FROM '/home/ubuntu/notebooks/REF_RACE_F.csv'\n",
    "CSV\n",
    "HEADER"
   ]
  },
  {
   "cell_type": "code",
   "execution_count": 58,
   "id": "90b8b2f7-da59-4f14-8929-9c81d8f86486",
   "metadata": {},
   "outputs": [
    {
     "name": "stdout",
     "output_type": "stream",
     "text": [
      " * postgresql://student@/assignment2\n",
      "12 rows affected.\n"
     ]
    },
    {
     "data": {
      "text/html": [
       "<table>\n",
       "    <thead>\n",
       "        <tr>\n",
       "            <th>race_id</th>\n",
       "            <th>race_code</th>\n",
       "            <th>race_desc</th>\n",
       "        </tr>\n",
       "    </thead>\n",
       "    <tbody>\n",
       "        <tr>\n",
       "            <td>98</td>\n",
       "            <td>U</td>\n",
       "            <td>Unknown</td>\n",
       "        </tr>\n",
       "        <tr>\n",
       "            <td>10</td>\n",
       "            <td>W</td>\n",
       "            <td>White</td>\n",
       "        </tr>\n",
       "        <tr>\n",
       "            <td>20</td>\n",
       "            <td>B</td>\n",
       "            <td>Black or African American</td>\n",
       "        </tr>\n",
       "        <tr>\n",
       "            <td>30</td>\n",
       "            <td>I</td>\n",
       "            <td>American Indian or Alaska Native</td>\n",
       "        </tr>\n",
       "        <tr>\n",
       "            <td>40</td>\n",
       "            <td>A</td>\n",
       "            <td>Asian</td>\n",
       "        </tr>\n",
       "        <tr>\n",
       "            <td>41</td>\n",
       "            <td>AP</td>\n",
       "            <td>Asian, Native Hawaiian, or Other Pacific Islander</td>\n",
       "        </tr>\n",
       "        <tr>\n",
       "            <td>42</td>\n",
       "            <td>C</td>\n",
       "            <td>Chinese</td>\n",
       "        </tr>\n",
       "        <tr>\n",
       "            <td>43</td>\n",
       "            <td>J</td>\n",
       "            <td>Japanese</td>\n",
       "        </tr>\n",
       "        <tr>\n",
       "            <td>50</td>\n",
       "            <td>P</td>\n",
       "            <td>Native Hawaiian or Other Pacific Islander</td>\n",
       "        </tr>\n",
       "        <tr>\n",
       "            <td>60</td>\n",
       "            <td>O</td>\n",
       "            <td>Other</td>\n",
       "        </tr>\n",
       "        <tr>\n",
       "            <td>70</td>\n",
       "            <td>M</td>\n",
       "            <td>Multiple</td>\n",
       "        </tr>\n",
       "        <tr>\n",
       "            <td>99</td>\n",
       "            <td>NS</td>\n",
       "            <td>Not Specified</td>\n",
       "        </tr>\n",
       "    </tbody>\n",
       "</table>"
      ],
      "text/plain": [
       "[(Decimal('98'), 'U', 'Unknown'),\n",
       " (Decimal('10'), 'W', 'White'),\n",
       " (Decimal('20'), 'B', 'Black or African American'),\n",
       " (Decimal('30'), 'I', 'American Indian or Alaska Native'),\n",
       " (Decimal('40'), 'A', 'Asian'),\n",
       " (Decimal('41'), 'AP', 'Asian, Native Hawaiian, or Other Pacific Islander'),\n",
       " (Decimal('42'), 'C', 'Chinese'),\n",
       " (Decimal('43'), 'J', 'Japanese'),\n",
       " (Decimal('50'), 'P', 'Native Hawaiian or Other Pacific Islander'),\n",
       " (Decimal('60'), 'O', 'Other'),\n",
       " (Decimal('70'), 'M', 'Multiple'),\n",
       " (Decimal('99'), 'NS', 'Not Specified')]"
      ]
     },
     "execution_count": 58,
     "metadata": {},
     "output_type": "execute_result"
    }
   ],
   "source": [
    "%%sql\n",
    "SELECT *\n",
    "FROM Ref_Race;"
   ]
  },
  {
   "cell_type": "code",
   "execution_count": 59,
   "id": "e11a7d12-8f29-4f6c-b76f-1c89c83e6cd9",
   "metadata": {},
   "outputs": [
    {
     "name": "stdout",
     "output_type": "stream",
     "text": [
      " * postgresql://student@/assignment2\n",
      "1 rows affected.\n"
     ]
    },
    {
     "data": {
      "text/html": [
       "<table>\n",
       "    <thead>\n",
       "        <tr>\n",
       "            <th>count</th>\n",
       "        </tr>\n",
       "    </thead>\n",
       "    <tbody>\n",
       "        <tr>\n",
       "            <td>12</td>\n",
       "        </tr>\n",
       "    </tbody>\n",
       "</table>"
      ],
      "text/plain": [
       "[(12,)]"
      ]
     },
     "execution_count": 59,
     "metadata": {},
     "output_type": "execute_result"
    }
   ],
   "source": [
    "%%sql\n",
    "SELECT COUNT(*) FROM Ref_Race"
   ]
  },
  {
   "cell_type": "markdown",
   "id": "aff8c49f-3712-4fac-909d-41aef7e45d81",
   "metadata": {},
   "source": [
    "!csvcut REF_RACE_F.csv | csvstat\n"
   ]
  },
  {
   "cell_type": "code",
   "execution_count": 60,
   "id": "beba4d13-f771-434c-8ecf-77fdb055f81f",
   "metadata": {},
   "outputs": [
    {
     "name": "stdout",
     "output_type": "stream",
     "text": [
      "12\n"
     ]
    }
   ],
   "source": [
    "!xsv count REF_RACE_F.csv"
   ]
  },
  {
   "cell_type": "markdown",
   "id": "7e40454f-78a2-47f8-b792-d4de1bcbcca7",
   "metadata": {},
   "source": [
    "* We decided to use xsv instead of csvcut to run it more efficiently. "
   ]
  },
  {
   "cell_type": "markdown",
   "id": "4ee60b16-bce1-4f28-9750-bc02d5e93f74",
   "metadata": {},
   "source": [
    "#### Create table of Victim Type."
   ]
  },
  {
   "cell_type": "code",
   "execution_count": 61,
   "id": "f7d8a6b2-02c6-43b4-b254-3a428bbf9028",
   "metadata": {},
   "outputs": [
    {
     "name": "stdout",
     "output_type": "stream",
     "text": [
      " * postgresql://student@/assignment2\n",
      "Done.\n",
      "Done.\n"
     ]
    },
    {
     "data": {
      "text/plain": [
       "[]"
      ]
     },
     "execution_count": 61,
     "metadata": {},
     "output_type": "execute_result"
    }
   ],
   "source": [
    "%%sql\n",
    "DROP TABLE IF EXISTS NIBRS_Victim_Type Cascade;\n",
    "\n",
    "CREATE TABLE NIBRS_Victim_Type(\n",
    "  Victim_Type_ID numeric(4) NOT NULL,\n",
    "  Victim_Type_Code varchar(1)  NULL,\n",
    "  Victim_Type_Name varchar(100)  NULL,\n",
    "  PRIMARY KEY (Victim_Type_ID)\n",
    ");"
   ]
  },
  {
   "cell_type": "code",
   "execution_count": 62,
   "id": "5a96bc2a-095e-44b3-86f4-6e502895c603",
   "metadata": {},
   "outputs": [
    {
     "name": "stdout",
     "output_type": "stream",
     "text": [
      " * postgresql://student@/assignment2\n",
      "Done.\n"
     ]
    },
    {
     "data": {
      "text/plain": [
       "[]"
      ]
     },
     "execution_count": 62,
     "metadata": {},
     "output_type": "execute_result"
    }
   ],
   "source": [
    "%%sql\n",
    "COMMENT ON TABLE NIBRS_Victim_Type IS\n",
    "'Victim Type table: holds information about many victim categories, including a unique identifier, a code indicating the victim type, and a descriptive term for that category';\n"
   ]
  },
  {
   "cell_type": "code",
   "execution_count": 63,
   "id": "a03c1661-0774-49ef-b8e7-fd67d704a9fc",
   "metadata": {},
   "outputs": [
    {
     "name": "stdout",
     "output_type": "stream",
     "text": [
      " * postgresql://student@/assignment2\n",
      "1 rows affected.\n"
     ]
    },
    {
     "data": {
      "text/html": [
       "<table>\n",
       "    <thead>\n",
       "        <tr>\n",
       "            <th>obj_description</th>\n",
       "        </tr>\n",
       "    </thead>\n",
       "    <tbody>\n",
       "        <tr>\n",
       "            <td>Victim Type table: holds information about many victim categories, including a unique identifier, a code indicating the victim type, and a descriptive term for that category</td>\n",
       "        </tr>\n",
       "    </tbody>\n",
       "</table>"
      ],
      "text/plain": [
       "[('Victim Type table: holds information about many victim categories, including a unique identifier, a code indicating the victim type, and a descriptive term for that category',)]"
      ]
     },
     "execution_count": 63,
     "metadata": {},
     "output_type": "execute_result"
    }
   ],
   "source": [
    "%%sql\n",
    "SELECT obj_description(oid, 'pg_class')\n",
    "FROM pg_class\n",
    "WHERE upper(relname) = 'NIBRS_VICTIM_TYPE';"
   ]
  },
  {
   "cell_type": "code",
   "execution_count": 64,
   "id": "59bb407a-29bf-4bdc-bf0d-d6d5de5727f5",
   "metadata": {},
   "outputs": [
    {
     "name": "stdout",
     "output_type": "stream",
     "text": [
      " * postgresql://student@/assignment2\n",
      "Done.\n",
      "Done.\n",
      "Done.\n"
     ]
    },
    {
     "data": {
      "text/plain": [
       "[]"
      ]
     },
     "execution_count": 64,
     "metadata": {},
     "output_type": "execute_result"
    }
   ],
   "source": [
    "%%sql\n",
    "COMMENT ON COLUMN NIBRS_Victim_Type.Victim_Type_ID IS 'Internal ID for the victim type';\n",
    "COMMENT ON COLUMN NIBRS_Victim_Type.Victim_Type_Code IS 'NIBRS code for the victim type from tech spec';\n",
    "COMMENT ON COLUMN NIBRS_Victim_Type.Victim_Type_Name IS 'Victim type name from the tech spec';"
   ]
  },
  {
   "cell_type": "code",
   "execution_count": 65,
   "id": "8c10251c-7c37-462d-a23e-f1b20e22c02c",
   "metadata": {},
   "outputs": [
    {
     "name": "stdout",
     "output_type": "stream",
     "text": [
      " * postgresql://student@/assignment2\n",
      "3 rows affected.\n"
     ]
    },
    {
     "data": {
      "text/html": [
       "<table>\n",
       "    <thead>\n",
       "        <tr>\n",
       "            <th>column_name</th>\n",
       "            <th>col_description</th>\n",
       "        </tr>\n",
       "    </thead>\n",
       "    <tbody>\n",
       "        <tr>\n",
       "            <td>victim_type_id</td>\n",
       "            <td>Internal ID for the victim type</td>\n",
       "        </tr>\n",
       "        <tr>\n",
       "            <td>victim_type_code</td>\n",
       "            <td>NIBRS code for the victim type from tech spec</td>\n",
       "        </tr>\n",
       "        <tr>\n",
       "            <td>victim_type_name</td>\n",
       "            <td>Victim type name from the tech spec</td>\n",
       "        </tr>\n",
       "    </tbody>\n",
       "</table>"
      ],
      "text/plain": [
       "[('victim_type_id', 'Internal ID for the victim type'),\n",
       " ('victim_type_code', 'NIBRS code for the victim type from tech spec'),\n",
       " ('victim_type_name', 'Victim type name from the tech spec')]"
      ]
     },
     "execution_count": 65,
     "metadata": {},
     "output_type": "execute_result"
    }
   ],
   "source": [
    "%%sql\n",
    "SELECT cols.column_name,\n",
    "pg_catalog.col_description(c.oid, cols.ordinal_position::int)\n",
    "FROM pg_catalog.pg_class c, information_schema.columns cols\n",
    " WHERE cols.table_name = c.relname  and upper(relname) = 'NIBRS_VICTIM_TYPE';"
   ]
  },
  {
   "cell_type": "code",
   "execution_count": 66,
   "id": "cc316663-aa5a-476f-b472-0a0d6dff963d",
   "metadata": {},
   "outputs": [
    {
     "name": "stdout",
     "output_type": "stream",
     "text": [
      "  1: victim_type_id\n",
      "  2: victim_type_code\n",
      "  3: victim_type_name\n"
     ]
    }
   ],
   "source": [
    "!csvcut -n NIBRS_VICTIM_TYPE.csv"
   ]
  },
  {
   "cell_type": "code",
   "execution_count": 67,
   "id": "266106e1-68ba-406d-be46-77b254311253",
   "metadata": {},
   "outputs": [
    {
     "name": "stdout",
     "output_type": "stream",
     "text": [
      " * postgresql://student@/assignment2\n",
      "9 rows affected.\n"
     ]
    },
    {
     "data": {
      "text/plain": [
       "[]"
      ]
     },
     "execution_count": 67,
     "metadata": {},
     "output_type": "execute_result"
    }
   ],
   "source": [
    "%%sql\n",
    "COPY NIBRS_Victim_Type FROM '/home/ubuntu/notebooks/NIBRS_VICTIM_TYPE.csv'\n",
    "CSV\n",
    "HEADER"
   ]
  },
  {
   "cell_type": "code",
   "execution_count": 68,
   "id": "4ca62243-dde2-4bdf-b3d0-4fec2d10fc93",
   "metadata": {},
   "outputs": [
    {
     "name": "stdout",
     "output_type": "stream",
     "text": [
      " * postgresql://student@/assignment2\n",
      "9 rows affected.\n"
     ]
    },
    {
     "data": {
      "text/html": [
       "<table>\n",
       "    <thead>\n",
       "        <tr>\n",
       "            <th>victim_type_id</th>\n",
       "            <th>victim_type_code</th>\n",
       "            <th>victim_type_name</th>\n",
       "        </tr>\n",
       "    </thead>\n",
       "    <tbody>\n",
       "        <tr>\n",
       "            <td>1</td>\n",
       "            <td>B</td>\n",
       "            <td>Business</td>\n",
       "        </tr>\n",
       "        <tr>\n",
       "            <td>2</td>\n",
       "            <td>F</td>\n",
       "            <td>Financial Institution</td>\n",
       "        </tr>\n",
       "        <tr>\n",
       "            <td>3</td>\n",
       "            <td>G</td>\n",
       "            <td>Government</td>\n",
       "        </tr>\n",
       "        <tr>\n",
       "            <td>4</td>\n",
       "            <td>I</td>\n",
       "            <td>Individual</td>\n",
       "        </tr>\n",
       "        <tr>\n",
       "            <td>5</td>\n",
       "            <td>L</td>\n",
       "            <td>Law Enforcement Officer</td>\n",
       "        </tr>\n",
       "        <tr>\n",
       "            <td>6</td>\n",
       "            <td>O</td>\n",
       "            <td>Other</td>\n",
       "        </tr>\n",
       "        <tr>\n",
       "            <td>7</td>\n",
       "            <td>R</td>\n",
       "            <td>Religious Organization</td>\n",
       "        </tr>\n",
       "        <tr>\n",
       "            <td>8</td>\n",
       "            <td>S</td>\n",
       "            <td>Society/Public</td>\n",
       "        </tr>\n",
       "        <tr>\n",
       "            <td>9</td>\n",
       "            <td>U</td>\n",
       "            <td>Unknown</td>\n",
       "        </tr>\n",
       "    </tbody>\n",
       "</table>"
      ],
      "text/plain": [
       "[(Decimal('1'), 'B', 'Business'),\n",
       " (Decimal('2'), 'F', 'Financial Institution'),\n",
       " (Decimal('3'), 'G', 'Government'),\n",
       " (Decimal('4'), 'I', 'Individual'),\n",
       " (Decimal('5'), 'L', 'Law Enforcement Officer'),\n",
       " (Decimal('6'), 'O', 'Other'),\n",
       " (Decimal('7'), 'R', 'Religious Organization'),\n",
       " (Decimal('8'), 'S', 'Society/Public'),\n",
       " (Decimal('9'), 'U', 'Unknown')]"
      ]
     },
     "execution_count": 68,
     "metadata": {},
     "output_type": "execute_result"
    }
   ],
   "source": [
    "%%sql\n",
    "SELECT *\n",
    "FROM NIBRS_Victim_Type;"
   ]
  },
  {
   "cell_type": "code",
   "execution_count": 69,
   "id": "e600ee28-8be4-4745-ad72-30fa5cc77adc",
   "metadata": {},
   "outputs": [
    {
     "name": "stdout",
     "output_type": "stream",
     "text": [
      " * postgresql://student@/assignment2\n",
      "1 rows affected.\n"
     ]
    },
    {
     "data": {
      "text/html": [
       "<table>\n",
       "    <thead>\n",
       "        <tr>\n",
       "            <th>count</th>\n",
       "        </tr>\n",
       "    </thead>\n",
       "    <tbody>\n",
       "        <tr>\n",
       "            <td>9</td>\n",
       "        </tr>\n",
       "    </tbody>\n",
       "</table>"
      ],
      "text/plain": [
       "[(9,)]"
      ]
     },
     "execution_count": 69,
     "metadata": {},
     "output_type": "execute_result"
    }
   ],
   "source": [
    "%%sql\n",
    "SELECT COUNT(*) FROM NIBRS_Victim_Type"
   ]
  },
  {
   "cell_type": "markdown",
   "id": "9627d02c-bdbd-4db2-800d-fb916f753b63",
   "metadata": {},
   "source": [
    "!csvcut NIBRS_VICTIM_TYPE.csv | csvstat"
   ]
  },
  {
   "cell_type": "code",
   "execution_count": 70,
   "id": "922ad47e-d662-4d2b-b713-42c5d110189f",
   "metadata": {},
   "outputs": [
    {
     "name": "stdout",
     "output_type": "stream",
     "text": [
      "9\n"
     ]
    }
   ],
   "source": [
    "!xsv count NIBRS_VICTIM_TYPE.csv"
   ]
  },
  {
   "cell_type": "markdown",
   "id": "b624ec32-0ee8-49e4-9174-03dd89bc880c",
   "metadata": {},
   "source": [
    "* We decided to use xsv instead of csvcut to run it more efficiently. "
   ]
  },
  {
   "cell_type": "markdown",
   "id": "905e4d22-09bf-4502-a34d-23fdcd49f9b1",
   "metadata": {},
   "source": [
    "#### Create table of Incident."
   ]
  },
  {
   "cell_type": "markdown",
   "id": "b4878e80-edb1-47f3-b867-802293e568ca",
   "metadata": {},
   "source": [
    "Dictionary: Age_Num Numeric(3). But assigned csv has characters. Thus, changed to varchar(10)\n",
    "Age_Num varchar(10)"
   ]
  },
  {
   "cell_type": "code",
   "execution_count": 71,
   "id": "395fd5b8-8f53-4976-b580-068dbbdc63d2",
   "metadata": {},
   "outputs": [
    {
     "name": "stdout",
     "output_type": "stream",
     "text": [
      " * postgresql://student@/assignment2\n",
      "Done.\n",
      "Done.\n"
     ]
    },
    {
     "data": {
      "text/plain": [
       "[]"
      ]
     },
     "execution_count": 71,
     "metadata": {},
     "output_type": "execute_result"
    }
   ],
   "source": [
    "%%sql\n",
    "DROP TABLE IF EXISTS NIBRS_Incident Cascade;\n",
    "\n",
    "CREATE TABLE NIBRS_Incident(\n",
    "  Agency_ID numeric(10) NOT NULL,\n",
    "  Incident_ID numeric(10) NOT NULL,\n",
    "  Incident_Date date NULL,\n",
    "  Incident_Hour numeric(2) NULL,\n",
    "  PRIMARY KEY (Incident_ID)\n",
    ");"
   ]
  },
  {
   "cell_type": "code",
   "execution_count": 72,
   "id": "975324ac-0624-43ce-a3ac-3f4e0c9bde92",
   "metadata": {},
   "outputs": [
    {
     "name": "stdout",
     "output_type": "stream",
     "text": [
      " * postgresql://student@/assignment2\n",
      "Done.\n"
     ]
    },
    {
     "data": {
      "text/plain": [
       "[]"
      ]
     },
     "execution_count": 72,
     "metadata": {},
     "output_type": "execute_result"
    }
   ],
   "source": [
    "%%sql\n",
    "COMMENT ON TABLE NIBRS_Incident IS\n",
    "'Incident table: holds information about all the incidents that took place with an incident date and incident hour';\n"
   ]
  },
  {
   "cell_type": "code",
   "execution_count": 73,
   "id": "f3b64f69-1355-40eb-8302-3e61da60385a",
   "metadata": {},
   "outputs": [
    {
     "name": "stdout",
     "output_type": "stream",
     "text": [
      " * postgresql://student@/assignment2\n",
      "1 rows affected.\n"
     ]
    },
    {
     "data": {
      "text/html": [
       "<table>\n",
       "    <thead>\n",
       "        <tr>\n",
       "            <th>obj_description</th>\n",
       "        </tr>\n",
       "    </thead>\n",
       "    <tbody>\n",
       "        <tr>\n",
       "            <td>Incident table: holds information about all the incidents that took place with an incident date and incident hour</td>\n",
       "        </tr>\n",
       "    </tbody>\n",
       "</table>"
      ],
      "text/plain": [
       "[('Incident table: holds information about all the incidents that took place with an incident date and incident hour',)]"
      ]
     },
     "execution_count": 73,
     "metadata": {},
     "output_type": "execute_result"
    }
   ],
   "source": [
    "%%sql\n",
    "SELECT obj_description(oid, 'pg_class')\n",
    "FROM pg_class\n",
    "WHERE upper(relname) = 'NIBRS_INCIDENT';"
   ]
  },
  {
   "cell_type": "code",
   "execution_count": 74,
   "id": "80257f83-9acf-4cd1-b3d7-79234ab434a3",
   "metadata": {},
   "outputs": [
    {
     "name": "stdout",
     "output_type": "stream",
     "text": [
      " * postgresql://student@/assignment2\n",
      "Done.\n",
      "Done.\n",
      "Done.\n",
      "Done.\n"
     ]
    },
    {
     "data": {
      "text/plain": [
       "[]"
      ]
     },
     "execution_count": 74,
     "metadata": {},
     "output_type": "execute_result"
    }
   ],
   "source": [
    "%%sql\n",
    "COMMENT ON COLUMN NIBRS_Incident.Agency_ID IS 'Internal agency ID which references REF_AGENCY';\n",
    "COMMENT ON COLUMN NIBRS_Incident.Incident_ID IS 'Internal unique incident ID';\n",
    "COMMENT ON COLUMN NIBRS_Incident.Incident_Date IS 'When the incident occurred or the beginning of the time-period in which it occurred';\n",
    "COMMENT ON COLUMN NIBRS_Incident.Incident_Hour IS 'The hour when the incident occurred or the beginning of the time period in which it occurred';\n"
   ]
  },
  {
   "cell_type": "code",
   "execution_count": 75,
   "id": "144ddf45-2153-4a5d-b8d1-a963f576973d",
   "metadata": {},
   "outputs": [
    {
     "name": "stdout",
     "output_type": "stream",
     "text": [
      " * postgresql://student@/assignment2\n",
      "4 rows affected.\n"
     ]
    },
    {
     "data": {
      "text/html": [
       "<table>\n",
       "    <thead>\n",
       "        <tr>\n",
       "            <th>column_name</th>\n",
       "            <th>col_description</th>\n",
       "        </tr>\n",
       "    </thead>\n",
       "    <tbody>\n",
       "        <tr>\n",
       "            <td>agency_id</td>\n",
       "            <td>Internal agency ID which references REF_AGENCY</td>\n",
       "        </tr>\n",
       "        <tr>\n",
       "            <td>incident_id</td>\n",
       "            <td>Internal unique incident ID</td>\n",
       "        </tr>\n",
       "        <tr>\n",
       "            <td>incident_date</td>\n",
       "            <td>When the incident occurred or the beginning of the time-period in which it occurred</td>\n",
       "        </tr>\n",
       "        <tr>\n",
       "            <td>incident_hour</td>\n",
       "            <td>The hour when the incident occurred or the beginning of the time period in which it occurred</td>\n",
       "        </tr>\n",
       "    </tbody>\n",
       "</table>"
      ],
      "text/plain": [
       "[('agency_id', 'Internal agency ID which references REF_AGENCY'),\n",
       " ('incident_id', 'Internal unique incident ID'),\n",
       " ('incident_date', 'When the incident occurred or the beginning of the time-period in which it occurred'),\n",
       " ('incident_hour', 'The hour when the incident occurred or the beginning of the time period in which it occurred')]"
      ]
     },
     "execution_count": 75,
     "metadata": {},
     "output_type": "execute_result"
    }
   ],
   "source": [
    "%%sql\n",
    "SELECT cols.column_name,\n",
    "pg_catalog.col_description(c.oid, cols.ordinal_position::int)\n",
    "FROM pg_catalog.pg_class c, information_schema.columns cols\n",
    " WHERE cols.table_name = c.relname  and upper(relname) = 'NIBRS_INCIDENT';"
   ]
  },
  {
   "cell_type": "code",
   "execution_count": 76,
   "id": "0c864800-ffeb-46e8-b618-135b1a65fb8d",
   "metadata": {},
   "outputs": [
    {
     "name": "stdout",
     "output_type": "stream",
     "text": [
      "  1: data_year\n",
      "  2: agency_id\n",
      "  3: incident_id\n",
      "  4: nibrs_month_id\n",
      "  5: cargo_theft_flag\n",
      "  6: submission_date\n",
      "  7: incident_date\n",
      "  8: report_date_flag\n",
      "  9: incident_hour\n",
      " 10: cleared_except_id\n",
      " 11: cleared_except_date\n",
      " 12: incident_status\n",
      " 13: data_home\n",
      " 14: orig_format\n",
      " 15: did\n"
     ]
    }
   ],
   "source": [
    "!csvcut -n NIBRS_incident.csv"
   ]
  },
  {
   "cell_type": "code",
   "execution_count": 77,
   "id": "66777c02-b492-4f03-bdf3-43e711d8b59e",
   "metadata": {},
   "outputs": [],
   "source": [
    "!csvcut -c 2,3,7,9 /home/ubuntu/notebooks/NIBRS_incident.csv > /home/ubuntu/notebooks/NIBRS_incident_F.csv"
   ]
  },
  {
   "cell_type": "code",
   "execution_count": 78,
   "id": "a4667776-c299-41b8-8b4a-977f29f7e440",
   "metadata": {},
   "outputs": [
    {
     "name": "stdout",
     "output_type": "stream",
     "text": [
      "  1: agency_id\n",
      "  2: incident_id\n",
      "  3: incident_date\n",
      "  4: incident_hour\n"
     ]
    }
   ],
   "source": [
    "!csvcut -n NIBRS_incident_F.csv"
   ]
  },
  {
   "cell_type": "code",
   "execution_count": 79,
   "id": "38eaca14-7892-478b-b363-9b1dded43974",
   "metadata": {},
   "outputs": [
    {
     "name": "stdout",
     "output_type": "stream",
     "text": [
      " * postgresql://student@/assignment2\n",
      "118176 rows affected.\n"
     ]
    },
    {
     "data": {
      "text/plain": [
       "[]"
      ]
     },
     "execution_count": 79,
     "metadata": {},
     "output_type": "execute_result"
    }
   ],
   "source": [
    "%%sql\n",
    "\n",
    "COPY NIBRS_Incident FROM '/home/ubuntu/notebooks/NIBRS_incident_F.csv'\n",
    "CSV\n",
    "HEADER;"
   ]
  },
  {
   "cell_type": "markdown",
   "id": "10d455a3-951a-49f4-9c3e-652f6a8e4229",
   "metadata": {},
   "source": [
    "%%sql\n",
    "SELECT * FROM NIBRS_Incident;"
   ]
  },
  {
   "cell_type": "markdown",
   "id": "bebaa737-5453-4b4a-a8eb-ee0083bf0385",
   "metadata": {},
   "source": [
    "* The above command was changed to markdown, because it would take a long time to run due to the number of rows it contains. It is for reference. "
   ]
  },
  {
   "cell_type": "code",
   "execution_count": 80,
   "id": "3a6bbe77-ef20-467f-8b0f-bed0d24a16ad",
   "metadata": {},
   "outputs": [
    {
     "name": "stdout",
     "output_type": "stream",
     "text": [
      " * postgresql://student@/assignment2\n",
      "1 rows affected.\n"
     ]
    },
    {
     "data": {
      "text/html": [
       "<table>\n",
       "    <thead>\n",
       "        <tr>\n",
       "            <th>count</th>\n",
       "        </tr>\n",
       "    </thead>\n",
       "    <tbody>\n",
       "        <tr>\n",
       "            <td>118176</td>\n",
       "        </tr>\n",
       "    </tbody>\n",
       "</table>"
      ],
      "text/plain": [
       "[(118176,)]"
      ]
     },
     "execution_count": 80,
     "metadata": {},
     "output_type": "execute_result"
    }
   ],
   "source": [
    "%%sql\n",
    "SELECT COUNT(*) FROM NIBRS_Incident"
   ]
  },
  {
   "cell_type": "markdown",
   "id": "832e5b6a-113c-4fe9-b8f3-1387808b56b7",
   "metadata": {},
   "source": [
    "!csvcut NIBRS_incident_F.csv | csvstat"
   ]
  },
  {
   "cell_type": "code",
   "execution_count": 81,
   "id": "fa106cd7-9837-48d5-9d43-f8e9209c6cb3",
   "metadata": {},
   "outputs": [
    {
     "name": "stdout",
     "output_type": "stream",
     "text": [
      "118176\n"
     ]
    }
   ],
   "source": [
    "!xsv count NIBRS_incident_F.csv"
   ]
  },
  {
   "cell_type": "markdown",
   "id": "793481de-7f04-4e94-94ca-72f60f01e2d4",
   "metadata": {},
   "source": [
    "* We decided to use xsv instead of csvcut to run it more efficiently. "
   ]
  },
  {
   "cell_type": "markdown",
   "id": "bb782e73-7bf5-4a74-96ed-a6383af899d0",
   "metadata": {},
   "source": [
    "#### Create table of Victim."
   ]
  },
  {
   "cell_type": "code",
   "execution_count": 82,
   "id": "47788f39-0350-4ad0-80b5-79abb8778314",
   "metadata": {},
   "outputs": [
    {
     "name": "stdout",
     "output_type": "stream",
     "text": [
      " * postgresql://student@/assignment2\n",
      "Done.\n",
      "Done.\n"
     ]
    },
    {
     "data": {
      "text/plain": [
       "[]"
      ]
     },
     "execution_count": 82,
     "metadata": {},
     "output_type": "execute_result"
    }
   ],
   "source": [
    "%%sql\n",
    "DROP TABLE IF EXISTS NIBRS_Victim Cascade;\n",
    "\n",
    "CREATE TABLE NIBRS_Victim(\n",
    "  Victim_ID numeric(10) NOT NULL,\n",
    "  Incident_ID numeric(10) NOT NULL,\n",
    "  Victim_Seq_Num numeric(3)  NULL,\n",
    "  Victim_Type_ID numeric(4) NOT NULL,\n",
    "  Age_Num varchar(10) NULL,\n",
    "  Sex_Code char(1) NULL,\n",
    "  Race_ID numeric(4) NULL,\n",
    "  Ethnicity_ID numeric(4) NULL,\n",
    "    \n",
    "  PRIMARY KEY (Victim_ID),\n",
    "  FOREIGN KEY (Incident_ID) REFERENCES NIBRS_Incident(Incident_ID),\n",
    "  FOREIGN KEY (Victim_Type_ID) REFERENCES NIBRS_Victim_Type(Victim_Type_ID),\n",
    "  FOREIGN KEY (Race_ID) REFERENCES Ref_Race(Race_ID),\n",
    "  FOREIGN KEY (Ethnicity_ID) REFERENCES NIBRS_Ethnicity(Ethnicity_ID)\n",
    ");"
   ]
  },
  {
   "cell_type": "code",
   "execution_count": 83,
   "id": "a3f70cea-21c4-452d-a1cb-5019ec3a4b36",
   "metadata": {},
   "outputs": [
    {
     "name": "stdout",
     "output_type": "stream",
     "text": [
      " * postgresql://student@/assignment2\n",
      "Done.\n"
     ]
    },
    {
     "data": {
      "text/plain": [
       "[]"
      ]
     },
     "execution_count": 83,
     "metadata": {},
     "output_type": "execute_result"
    }
   ],
   "source": [
    "%%sql\n",
    "COMMENT ON TABLE NIBRS_Victim IS\n",
    "'Victim table: holds information on victims, such as unique identifiers, incident ids, victim sequence numbers, victim type identifiers, age, gender, race, and ethnicity';\n"
   ]
  },
  {
   "cell_type": "code",
   "execution_count": 84,
   "id": "fb58b4bf-1603-4c6f-8e96-8f0cbee0dba2",
   "metadata": {},
   "outputs": [
    {
     "name": "stdout",
     "output_type": "stream",
     "text": [
      " * postgresql://student@/assignment2\n",
      "1 rows affected.\n"
     ]
    },
    {
     "data": {
      "text/html": [
       "<table>\n",
       "    <thead>\n",
       "        <tr>\n",
       "            <th>obj_description</th>\n",
       "        </tr>\n",
       "    </thead>\n",
       "    <tbody>\n",
       "        <tr>\n",
       "            <td>Victim table: holds information on victims, such as unique identifiers, incident ids, victim sequence numbers, victim type identifiers, age, gender, race, and ethnicity</td>\n",
       "        </tr>\n",
       "    </tbody>\n",
       "</table>"
      ],
      "text/plain": [
       "[('Victim table: holds information on victims, such as unique identifiers, incident ids, victim sequence numbers, victim type identifiers, age, gender, race, and ethnicity',)]"
      ]
     },
     "execution_count": 84,
     "metadata": {},
     "output_type": "execute_result"
    }
   ],
   "source": [
    "%%sql\n",
    "SELECT obj_description(oid, 'pg_class')\n",
    "FROM pg_class\n",
    "WHERE upper(relname) = 'NIBRS_VICTIM';"
   ]
  },
  {
   "cell_type": "code",
   "execution_count": 85,
   "id": "5b03aed2-5879-410f-a8b8-3206c8ef5fa7",
   "metadata": {},
   "outputs": [
    {
     "name": "stdout",
     "output_type": "stream",
     "text": [
      " * postgresql://student@/assignment2\n",
      "Done.\n",
      "Done.\n",
      "Done.\n",
      "Done.\n",
      "Done.\n",
      "Done.\n",
      "Done.\n",
      "Done.\n"
     ]
    },
    {
     "data": {
      "text/plain": [
       "[]"
      ]
     },
     "execution_count": 85,
     "metadata": {},
     "output_type": "execute_result"
    }
   ],
   "source": [
    "%%sql\n",
    "COMMENT ON COLUMN NIBRS_Victim.Victim_ID IS 'Internal ID of the victim';\n",
    "COMMENT ON COLUMN NIBRS_Victim.Incident_ID IS 'Reference to the Incident';\n",
    "COMMENT ON COLUMN NIBRS_Victim.Victim_Seq_Num IS 'A sequence number for each victim in an incident';\n",
    "COMMENT ON COLUMN NIBRS_Victim.Victim_Type_ID IS 'Used to categorize the victim associated with the incident';\n",
    "COMMENT ON COLUMN NIBRS_Victim.Age_Num IS 'The age in years of an individual victim when the reported crime occurred';\n",
    "COMMENT ON COLUMN NIBRS_Victim.Sex_Code IS 'The sex (gender) of an individual victim';\n",
    "COMMENT ON COLUMN NIBRS_Victim.Race_ID IS 'The race of an individual victim';\n",
    "COMMENT ON COLUMN NIBRS_Victim.Ethnicity_ID IS 'The ethnicity of an individual victim when Type of Victim is Individual or Law Enforcement Officer  and references NIBRS_ETHNICITY';\n"
   ]
  },
  {
   "cell_type": "code",
   "execution_count": 86,
   "id": "d4ebf721-4c0a-4673-8c0c-d828d77db377",
   "metadata": {},
   "outputs": [
    {
     "name": "stdout",
     "output_type": "stream",
     "text": [
      " * postgresql://student@/assignment2\n",
      "8 rows affected.\n"
     ]
    },
    {
     "data": {
      "text/html": [
       "<table>\n",
       "    <thead>\n",
       "        <tr>\n",
       "            <th>column_name</th>\n",
       "            <th>col_description</th>\n",
       "        </tr>\n",
       "    </thead>\n",
       "    <tbody>\n",
       "        <tr>\n",
       "            <td>victim_id</td>\n",
       "            <td>Internal ID of the victim</td>\n",
       "        </tr>\n",
       "        <tr>\n",
       "            <td>incident_id</td>\n",
       "            <td>Reference to the Incident</td>\n",
       "        </tr>\n",
       "        <tr>\n",
       "            <td>victim_seq_num</td>\n",
       "            <td>A sequence number for each victim in an incident</td>\n",
       "        </tr>\n",
       "        <tr>\n",
       "            <td>victim_type_id</td>\n",
       "            <td>Used to categorize the victim associated with the incident</td>\n",
       "        </tr>\n",
       "        <tr>\n",
       "            <td>age_num</td>\n",
       "            <td>The age in years of an individual victim when the reported crime occurred</td>\n",
       "        </tr>\n",
       "        <tr>\n",
       "            <td>sex_code</td>\n",
       "            <td>The sex (gender) of an individual victim</td>\n",
       "        </tr>\n",
       "        <tr>\n",
       "            <td>race_id</td>\n",
       "            <td>The race of an individual victim</td>\n",
       "        </tr>\n",
       "        <tr>\n",
       "            <td>ethnicity_id</td>\n",
       "            <td>The ethnicity of an individual victim when Type of Victim is Individual or Law Enforcement Officer  and references NIBRS_ETHNICITY</td>\n",
       "        </tr>\n",
       "    </tbody>\n",
       "</table>"
      ],
      "text/plain": [
       "[('victim_id', 'Internal ID of the victim'),\n",
       " ('incident_id', 'Reference to the Incident'),\n",
       " ('victim_seq_num', 'A sequence number for each victim in an incident'),\n",
       " ('victim_type_id', 'Used to categorize the victim associated with the incident'),\n",
       " ('age_num', 'The age in years of an individual victim when the reported crime occurred'),\n",
       " ('sex_code', 'The sex (gender) of an individual victim'),\n",
       " ('race_id', 'The race of an individual victim'),\n",
       " ('ethnicity_id', 'The ethnicity of an individual victim when Type of Victim is Individual or Law Enforcement Officer  and references NIBRS_ETHNICITY')]"
      ]
     },
     "execution_count": 86,
     "metadata": {},
     "output_type": "execute_result"
    }
   ],
   "source": [
    "%%sql\n",
    "SELECT cols.column_name,\n",
    "pg_catalog.col_description(c.oid, cols.ordinal_position::int)\n",
    "FROM pg_catalog.pg_class c, information_schema.columns cols\n",
    " WHERE cols.table_name = c.relname  and upper(relname) = 'NIBRS_VICTIM';"
   ]
  },
  {
   "cell_type": "code",
   "execution_count": 87,
   "id": "2a1a4b77-f3fe-4a97-ad43-155591eb67e7",
   "metadata": {},
   "outputs": [
    {
     "name": "stdout",
     "output_type": "stream",
     "text": [
      "  1: data_year\n",
      "  2: victim_id\n",
      "  3: incident_id\n",
      "  4: victim_seq_num\n",
      "  5: victim_type_id\n",
      "  6: assignment_type_id\n",
      "  7: activity_type_id\n",
      "  8: outside_agency_id\n",
      "  9: age_id\n",
      " 10: age_num\n",
      " 11: sex_code\n",
      " 12: race_id\n",
      " 13: ethnicity_id\n",
      " 14: resident_status_code\n",
      " 15: age_range_low_num\n",
      " 16: age_code_range_high\n"
     ]
    }
   ],
   "source": [
    "!csvcut -n NIBRS_VICTIM.csv"
   ]
  },
  {
   "cell_type": "code",
   "execution_count": 88,
   "id": "e5a61133-3bd6-49e1-9fa7-a24a3601726f",
   "metadata": {},
   "outputs": [],
   "source": [
    "!csvcut -c 2,3,4,5,10,11,12,13 /home/ubuntu/notebooks/NIBRS_VICTIM.csv > /home/ubuntu/notebooks/NIBRS_VICTIM_F.csv"
   ]
  },
  {
   "cell_type": "code",
   "execution_count": 89,
   "id": "12c34483-9e09-42de-9937-67a2f9d47aee",
   "metadata": {},
   "outputs": [
    {
     "name": "stdout",
     "output_type": "stream",
     "text": [
      "  1: victim_id\n",
      "  2: incident_id\n",
      "  3: victim_seq_num\n",
      "  4: victim_type_id\n",
      "  5: age_num\n",
      "  6: sex_code\n",
      "  7: race_id\n",
      "  8: ethnicity_id\n"
     ]
    }
   ],
   "source": [
    "!csvcut -n NIBRS_VICTIM_F.csv"
   ]
  },
  {
   "cell_type": "code",
   "execution_count": 90,
   "id": "511d5e35-1877-45ba-9fd0-04ef2f8f70f2",
   "metadata": {},
   "outputs": [
    {
     "name": "stdout",
     "output_type": "stream",
     "text": [
      " * postgresql://student@/assignment2\n",
      "133987 rows affected.\n"
     ]
    },
    {
     "data": {
      "text/plain": [
       "[]"
      ]
     },
     "execution_count": 90,
     "metadata": {},
     "output_type": "execute_result"
    }
   ],
   "source": [
    "%%sql\n",
    "\n",
    "COPY NIBRS_Victim FROM '/home/ubuntu/notebooks/NIBRS_VICTIM_F.csv'\n",
    "CSV\n",
    "HEADER;"
   ]
  },
  {
   "cell_type": "markdown",
   "id": "51efa225-e78a-4ed3-aaf7-c91519622dad",
   "metadata": {},
   "source": [
    "%%sql \n",
    "SELECT * FROM NIBRS_Victim"
   ]
  },
  {
   "cell_type": "markdown",
   "id": "82bf2deb-9021-4ec8-908d-c15d8f350a4a",
   "metadata": {},
   "source": [
    "* The above command was changed to markdown, because it would take a long time to run due to the number of rows it contains. It is for reference. "
   ]
  },
  {
   "cell_type": "code",
   "execution_count": 91,
   "id": "f3636878-6568-48e7-8c8d-6d48e3234506",
   "metadata": {},
   "outputs": [
    {
     "name": "stdout",
     "output_type": "stream",
     "text": [
      " * postgresql://student@/assignment2\n",
      "1 rows affected.\n"
     ]
    },
    {
     "data": {
      "text/html": [
       "<table>\n",
       "    <thead>\n",
       "        <tr>\n",
       "            <th>count</th>\n",
       "        </tr>\n",
       "    </thead>\n",
       "    <tbody>\n",
       "        <tr>\n",
       "            <td>133987</td>\n",
       "        </tr>\n",
       "    </tbody>\n",
       "</table>"
      ],
      "text/plain": [
       "[(133987,)]"
      ]
     },
     "execution_count": 91,
     "metadata": {},
     "output_type": "execute_result"
    }
   ],
   "source": [
    "%%sql\n",
    "SELECT COUNT(*) FROM NIBRS_Victim"
   ]
  },
  {
   "cell_type": "markdown",
   "id": "181b5c01-c165-43e1-8fbe-a69fb6cc64ce",
   "metadata": {},
   "source": [
    "!csvcut NIBRS_VICTIM_F.csv | csvstat"
   ]
  },
  {
   "cell_type": "code",
   "execution_count": 92,
   "id": "ce873f84-fefb-4b24-bfaa-82246946ba1b",
   "metadata": {},
   "outputs": [
    {
     "name": "stdout",
     "output_type": "stream",
     "text": [
      "133987\n"
     ]
    }
   ],
   "source": [
    "!xsv count NIBRS_VICTIM_F.csv"
   ]
  },
  {
   "cell_type": "markdown",
   "id": "ce64c03e-0c3a-424e-a6ea-a087f63051c1",
   "metadata": {},
   "source": [
    "* We decided to use xsv instead of csvcut to run it more efficiently. "
   ]
  },
  {
   "cell_type": "markdown",
   "id": "4ef4f138-ae03-42a9-bd16-1cc3d2af9ecc",
   "metadata": {},
   "source": [
    "#### Create table of Offense "
   ]
  },
  {
   "cell_type": "code",
   "execution_count": 93,
   "id": "e61cce0c-645e-48db-887b-05b3e3edc80f",
   "metadata": {},
   "outputs": [
    {
     "name": "stdout",
     "output_type": "stream",
     "text": [
      " * postgresql://student@/assignment2\n",
      "Done.\n",
      "Done.\n"
     ]
    },
    {
     "data": {
      "text/plain": [
       "[]"
      ]
     },
     "execution_count": 93,
     "metadata": {},
     "output_type": "execute_result"
    }
   ],
   "source": [
    "%%sql\n",
    "DROP TABLE IF EXISTS NIBRS_Offense Cascade;\n",
    "\n",
    "CREATE TABLE NIBRS_Offense(\n",
    "  Offense_ID numeric(10) NOT NULL,\n",
    "  Incident_ID numeric(10) NOT NULL,\n",
    "  Offense_Code varchar(5) NOT NULL,\n",
    "  Location_ID numeric(10) NOT NULL,\n",
    "    \n",
    "  PRIMARY KEY (Offense_ID),\n",
    "  FOREIGN KEY (Incident_ID) REFERENCES NIBRS_Incident(Incident_ID),\n",
    "  FOREIGN KEY (Offense_Code) REFERENCES NIBRS_Offense_Type(Offense_Code),\n",
    "  FOREIGN KEY (Location_ID) REFERENCES NIBRS_Location_Type(Location_ID)\n",
    ");"
   ]
  },
  {
   "cell_type": "code",
   "execution_count": 94,
   "id": "ad35f60f-a778-48a9-bd6f-c19b49f336c5",
   "metadata": {},
   "outputs": [
    {
     "name": "stdout",
     "output_type": "stream",
     "text": [
      " * postgresql://student@/assignment2\n",
      "Done.\n"
     ]
    },
    {
     "data": {
      "text/plain": [
       "[]"
      ]
     },
     "execution_count": 94,
     "metadata": {},
     "output_type": "execute_result"
    }
   ],
   "source": [
    "%%sql\n",
    "COMMENT ON TABLE NIBRS_Offense IS\n",
    "'Offense table: holds information about offenses including a unique identifier, an offense code, the event linked with the offense, and the location where the offense happened';\n"
   ]
  },
  {
   "cell_type": "code",
   "execution_count": 95,
   "id": "5da7f063-186d-4922-a00b-c8ae98352254",
   "metadata": {},
   "outputs": [
    {
     "name": "stdout",
     "output_type": "stream",
     "text": [
      " * postgresql://student@/assignment2\n",
      "1 rows affected.\n"
     ]
    },
    {
     "data": {
      "text/html": [
       "<table>\n",
       "    <thead>\n",
       "        <tr>\n",
       "            <th>obj_description</th>\n",
       "        </tr>\n",
       "    </thead>\n",
       "    <tbody>\n",
       "        <tr>\n",
       "            <td>Offense table: holds information about offenses including a unique identifier, an offense code, the event linked with the offense, and the location where the offense happened</td>\n",
       "        </tr>\n",
       "    </tbody>\n",
       "</table>"
      ],
      "text/plain": [
       "[('Offense table: holds information about offenses including a unique identifier, an offense code, the event linked with the offense, and the location where the offense happened',)]"
      ]
     },
     "execution_count": 95,
     "metadata": {},
     "output_type": "execute_result"
    }
   ],
   "source": [
    "%%sql\n",
    "SELECT obj_description(oid, 'pg_class')\n",
    "FROM pg_class\n",
    "WHERE upper(relname) = 'NIBRS_OFFENSE';"
   ]
  },
  {
   "cell_type": "code",
   "execution_count": 96,
   "id": "a023d89a-5e15-432c-b6da-05ff773e09ca",
   "metadata": {},
   "outputs": [
    {
     "name": "stdout",
     "output_type": "stream",
     "text": [
      " * postgresql://student@/assignment2\n",
      "Done.\n",
      "Done.\n",
      "Done.\n",
      "Done.\n"
     ]
    },
    {
     "data": {
      "text/plain": [
       "[]"
      ]
     },
     "execution_count": 96,
     "metadata": {},
     "output_type": "execute_result"
    }
   ],
   "source": [
    "%%sql\n",
    "COMMENT ON COLUMN NIBRS_Offense.Offense_ID IS 'Internal unique ID for offense';\n",
    "COMMENT ON COLUMN NIBRS_Offense.Incident_ID IS 'Reference to parent Incident';\n",
    "COMMENT ON COLUMN NIBRS_Offense.Offense_Code IS 'Offense code from the tech spec';\n",
    "COMMENT ON COLUMN NIBRS_Offense.Location_ID IS 'Reference to the type of location/premises where each offense took place';"
   ]
  },
  {
   "cell_type": "code",
   "execution_count": 97,
   "id": "9a4e8198-88ec-4259-8bde-6dc9717f2c1f",
   "metadata": {},
   "outputs": [
    {
     "name": "stdout",
     "output_type": "stream",
     "text": [
      " * postgresql://student@/assignment2\n",
      "4 rows affected.\n"
     ]
    },
    {
     "data": {
      "text/html": [
       "<table>\n",
       "    <thead>\n",
       "        <tr>\n",
       "            <th>column_name</th>\n",
       "            <th>col_description</th>\n",
       "        </tr>\n",
       "    </thead>\n",
       "    <tbody>\n",
       "        <tr>\n",
       "            <td>offense_id</td>\n",
       "            <td>Internal unique ID for offense</td>\n",
       "        </tr>\n",
       "        <tr>\n",
       "            <td>incident_id</td>\n",
       "            <td>Reference to parent Incident</td>\n",
       "        </tr>\n",
       "        <tr>\n",
       "            <td>offense_code</td>\n",
       "            <td>Offense code from the tech spec</td>\n",
       "        </tr>\n",
       "        <tr>\n",
       "            <td>location_id</td>\n",
       "            <td>Reference to the type of location/premises where each offense took place</td>\n",
       "        </tr>\n",
       "    </tbody>\n",
       "</table>"
      ],
      "text/plain": [
       "[('offense_id', 'Internal unique ID for offense'),\n",
       " ('incident_id', 'Reference to parent Incident'),\n",
       " ('offense_code', 'Offense code from the tech spec'),\n",
       " ('location_id', 'Reference to the type of location/premises where each offense took place')]"
      ]
     },
     "execution_count": 97,
     "metadata": {},
     "output_type": "execute_result"
    }
   ],
   "source": [
    "%%sql\n",
    "SELECT cols.column_name,\n",
    "pg_catalog.col_description(c.oid, cols.ordinal_position::int)\n",
    "FROM pg_catalog.pg_class c, information_schema.columns cols\n",
    " WHERE cols.table_name = c.relname  and upper(relname) = 'NIBRS_OFFENSE';"
   ]
  },
  {
   "cell_type": "code",
   "execution_count": 98,
   "id": "e27457dd-031b-4433-9b2b-8d0362bdbb84",
   "metadata": {},
   "outputs": [
    {
     "name": "stdout",
     "output_type": "stream",
     "text": [
      "  1: data_year\n",
      "  2: offense_id\n",
      "  3: incident_id\n",
      "  4: offense_code\n",
      "  5: attempt_complete_flag\n",
      "  6: location_id\n",
      "  7: num_premises_entered\n",
      "  8: method_entry_code\n"
     ]
    }
   ],
   "source": [
    "!csvcut -n NIBRS_OFFENSE.csv"
   ]
  },
  {
   "cell_type": "code",
   "execution_count": 99,
   "id": "f993befe-9558-4a1c-861a-438c04bd971b",
   "metadata": {},
   "outputs": [],
   "source": [
    "!csvcut -c 2,3,4,6 NIBRS_OFFENSE.csv > NIBRS_OFFENSE_F.csv"
   ]
  },
  {
   "cell_type": "code",
   "execution_count": 100,
   "id": "3479af0e-781b-425c-9678-cebc37ce619b",
   "metadata": {},
   "outputs": [
    {
     "name": "stdout",
     "output_type": "stream",
     "text": [
      "  1: offense_id\n",
      "  2: incident_id\n",
      "  3: offense_code\n",
      "  4: location_id\n"
     ]
    }
   ],
   "source": [
    "!csvcut -n NIBRS_OFFENSE_F.csv"
   ]
  },
  {
   "cell_type": "code",
   "execution_count": 101,
   "id": "679ac6f9-6a5e-49a8-9280-870e199ed830",
   "metadata": {},
   "outputs": [
    {
     "name": "stdout",
     "output_type": "stream",
     "text": [
      " * postgresql://student@/assignment2\n",
      "136848 rows affected.\n"
     ]
    },
    {
     "data": {
      "text/plain": [
       "[]"
      ]
     },
     "execution_count": 101,
     "metadata": {},
     "output_type": "execute_result"
    }
   ],
   "source": [
    "%%sql\n",
    "\n",
    "COPY NIBRS_Offense FROM '/home/ubuntu/notebooks/NIBRS_OFFENSE_F.csv'\n",
    "CSV\n",
    "HEADER;"
   ]
  },
  {
   "cell_type": "markdown",
   "id": "29c00bdb-4de6-4d53-8ec5-1f7dae3bc63b",
   "metadata": {},
   "source": [
    "%%sql \n",
    "SELECT * FROM NIBRS_Offense"
   ]
  },
  {
   "cell_type": "markdown",
   "id": "8db5ee6a-aeeb-40cf-a955-4dbf7d42ca55",
   "metadata": {},
   "source": [
    "* The above command was changed to markdown, because it would take a long time to run due to the number of rows it contains. It is for reference. "
   ]
  },
  {
   "cell_type": "code",
   "execution_count": 102,
   "id": "5a21864a-b3d1-4635-85d6-518f54f1958c",
   "metadata": {},
   "outputs": [
    {
     "name": "stdout",
     "output_type": "stream",
     "text": [
      " * postgresql://student@/assignment2\n",
      "1 rows affected.\n"
     ]
    },
    {
     "data": {
      "text/html": [
       "<table>\n",
       "    <thead>\n",
       "        <tr>\n",
       "            <th>count</th>\n",
       "        </tr>\n",
       "    </thead>\n",
       "    <tbody>\n",
       "        <tr>\n",
       "            <td>136848</td>\n",
       "        </tr>\n",
       "    </tbody>\n",
       "</table>"
      ],
      "text/plain": [
       "[(136848,)]"
      ]
     },
     "execution_count": 102,
     "metadata": {},
     "output_type": "execute_result"
    }
   ],
   "source": [
    "%%sql \n",
    "SELECT COUNT(*) FROM NIBRS_Offense"
   ]
  },
  {
   "cell_type": "markdown",
   "id": "d4451985-7fc5-42e7-9c79-6218c61368d7",
   "metadata": {},
   "source": [
    "!csvcut NIBRS_OFFENSE_F.csv | csvstat"
   ]
  },
  {
   "cell_type": "code",
   "execution_count": 103,
   "id": "981767d7-4066-4838-b74c-a46e3845a258",
   "metadata": {},
   "outputs": [
    {
     "name": "stdout",
     "output_type": "stream",
     "text": [
      "136848\n"
     ]
    }
   ],
   "source": [
    "!xsv count NIBRS_OFFENSE_F.csv"
   ]
  },
  {
   "cell_type": "markdown",
   "id": "04789651-b9ed-4193-89cc-e29695ce4d44",
   "metadata": {},
   "source": [
    "* We decided to use xsv instead of csvcut to run it more efficiently. "
   ]
  },
  {
   "cell_type": "markdown",
   "id": "71614f4a-fbd0-4045-9dcb-6cf0b5bf9771",
   "metadata": {},
   "source": [
    "#### Create table of Offender."
   ]
  },
  {
   "cell_type": "markdown",
   "id": "4e318752-4588-4ae2-a615-931af8943adb",
   "metadata": {},
   "source": [
    "Changed Age_Num to varchar(10)"
   ]
  },
  {
   "cell_type": "code",
   "execution_count": 104,
   "id": "2efc3710-84c8-4290-a5ca-5751cc206a2f",
   "metadata": {},
   "outputs": [
    {
     "name": "stdout",
     "output_type": "stream",
     "text": [
      " * postgresql://student@/assignment2\n",
      "Done.\n",
      "Done.\n"
     ]
    },
    {
     "data": {
      "text/plain": [
       "[]"
      ]
     },
     "execution_count": 104,
     "metadata": {},
     "output_type": "execute_result"
    }
   ],
   "source": [
    "%%sql\n",
    "DROP TABLE IF EXISTS NIBRS_Offender Cascade;\n",
    "\n",
    "CREATE TABLE NIBRS_Offender(\n",
    "  Offender_ID numeric(10) NOT NULL,\n",
    "  Incident_ID numeric(10) NOT NULL,\n",
    "  Offender_Seq_Num numeric(3) NULL,\n",
    "  Age_Num varchar(10) NULL,\n",
    "  Sex_Code char(1) NULL,\n",
    "  Race_ID numeric(4) NULL, \n",
    "  Ethnicity_ID numeric(4) NULL,\n",
    "    \n",
    "  PRIMARY KEY (Offender_ID),\n",
    "  FOREIGN KEY (Incident_ID) REFERENCES NIBRS_Incident(Incident_ID),\n",
    "  FOREIGN KEY (Race_ID) REFERENCES Ref_Race(Race_ID),\n",
    "  FOREIGN KEY (Ethnicity_ID) REFERENCES NIBRS_Ethnicity(Ethnicity_ID)\n",
    ");"
   ]
  },
  {
   "cell_type": "code",
   "execution_count": 105,
   "id": "0f6f942a-eb44-47d7-b652-52f1f96d298a",
   "metadata": {},
   "outputs": [
    {
     "name": "stdout",
     "output_type": "stream",
     "text": [
      " * postgresql://student@/assignment2\n",
      "Done.\n"
     ]
    },
    {
     "data": {
      "text/plain": [
       "[]"
      ]
     },
     "execution_count": 105,
     "metadata": {},
     "output_type": "execute_result"
    }
   ],
   "source": [
    "%%sql\n",
    "COMMENT ON TABLE NIBRS_Offender IS\n",
    "'Offender table: holds information about the individuals involved in events, such as unique identifiers, incident associations, offender sequence numbers, age, gender, race, and ethnicity';\n"
   ]
  },
  {
   "cell_type": "code",
   "execution_count": 106,
   "id": "5a9ad7d2-9231-4686-ae0e-c190143a5ebc",
   "metadata": {},
   "outputs": [
    {
     "name": "stdout",
     "output_type": "stream",
     "text": [
      " * postgresql://student@/assignment2\n",
      "1 rows affected.\n"
     ]
    },
    {
     "data": {
      "text/html": [
       "<table>\n",
       "    <thead>\n",
       "        <tr>\n",
       "            <th>obj_description</th>\n",
       "        </tr>\n",
       "    </thead>\n",
       "    <tbody>\n",
       "        <tr>\n",
       "            <td>Offender table: holds information about the individuals involved in events, such as unique identifiers, incident associations, offender sequence numbers, age, gender, race, and ethnicity</td>\n",
       "        </tr>\n",
       "    </tbody>\n",
       "</table>"
      ],
      "text/plain": [
       "[('Offender table: holds information about the individuals involved in events, such as unique identifiers, incident associations, offender sequence numbers, age, gender, race, and ethnicity',)]"
      ]
     },
     "execution_count": 106,
     "metadata": {},
     "output_type": "execute_result"
    }
   ],
   "source": [
    "%%sql\n",
    "SELECT obj_description(oid, 'pg_class')\n",
    "FROM pg_class\n",
    "WHERE upper(relname) = 'NIBRS_OFFENDER';"
   ]
  },
  {
   "cell_type": "code",
   "execution_count": 107,
   "id": "c4dcaaba-22ad-460f-8a8d-b0e236b98a62",
   "metadata": {},
   "outputs": [
    {
     "name": "stdout",
     "output_type": "stream",
     "text": [
      " * postgresql://student@/assignment2\n",
      "Done.\n",
      "Done.\n",
      "Done.\n",
      "Done.\n",
      "Done.\n",
      "Done.\n",
      "Done.\n"
     ]
    },
    {
     "data": {
      "text/plain": [
       "[]"
      ]
     },
     "execution_count": 107,
     "metadata": {},
     "output_type": "execute_result"
    }
   ],
   "source": [
    "%%sql\n",
    "COMMENT ON COLUMN NIBRS_Offender.Offender_ID IS 'Unique ID of the Offender';\n",
    "COMMENT ON COLUMN NIBRS_Offender.Incident_ID IS 'Reference to Incident';\n",
    "COMMENT ON COLUMN NIBRS_Offender.Offender_Seq_Num IS 'Sequence number from for each offender in an incident';\n",
    "COMMENT ON COLUMN NIBRS_Offender.Age_Num IS 'The age in years of an offender when the reported crime occurred';\n",
    "COMMENT ON COLUMN NIBRS_Offender.Sex_Code IS 'The  gender of an offender';\n",
    "COMMENT ON COLUMN NIBRS_Offender.Race_ID IS 'The race of an individual victim';\n",
    "COMMENT ON COLUMN NIBRS_Offender.Ethnicity_ID IS 'The ethnicity of an offender';\n"
   ]
  },
  {
   "cell_type": "code",
   "execution_count": 108,
   "id": "c8fb30e6-3ab2-4ba5-b74b-9bd0c06c4ccf",
   "metadata": {},
   "outputs": [
    {
     "name": "stdout",
     "output_type": "stream",
     "text": [
      " * postgresql://student@/assignment2\n",
      "7 rows affected.\n"
     ]
    },
    {
     "data": {
      "text/html": [
       "<table>\n",
       "    <thead>\n",
       "        <tr>\n",
       "            <th>column_name</th>\n",
       "            <th>col_description</th>\n",
       "        </tr>\n",
       "    </thead>\n",
       "    <tbody>\n",
       "        <tr>\n",
       "            <td>offender_id</td>\n",
       "            <td>Unique ID of the Offender</td>\n",
       "        </tr>\n",
       "        <tr>\n",
       "            <td>incident_id</td>\n",
       "            <td>Reference to Incident</td>\n",
       "        </tr>\n",
       "        <tr>\n",
       "            <td>offender_seq_num</td>\n",
       "            <td>Sequence number from for each offender in an incident</td>\n",
       "        </tr>\n",
       "        <tr>\n",
       "            <td>age_num</td>\n",
       "            <td>The age in years of an offender when the reported crime occurred</td>\n",
       "        </tr>\n",
       "        <tr>\n",
       "            <td>sex_code</td>\n",
       "            <td>The  gender of an offender</td>\n",
       "        </tr>\n",
       "        <tr>\n",
       "            <td>race_id</td>\n",
       "            <td>The race of an individual victim</td>\n",
       "        </tr>\n",
       "        <tr>\n",
       "            <td>ethnicity_id</td>\n",
       "            <td>The ethnicity of an offender</td>\n",
       "        </tr>\n",
       "    </tbody>\n",
       "</table>"
      ],
      "text/plain": [
       "[('offender_id', 'Unique ID of the Offender'),\n",
       " ('incident_id', 'Reference to Incident'),\n",
       " ('offender_seq_num', 'Sequence number from for each offender in an incident'),\n",
       " ('age_num', 'The age in years of an offender when the reported crime occurred'),\n",
       " ('sex_code', 'The  gender of an offender'),\n",
       " ('race_id', 'The race of an individual victim'),\n",
       " ('ethnicity_id', 'The ethnicity of an offender')]"
      ]
     },
     "execution_count": 108,
     "metadata": {},
     "output_type": "execute_result"
    }
   ],
   "source": [
    "%%sql\n",
    "SELECT cols.column_name,\n",
    "pg_catalog.col_description(c.oid, cols.ordinal_position::int)\n",
    "FROM pg_catalog.pg_class c, information_schema.columns cols\n",
    " WHERE cols.table_name = c.relname  and upper(relname) = 'NIBRS_OFFENDER';"
   ]
  },
  {
   "cell_type": "code",
   "execution_count": 109,
   "id": "764c755c-9e2a-4d59-9d64-4dce6d4cac1c",
   "metadata": {},
   "outputs": [
    {
     "name": "stdout",
     "output_type": "stream",
     "text": [
      "  1: data_year\n",
      "  2: offender_id\n",
      "  3: incident_id\n",
      "  4: offender_seq_num\n",
      "  5: age_id\n",
      "  6: age_num\n",
      "  7: sex_code\n",
      "  8: race_id\n",
      "  9: ethnicity_id\n",
      " 10: age_range_low_num\n",
      " 11: age_range_high_num\n"
     ]
    }
   ],
   "source": [
    "!csvcut -n NIBRS_OFFENDER.csv"
   ]
  },
  {
   "cell_type": "code",
   "execution_count": 110,
   "id": "d60e56d1-e0f1-4bd7-a15d-2c65536f91ae",
   "metadata": {},
   "outputs": [],
   "source": [
    "!csvcut -c 2,3,4,6,7,8,9 /home/ubuntu/notebooks/NIBRS_OFFENDER.csv > /home/ubuntu/notebooks/NIBRS_OFFENDER_F.csv"
   ]
  },
  {
   "cell_type": "code",
   "execution_count": 111,
   "id": "b24a22d7-24d4-409d-93ac-f58d7e55574b",
   "metadata": {},
   "outputs": [
    {
     "name": "stdout",
     "output_type": "stream",
     "text": [
      "  1: offender_id\n",
      "  2: incident_id\n",
      "  3: offender_seq_num\n",
      "  4: age_num\n",
      "  5: sex_code\n",
      "  6: race_id\n",
      "  7: ethnicity_id\n"
     ]
    }
   ],
   "source": [
    "!csvcut -n NIBRS_OFFENDER_F.csv"
   ]
  },
  {
   "cell_type": "code",
   "execution_count": 112,
   "id": "8e172ada-d4da-46ef-876f-8f3d9148948c",
   "metadata": {},
   "outputs": [
    {
     "name": "stdout",
     "output_type": "stream",
     "text": [
      " * postgresql://student@/assignment2\n",
      "131342 rows affected.\n"
     ]
    },
    {
     "data": {
      "text/plain": [
       "[]"
      ]
     },
     "execution_count": 112,
     "metadata": {},
     "output_type": "execute_result"
    }
   ],
   "source": [
    "%%sql\n",
    "\n",
    "COPY NIBRS_Offender FROM '/home/ubuntu/notebooks/NIBRS_OFFENDER_F.csv'\n",
    "CSV\n",
    "HEADER;"
   ]
  },
  {
   "cell_type": "markdown",
   "id": "41832d91-da4a-4598-901c-f4b96a4a3975",
   "metadata": {},
   "source": [
    "%%sql\n",
    "SELECT * FROM NIBRS_Offender"
   ]
  },
  {
   "cell_type": "markdown",
   "id": "bb704fa2-9686-4202-b484-5a4c134ac877",
   "metadata": {},
   "source": [
    "* The above command was changed to markdown, because it would take a long time to run due to the number of rows it contains. It is for reference. "
   ]
  },
  {
   "cell_type": "code",
   "execution_count": 113,
   "id": "44097bbc-e89c-4fd2-ba0f-d12d53c2ce7f",
   "metadata": {},
   "outputs": [
    {
     "name": "stdout",
     "output_type": "stream",
     "text": [
      " * postgresql://student@/assignment2\n",
      "1 rows affected.\n"
     ]
    },
    {
     "data": {
      "text/html": [
       "<table>\n",
       "    <thead>\n",
       "        <tr>\n",
       "            <th>count</th>\n",
       "        </tr>\n",
       "    </thead>\n",
       "    <tbody>\n",
       "        <tr>\n",
       "            <td>131342</td>\n",
       "        </tr>\n",
       "    </tbody>\n",
       "</table>"
      ],
      "text/plain": [
       "[(131342,)]"
      ]
     },
     "execution_count": 113,
     "metadata": {},
     "output_type": "execute_result"
    }
   ],
   "source": [
    "%%sql\n",
    "SELECT COUNT(*) FROM NIBRS_Offender"
   ]
  },
  {
   "cell_type": "markdown",
   "id": "8c0b3a7f-cba9-4c31-9c72-7d060bb79f54",
   "metadata": {},
   "source": [
    "!csvcut NIBRS_OFFENDER_F.csv | csvstat\n"
   ]
  },
  {
   "cell_type": "code",
   "execution_count": 114,
   "id": "2628e375-81ce-4cb8-b411-027f0684e10d",
   "metadata": {},
   "outputs": [
    {
     "name": "stdout",
     "output_type": "stream",
     "text": [
      "131342\n"
     ]
    }
   ],
   "source": [
    "!xsv count NIBRS_OFFENDER_F.csv"
   ]
  },
  {
   "cell_type": "markdown",
   "id": "67b348b2-3c88-4886-95f4-9aa3fb14669e",
   "metadata": {},
   "source": [
    "* We decided to use xsv instead of csvcut to run it more efficiently. "
   ]
  },
  {
   "cell_type": "markdown",
   "id": "c66f68bf-5a5f-4d11-90d5-1ea984b3f21f",
   "metadata": {},
   "source": [
    "#### Create table of Arrestee."
   ]
  },
  {
   "cell_type": "markdown",
   "id": "e2f4b6c4-c093-4951-a706-3b7412d10271",
   "metadata": {},
   "source": [
    "* There is no Offense Type ID on csv file. Changed to Offense code. \n",
    "* We also observed that in the “NIBRS_Arrestee” csv file, there isnt “Offense_Type_ID”, there is only “Offense_Code”."
   ]
  },
  {
   "cell_type": "code",
   "execution_count": 115,
   "id": "3c76e89e-40a2-4a99-b14e-1331550c48c6",
   "metadata": {},
   "outputs": [
    {
     "name": "stdout",
     "output_type": "stream",
     "text": [
      " * postgresql://student@/assignment2\n",
      "Done.\n",
      "Done.\n"
     ]
    },
    {
     "data": {
      "text/plain": [
       "[]"
      ]
     },
     "execution_count": 115,
     "metadata": {},
     "output_type": "execute_result"
    }
   ],
   "source": [
    "%%sql\n",
    "DROP TABLE IF EXISTS NIBRS_Arrestee Cascade;\n",
    "\n",
    "CREATE TABLE NIBRS_Arrestee\n",
    "(\n",
    "  Arrestee_ID numeric(10) NOT NULL,\n",
    "  Incident_ID numeric(10) NOT NULL,\n",
    "  Arrestee_Seq_Num numeric(10) NULL,\n",
    "  Arrest_Date date NULL,\n",
    "  Arrest_Type_ID numeric(10) NULL,\n",
    "  Offense_Code varchar(5) NOT NULL,\n",
    "  Age_Num varchar(10) NULL,\n",
    "  Sex_Code char(1) NULL,\n",
    "  Race_ID numeric(4) NOT NULL,\n",
    "  Ethnicity_ID numeric(4) NULL,\n",
    "\n",
    "  PRIMARY KEY (Arrestee_ID),\n",
    "  FOREIGN KEY (Incident_ID) REFERENCES NIBRS_Incident(Incident_ID),\n",
    "  FOREIGN KEY (Offense_Code) REFERENCES NIBRS_Offense_Type(Offense_Code),\n",
    "  FOREIGN KEY (Race_ID) REFERENCES Ref_Race(Race_ID),\n",
    "  FOREIGN KEY (Ethnicity_ID) REFERENCES NIBRS_Ethnicity(Ethnicity_ID)\n",
    ");"
   ]
  },
  {
   "cell_type": "code",
   "execution_count": 116,
   "id": "dde03272-bb34-47b3-9f20-1e6edd594e48",
   "metadata": {},
   "outputs": [
    {
     "name": "stdout",
     "output_type": "stream",
     "text": [
      " * postgresql://student@/assignment2\n",
      "Done.\n"
     ]
    },
    {
     "data": {
      "text/plain": [
       "[]"
      ]
     },
     "execution_count": 116,
     "metadata": {},
     "output_type": "execute_result"
    }
   ],
   "source": [
    "%%sql\n",
    "COMMENT ON TABLE NIBRS_Arrestee IS\n",
    "'Arrestee table: holds information on individuals who have been arrested in incidents, such as unique identifiers, incident associations, arrest sequence numbers, arrest dates, arrest types, offense codes, and age, gender, race, and ethnicity information';"
   ]
  },
  {
   "cell_type": "code",
   "execution_count": 117,
   "id": "34578d1c-338d-4dd6-be5d-ed53f8bdadc1",
   "metadata": {},
   "outputs": [
    {
     "name": "stdout",
     "output_type": "stream",
     "text": [
      " * postgresql://student@/assignment2\n",
      "1 rows affected.\n"
     ]
    },
    {
     "data": {
      "text/html": [
       "<table>\n",
       "    <thead>\n",
       "        <tr>\n",
       "            <th>obj_description</th>\n",
       "        </tr>\n",
       "    </thead>\n",
       "    <tbody>\n",
       "        <tr>\n",
       "            <td>Arrestee table: holds information on individuals who have been arrested in incidents, such as unique identifiers, incident associations, arrest sequence numbers, arrest dates, arrest types, offense codes, and age, gender, race, and ethnicity information</td>\n",
       "        </tr>\n",
       "    </tbody>\n",
       "</table>"
      ],
      "text/plain": [
       "[('Arrestee table: holds information on individuals who have been arrested in incidents, such as unique identifiers, incident associations, arrest sequence numbers, arrest dates, arrest types, offense codes, and age, gender, race, and ethnicity information',)]"
      ]
     },
     "execution_count": 117,
     "metadata": {},
     "output_type": "execute_result"
    }
   ],
   "source": [
    "%%sql\n",
    "SELECT obj_description(oid, 'pg_class')\n",
    "FROM pg_class\n",
    "WHERE upper(relname) = 'NIBRS_ARRESTEE';"
   ]
  },
  {
   "cell_type": "code",
   "execution_count": 118,
   "id": "c4c9d809-c33e-4b98-98bc-836be889f2cb",
   "metadata": {},
   "outputs": [
    {
     "name": "stdout",
     "output_type": "stream",
     "text": [
      " * postgresql://student@/assignment2\n",
      "Done.\n",
      "Done.\n",
      "Done.\n",
      "Done.\n",
      "Done.\n",
      "Done.\n",
      "Done.\n",
      "Done.\n",
      "Done.\n",
      "Done.\n"
     ]
    },
    {
     "data": {
      "text/plain": [
       "[]"
      ]
     },
     "execution_count": 118,
     "metadata": {},
     "output_type": "execute_result"
    }
   ],
   "source": [
    "%%sql\n",
    "COMMENT ON COLUMN NIBRS_Arrestee.Arrestee_ID IS 'Internal ID for the Arrestee';\n",
    "COMMENT ON COLUMN NIBRS_Arrestee.Incident_ID IS 'Reference to incident';\n",
    "COMMENT ON COLUMN NIBRS_Arrestee.Arrestee_Seq_Num IS 'Sequence number assigned to each arrestee in the incident';\n",
    "COMMENT ON COLUMN NIBRS_Arrestee.Arrest_Date IS 'The date of the arrest';\n",
    "COMMENT ON COLUMN NIBRS_Arrestee.Arrest_Type_ID IS 'How the offender was arrested';\n",
    "COMMENT ON COLUMN NIBRS_Arrestee.Offense_Code IS 'NIBRS Offense Code';\n",
    "COMMENT ON COLUMN NIBRS_Arrestee.Age_Num IS 'The age in years of an individual arrestee';\n",
    "COMMENT ON COLUMN NIBRS_Arrestee.Sex_Code IS 'The gender of an individual arrestee';\n",
    "COMMENT ON COLUMN NIBRS_Arrestee.Race_ID IS 'The race of an individual arrestee';\n",
    "COMMENT ON COLUMN NIBRS_Arrestee.Ethnicity_ID IS 'The ethnicity of an individual arrestee';\n"
   ]
  },
  {
   "cell_type": "code",
   "execution_count": 119,
   "id": "2c04ad75-554f-4c7e-bba5-2e47537aa49f",
   "metadata": {},
   "outputs": [
    {
     "name": "stdout",
     "output_type": "stream",
     "text": [
      " * postgresql://student@/assignment2\n",
      "10 rows affected.\n"
     ]
    },
    {
     "data": {
      "text/html": [
       "<table>\n",
       "    <thead>\n",
       "        <tr>\n",
       "            <th>column_name</th>\n",
       "            <th>col_description</th>\n",
       "        </tr>\n",
       "    </thead>\n",
       "    <tbody>\n",
       "        <tr>\n",
       "            <td>arrestee_id</td>\n",
       "            <td>Internal ID for the Arrestee</td>\n",
       "        </tr>\n",
       "        <tr>\n",
       "            <td>incident_id</td>\n",
       "            <td>Reference to incident</td>\n",
       "        </tr>\n",
       "        <tr>\n",
       "            <td>arrestee_seq_num</td>\n",
       "            <td>Sequence number assigned to each arrestee in the incident</td>\n",
       "        </tr>\n",
       "        <tr>\n",
       "            <td>arrest_date</td>\n",
       "            <td>The date of the arrest</td>\n",
       "        </tr>\n",
       "        <tr>\n",
       "            <td>arrest_type_id</td>\n",
       "            <td>How the offender was arrested</td>\n",
       "        </tr>\n",
       "        <tr>\n",
       "            <td>offense_code</td>\n",
       "            <td>NIBRS Offense Code</td>\n",
       "        </tr>\n",
       "        <tr>\n",
       "            <td>age_num</td>\n",
       "            <td>The age in years of an individual arrestee</td>\n",
       "        </tr>\n",
       "        <tr>\n",
       "            <td>sex_code</td>\n",
       "            <td>The gender of an individual arrestee</td>\n",
       "        </tr>\n",
       "        <tr>\n",
       "            <td>race_id</td>\n",
       "            <td>The race of an individual arrestee</td>\n",
       "        </tr>\n",
       "        <tr>\n",
       "            <td>ethnicity_id</td>\n",
       "            <td>The ethnicity of an individual arrestee</td>\n",
       "        </tr>\n",
       "    </tbody>\n",
       "</table>"
      ],
      "text/plain": [
       "[('arrestee_id', 'Internal ID for the Arrestee'),\n",
       " ('incident_id', 'Reference to incident'),\n",
       " ('arrestee_seq_num', 'Sequence number assigned to each arrestee in the incident'),\n",
       " ('arrest_date', 'The date of the arrest'),\n",
       " ('arrest_type_id', 'How the offender was arrested'),\n",
       " ('offense_code', 'NIBRS Offense Code'),\n",
       " ('age_num', 'The age in years of an individual arrestee'),\n",
       " ('sex_code', 'The gender of an individual arrestee'),\n",
       " ('race_id', 'The race of an individual arrestee'),\n",
       " ('ethnicity_id', 'The ethnicity of an individual arrestee')]"
      ]
     },
     "execution_count": 119,
     "metadata": {},
     "output_type": "execute_result"
    }
   ],
   "source": [
    "%%sql\n",
    "SELECT cols.column_name,\n",
    "pg_catalog.col_description(c.oid, cols.ordinal_position::int)\n",
    "FROM pg_catalog.pg_class c, information_schema.columns cols\n",
    " WHERE cols.table_name = c.relname  and upper(relname) = 'NIBRS_ARRESTEE';"
   ]
  },
  {
   "cell_type": "code",
   "execution_count": 120,
   "id": "97accc4e-1362-4afe-9d21-d8ffbb745c67",
   "metadata": {},
   "outputs": [
    {
     "name": "stdout",
     "output_type": "stream",
     "text": [
      "  1: data_year\n",
      "  2: arrestee_id\n",
      "  3: incident_id\n",
      "  4: arrestee_seq_num\n",
      "  5: arrest_date\n",
      "  6: arrest_type_id\n",
      "  7: multiple_indicator\n",
      "  8: offense_code\n",
      "  9: age_id\n",
      " 10: age_num\n",
      " 11: sex_code\n",
      " 12: race_id\n",
      " 13: ethnicity_id\n",
      " 14: resident_code\n",
      " 15: under_18_disposition_code\n",
      " 16: clearance_ind\n",
      " 17: age_range_low_num\n",
      " 18: age_range_high_num\n"
     ]
    }
   ],
   "source": [
    "!csvcut -n NIBRS_ARRESTEE.csv"
   ]
  },
  {
   "cell_type": "code",
   "execution_count": 121,
   "id": "b2daca88-7920-4557-8751-557cbd18739b",
   "metadata": {},
   "outputs": [],
   "source": [
    "!csvcut -c 2,3,4,5,6,8,10,11,12,13 NIBRS_ARRESTEE.csv > NIBRS_ARRESTEE_F.csv"
   ]
  },
  {
   "cell_type": "code",
   "execution_count": 122,
   "id": "7eb2589f-cafc-49d2-a25d-2a0343f55d1f",
   "metadata": {},
   "outputs": [
    {
     "name": "stdout",
     "output_type": "stream",
     "text": [
      "  1: arrestee_id\n",
      "  2: incident_id\n",
      "  3: arrestee_seq_num\n",
      "  4: arrest_date\n",
      "  5: arrest_type_id\n",
      "  6: offense_code\n",
      "  7: age_num\n",
      "  8: sex_code\n",
      "  9: race_id\n",
      " 10: ethnicity_id\n"
     ]
    }
   ],
   "source": [
    "!csvcut -n NIBRS_ARRESTEE_F.csv"
   ]
  },
  {
   "cell_type": "code",
   "execution_count": 123,
   "id": "b1d61954-fc19-47e5-94c7-855d8d9818c8",
   "metadata": {},
   "outputs": [
    {
     "name": "stdout",
     "output_type": "stream",
     "text": [
      " * postgresql://student@/assignment2\n",
      "39567 rows affected.\n"
     ]
    },
    {
     "data": {
      "text/plain": [
       "[]"
      ]
     },
     "execution_count": 123,
     "metadata": {},
     "output_type": "execute_result"
    }
   ],
   "source": [
    "%%sql\n",
    "\n",
    "COPY NIBRS_Arrestee FROM '/home/ubuntu/notebooks/NIBRS_ARRESTEE_F.csv'\n",
    "CSV\n",
    "HEADER;"
   ]
  },
  {
   "cell_type": "markdown",
   "id": "e51b3509-3d2e-46c5-bc45-abf3a36d0b9c",
   "metadata": {},
   "source": [
    "%%sql\n",
    "SELECT * FROM NIBRS_Arrestee"
   ]
  },
  {
   "cell_type": "markdown",
   "id": "f2b418bc-af7e-4049-bd3d-0feb43831339",
   "metadata": {},
   "source": [
    "* The above command was changed to markdown, because it would take a long time to run due to the number of rows it contains. It is for reference. "
   ]
  },
  {
   "cell_type": "code",
   "execution_count": 124,
   "id": "df17fd60-3aab-4c8d-b4f5-68abf7b79b42",
   "metadata": {},
   "outputs": [
    {
     "name": "stdout",
     "output_type": "stream",
     "text": [
      " * postgresql://student@/assignment2\n",
      "1 rows affected.\n"
     ]
    },
    {
     "data": {
      "text/html": [
       "<table>\n",
       "    <thead>\n",
       "        <tr>\n",
       "            <th>count</th>\n",
       "        </tr>\n",
       "    </thead>\n",
       "    <tbody>\n",
       "        <tr>\n",
       "            <td>39567</td>\n",
       "        </tr>\n",
       "    </tbody>\n",
       "</table>"
      ],
      "text/plain": [
       "[(39567,)]"
      ]
     },
     "execution_count": 124,
     "metadata": {},
     "output_type": "execute_result"
    }
   ],
   "source": [
    "%%sql\n",
    "SELECT COUNT(*) FROM NIBRS_Arrestee"
   ]
  },
  {
   "cell_type": "markdown",
   "id": "572235d5-d7ef-4936-9cf1-992360be6781",
   "metadata": {},
   "source": [
    "!csvcut NIBRS_ARRESTEE_F.csv | csvstat"
   ]
  },
  {
   "cell_type": "code",
   "execution_count": 125,
   "id": "84af865d-2892-4b2f-bc44-3c03a16d49e4",
   "metadata": {
    "tags": []
   },
   "outputs": [
    {
     "name": "stdout",
     "output_type": "stream",
     "text": [
      "39567\n"
     ]
    }
   ],
   "source": [
    "!xsv count NIBRS_ARRESTEE_F.csv"
   ]
  },
  {
   "cell_type": "markdown",
   "id": "0b0f4d23-3535-47c1-9ee7-baf83966b9a0",
   "metadata": {},
   "source": [
    "* We decided to use xsv instead of csvcut to run it more efficiently. "
   ]
  },
  {
   "cell_type": "markdown",
   "id": "0f9309f8-7424-4995-8219-f02dc6e5c39b",
   "metadata": {},
   "source": [
    "#### Create table of Victim-Offender Relationship."
   ]
  },
  {
   "cell_type": "code",
   "execution_count": 126,
   "id": "cefb460d-79a1-4693-a048-e70102ec2042",
   "metadata": {},
   "outputs": [
    {
     "name": "stdout",
     "output_type": "stream",
     "text": [
      " * postgresql://student@/assignment2\n",
      "Done.\n",
      "Done.\n"
     ]
    },
    {
     "data": {
      "text/plain": [
       "[]"
      ]
     },
     "execution_count": 126,
     "metadata": {},
     "output_type": "execute_result"
    }
   ],
   "source": [
    "%%sql\n",
    "DROP TABLE IF EXISTS NIBRS_Victim_Offender_Rel Cascade;\n",
    "\n",
    "CREATE TABLE NIBRS_Victim_Offender_Rel(\n",
    "  Victim_ID numeric(10) NOT NULL,\n",
    "  Offender_ID numeric(10) NOT NULL,\n",
    "  Relationship_ID numeric(4) NOT NULL,\n",
    "\n",
    "  FOREIGN KEY (Victim_ID) REFERENCES NIBRS_VICTIM(victim_id),    \n",
    "  FOREIGN KEY (Offender_ID) REFERENCES NIBRS_OFFENDER(offender_id),\n",
    "  FOREIGN KEY (Relationship_ID) REFERENCES NIBRS_Relationship(Relationship_ID)\n",
    ")"
   ]
  },
  {
   "cell_type": "code",
   "execution_count": 127,
   "id": "73bb2b99-84f8-4e4c-b58e-e9ecdf9229b1",
   "metadata": {},
   "outputs": [
    {
     "name": "stdout",
     "output_type": "stream",
     "text": [
      " * postgresql://student@/assignment2\n",
      "Done.\n"
     ]
    },
    {
     "data": {
      "text/plain": [
       "[]"
      ]
     },
     "execution_count": 127,
     "metadata": {},
     "output_type": "execute_result"
    }
   ],
   "source": [
    "%%sql\n",
    "COMMENT ON TABLE NIBRS_Victim_Offender_Rel IS\n",
    "'Victim Offender Relationship table: holds information about victims and offenders, including victim and offender IDs  as well as a relationship identifier to indicate the specific link between them';\n"
   ]
  },
  {
   "cell_type": "code",
   "execution_count": 128,
   "id": "905214ec-7483-4e04-a5c3-8952d761d343",
   "metadata": {},
   "outputs": [
    {
     "name": "stdout",
     "output_type": "stream",
     "text": [
      " * postgresql://student@/assignment2\n",
      "1 rows affected.\n"
     ]
    },
    {
     "data": {
      "text/html": [
       "<table>\n",
       "    <thead>\n",
       "        <tr>\n",
       "            <th>obj_description</th>\n",
       "        </tr>\n",
       "    </thead>\n",
       "    <tbody>\n",
       "        <tr>\n",
       "            <td>Victim Offender Relationship table: holds information about victims and offenders, including victim and offender IDs  as well as a relationship identifier to indicate the specific link between them</td>\n",
       "        </tr>\n",
       "    </tbody>\n",
       "</table>"
      ],
      "text/plain": [
       "[('Victim Offender Relationship table: holds information about victims and offenders, including victim and offender IDs  as well as a relationship identifier to indicate the specific link between them',)]"
      ]
     },
     "execution_count": 128,
     "metadata": {},
     "output_type": "execute_result"
    }
   ],
   "source": [
    "%%sql\n",
    "SELECT obj_description(oid, 'pg_class')\n",
    "FROM pg_class\n",
    "WHERE upper(relname) = 'NIBRS_VICTIM_OFFENDER_REL';"
   ]
  },
  {
   "cell_type": "code",
   "execution_count": 129,
   "id": "b81cad50-2f03-4964-baa3-ce7af1e0e978",
   "metadata": {},
   "outputs": [
    {
     "name": "stdout",
     "output_type": "stream",
     "text": [
      " * postgresql://student@/assignment2\n",
      "Done.\n",
      "Done.\n",
      "Done.\n"
     ]
    },
    {
     "data": {
      "text/plain": [
       "[]"
      ]
     },
     "execution_count": 129,
     "metadata": {},
     "output_type": "execute_result"
    }
   ],
   "source": [
    "%%sql\n",
    "COMMENT ON COLUMN NIBRS_Victim_Offender_Rel.Victim_ID IS 'Reference to victim';\n",
    "COMMENT ON COLUMN NIBRS_Victim_Offender_Rel.Offender_ID IS 'Reference to offender';\n",
    "COMMENT ON COLUMN NIBRS_Victim_Offender_Rel.Relationship_ID IS 'Relationship type';\n"
   ]
  },
  {
   "cell_type": "code",
   "execution_count": 130,
   "id": "b8517bc5-14c4-40ac-bd75-8be2b5f953a7",
   "metadata": {},
   "outputs": [
    {
     "name": "stdout",
     "output_type": "stream",
     "text": [
      " * postgresql://student@/assignment2\n",
      "3 rows affected.\n"
     ]
    },
    {
     "data": {
      "text/html": [
       "<table>\n",
       "    <thead>\n",
       "        <tr>\n",
       "            <th>column_name</th>\n",
       "            <th>col_description</th>\n",
       "        </tr>\n",
       "    </thead>\n",
       "    <tbody>\n",
       "        <tr>\n",
       "            <td>victim_id</td>\n",
       "            <td>Reference to victim</td>\n",
       "        </tr>\n",
       "        <tr>\n",
       "            <td>offender_id</td>\n",
       "            <td>Reference to offender</td>\n",
       "        </tr>\n",
       "        <tr>\n",
       "            <td>relationship_id</td>\n",
       "            <td>Relationship type</td>\n",
       "        </tr>\n",
       "    </tbody>\n",
       "</table>"
      ],
      "text/plain": [
       "[('victim_id', 'Reference to victim'),\n",
       " ('offender_id', 'Reference to offender'),\n",
       " ('relationship_id', 'Relationship type')]"
      ]
     },
     "execution_count": 130,
     "metadata": {},
     "output_type": "execute_result"
    }
   ],
   "source": [
    "%%sql\n",
    "SELECT cols.column_name,\n",
    "pg_catalog.col_description(c.oid, cols.ordinal_position::int)\n",
    "FROM pg_catalog.pg_class c, information_schema.columns cols\n",
    " WHERE cols.table_name = c.relname  and upper(relname) = 'NIBRS_VICTIM_OFFENDER_REL';"
   ]
  },
  {
   "cell_type": "code",
   "execution_count": 131,
   "id": "0a5440e1-1527-4a9d-8970-2930a4b678c1",
   "metadata": {},
   "outputs": [
    {
     "name": "stdout",
     "output_type": "stream",
     "text": [
      "  1: data_year\n",
      "  2: victim_id\n",
      "  3: offender_id\n",
      "  4: relationship_id\n",
      "  5: nibrs_victim_offender_id\n"
     ]
    }
   ],
   "source": [
    "!csvcut -n ~/notebooks/NIBRS_VICTIM_OFFENDER_REL.csv"
   ]
  },
  {
   "cell_type": "code",
   "execution_count": 132,
   "id": "ad411f26-4cb9-4274-8704-0bf799718b84",
   "metadata": {},
   "outputs": [],
   "source": [
    "!csvcut -c 2,3,4 /home/ubuntu/notebooks/NIBRS_VICTIM_OFFENDER_REL.csv > /home/ubuntu/notebooks/NIBRS_VICTIM_OFFENDER_REL_F.csv"
   ]
  },
  {
   "cell_type": "code",
   "execution_count": 133,
   "id": "a898039b-ecc3-46c7-b2fe-d6a5ab3619f8",
   "metadata": {},
   "outputs": [
    {
     "name": "stdout",
     "output_type": "stream",
     "text": [
      " * postgresql://student@/assignment2\n",
      "39187 rows affected.\n"
     ]
    },
    {
     "data": {
      "text/plain": [
       "[]"
      ]
     },
     "execution_count": 133,
     "metadata": {},
     "output_type": "execute_result"
    }
   ],
   "source": [
    "%%sql\n",
    "COPY NIBRS_Victim_Offender_Rel FROM '/home/ubuntu/notebooks/NIBRS_VICTIM_OFFENDER_REL_F.csv'\n",
    "CSV\n",
    "HEADER;"
   ]
  },
  {
   "cell_type": "markdown",
   "id": "84249d0e-abba-495e-8f3e-e261e48de4ff",
   "metadata": {},
   "source": [
    "%%sql \n",
    "SELECT * FROM NIBRS_Victim_Offender_Rel"
   ]
  },
  {
   "cell_type": "markdown",
   "id": "1eed5d0b-88ed-4eb4-b1ad-2831429627cf",
   "metadata": {},
   "source": [
    "* The above command was changed to markdown, because it would take a long time to run due to the number of rows it contains. It is for reference. "
   ]
  },
  {
   "cell_type": "code",
   "execution_count": 134,
   "id": "0adff883-17b2-410a-bbb5-dac7e062147d",
   "metadata": {},
   "outputs": [
    {
     "name": "stdout",
     "output_type": "stream",
     "text": [
      " * postgresql://student@/assignment2\n",
      "1 rows affected.\n"
     ]
    },
    {
     "data": {
      "text/html": [
       "<table>\n",
       "    <thead>\n",
       "        <tr>\n",
       "            <th>count</th>\n",
       "        </tr>\n",
       "    </thead>\n",
       "    <tbody>\n",
       "        <tr>\n",
       "            <td>39187</td>\n",
       "        </tr>\n",
       "    </tbody>\n",
       "</table>"
      ],
      "text/plain": [
       "[(39187,)]"
      ]
     },
     "execution_count": 134,
     "metadata": {},
     "output_type": "execute_result"
    }
   ],
   "source": [
    "%%sql \n",
    "SELECT COUNT(*) FROM NIBRS_Victim_Offender_Rel"
   ]
  },
  {
   "cell_type": "markdown",
   "id": "d092ceb4-397f-4eb4-be32-a3754d6295e2",
   "metadata": {},
   "source": [
    "!csvcut NIBRS_VICTIM_OFFENDER_REL_F.csv | csvstat\n"
   ]
  },
  {
   "cell_type": "code",
   "execution_count": 135,
   "id": "ff3f51bc-8a40-465d-b421-6695045257ca",
   "metadata": {},
   "outputs": [
    {
     "name": "stdout",
     "output_type": "stream",
     "text": [
      "39187\n"
     ]
    }
   ],
   "source": [
    "!xsv count NIBRS_VICTIM_OFFENDER_REL_F.csv"
   ]
  },
  {
   "cell_type": "markdown",
   "id": "613151eb-4ead-4b8e-a458-ca428f43b442",
   "metadata": {},
   "source": [
    "* We decided to use xsv instead of csvcut to run it more efficiently. "
   ]
  },
  {
   "cell_type": "markdown",
   "id": "22fc3054-646a-4553-912e-c50cef8e1ae5",
   "metadata": {},
   "source": [
    "#### Create table of Victim-Offense."
   ]
  },
  {
   "cell_type": "code",
   "execution_count": 136,
   "id": "055e6378-2aa7-4fa8-9342-10b94803d583",
   "metadata": {},
   "outputs": [
    {
     "name": "stdout",
     "output_type": "stream",
     "text": [
      " * postgresql://student@/assignment2\n",
      "Done.\n",
      "Done.\n"
     ]
    },
    {
     "data": {
      "text/plain": [
       "[]"
      ]
     },
     "execution_count": 136,
     "metadata": {},
     "output_type": "execute_result"
    }
   ],
   "source": [
    "%%sql \n",
    "DROP TABLE IF EXISTS NIBRS_Victim_Offense Cascade;\n",
    "\n",
    "CREATE TABLE NIBRS_Victim_Offense(\n",
    "    Victim_ID numeric(10) NOT NULL,\n",
    "    Offense_ID numeric(10) NOT NULL,\n",
    "    \n",
    "    FOREIGN KEY (Victim_ID) REFERENCES NIBRS_VICTIM(Victim_ID),\n",
    "    FOREIGN KEY (Offense_ID) REFERENCES NIBRS_Offense(Offense_ID)\n",
    ")"
   ]
  },
  {
   "cell_type": "code",
   "execution_count": 137,
   "id": "06bf12a4-48e8-4c92-b7c7-210b88fdeb54",
   "metadata": {},
   "outputs": [
    {
     "name": "stdout",
     "output_type": "stream",
     "text": [
      " * postgresql://student@/assignment2\n",
      "Done.\n"
     ]
    },
    {
     "data": {
      "text/plain": [
       "[]"
      ]
     },
     "execution_count": 137,
     "metadata": {},
     "output_type": "execute_result"
    }
   ],
   "source": [
    "%%sql\n",
    "COMMENT ON TABLE NIBRS_Victim_Offense IS\n",
    "'Victim Offense table: holds information about the relationship between victims and specific offenses, primarily using victim IDs and offense identifiers';\n"
   ]
  },
  {
   "cell_type": "code",
   "execution_count": 138,
   "id": "ccf7728a-fc14-4ab5-8f90-82aedf8db5c6",
   "metadata": {},
   "outputs": [
    {
     "name": "stdout",
     "output_type": "stream",
     "text": [
      " * postgresql://student@/assignment2\n",
      "1 rows affected.\n"
     ]
    },
    {
     "data": {
      "text/html": [
       "<table>\n",
       "    <thead>\n",
       "        <tr>\n",
       "            <th>obj_description</th>\n",
       "        </tr>\n",
       "    </thead>\n",
       "    <tbody>\n",
       "        <tr>\n",
       "            <td>Victim Offense table: holds information about the relationship between victims and specific offenses, primarily using victim IDs and offense identifiers</td>\n",
       "        </tr>\n",
       "    </tbody>\n",
       "</table>"
      ],
      "text/plain": [
       "[('Victim Offense table: holds information about the relationship between victims and specific offenses, primarily using victim IDs and offense identifiers',)]"
      ]
     },
     "execution_count": 138,
     "metadata": {},
     "output_type": "execute_result"
    }
   ],
   "source": [
    "%%sql\n",
    "SELECT obj_description(oid, 'pg_class')\n",
    "FROM pg_class\n",
    "WHERE upper(relname) = 'NIBRS_VICTIM_OFFENSE';"
   ]
  },
  {
   "cell_type": "code",
   "execution_count": 139,
   "id": "bf1de6ba-9f38-405f-99a0-93d038cb23ea",
   "metadata": {},
   "outputs": [
    {
     "name": "stdout",
     "output_type": "stream",
     "text": [
      " * postgresql://student@/assignment2\n",
      "Done.\n",
      "Done.\n"
     ]
    },
    {
     "data": {
      "text/plain": [
       "[]"
      ]
     },
     "execution_count": 139,
     "metadata": {},
     "output_type": "execute_result"
    }
   ],
   "source": [
    "%%sql\n",
    "COMMENT ON COLUMN NIBRS_Victim_Offense.Victim_ID IS 'Reference to Victim';\n",
    "COMMENT ON COLUMN NIBRS_Victim_Offense.Offense_ID IS 'Reference to Offense';\n"
   ]
  },
  {
   "cell_type": "code",
   "execution_count": 140,
   "id": "92a21106-040f-46f9-a9ef-14256bcc511f",
   "metadata": {},
   "outputs": [
    {
     "name": "stdout",
     "output_type": "stream",
     "text": [
      " * postgresql://student@/assignment2\n",
      "2 rows affected.\n"
     ]
    },
    {
     "data": {
      "text/html": [
       "<table>\n",
       "    <thead>\n",
       "        <tr>\n",
       "            <th>column_name</th>\n",
       "            <th>col_description</th>\n",
       "        </tr>\n",
       "    </thead>\n",
       "    <tbody>\n",
       "        <tr>\n",
       "            <td>victim_id</td>\n",
       "            <td>Reference to Victim</td>\n",
       "        </tr>\n",
       "        <tr>\n",
       "            <td>offense_id</td>\n",
       "            <td>Reference to Offense</td>\n",
       "        </tr>\n",
       "    </tbody>\n",
       "</table>"
      ],
      "text/plain": [
       "[('victim_id', 'Reference to Victim'), ('offense_id', 'Reference to Offense')]"
      ]
     },
     "execution_count": 140,
     "metadata": {},
     "output_type": "execute_result"
    }
   ],
   "source": [
    "%%sql\n",
    "SELECT cols.column_name,\n",
    "pg_catalog.col_description(c.oid, cols.ordinal_position::int)\n",
    "FROM pg_catalog.pg_class c, information_schema.columns cols\n",
    " WHERE cols.table_name = c.relname  and upper(relname) = 'NIBRS_VICTIM_OFFENSE';"
   ]
  },
  {
   "cell_type": "code",
   "execution_count": 141,
   "id": "7b65b81c-d996-4347-ad49-2bee3501de6c",
   "metadata": {},
   "outputs": [
    {
     "name": "stdout",
     "output_type": "stream",
     "text": [
      "  1: data_year\n",
      "  2: victim_id\n",
      "  3: offense_id\n"
     ]
    }
   ],
   "source": [
    "!csvcut -n NIBRS_VICTIM_OFFENSE.csv"
   ]
  },
  {
   "cell_type": "code",
   "execution_count": 142,
   "id": "89f32ac9-3f2e-471e-ac93-e9fbd1d577e9",
   "metadata": {},
   "outputs": [],
   "source": [
    "!csvcut -c 2,3 NIBRS_VICTIM_OFFENSE.csv > NIBRS_VICTIM_OFFENSE_F.csv"
   ]
  },
  {
   "cell_type": "code",
   "execution_count": 143,
   "id": "f8d1c5a1-674b-44c5-b752-76d260c0d787",
   "metadata": {},
   "outputs": [
    {
     "name": "stdout",
     "output_type": "stream",
     "text": [
      " * postgresql://student@/assignment2\n",
      "148672 rows affected.\n"
     ]
    },
    {
     "data": {
      "text/plain": [
       "[]"
      ]
     },
     "execution_count": 143,
     "metadata": {},
     "output_type": "execute_result"
    }
   ],
   "source": [
    "%%sql\n",
    "\n",
    "COPY NIBRS_Victim_Offense FROM '/home/ubuntu/notebooks/NIBRS_VICTIM_OFFENSE_F.csv'\n",
    "CSV\n",
    "HEADER;"
   ]
  },
  {
   "cell_type": "markdown",
   "id": "32f98685-e097-4316-a9fa-3f12a0522008",
   "metadata": {},
   "source": [
    "%%sql\n",
    "SELECT * FROM NIBRS_Victim_Offense"
   ]
  },
  {
   "cell_type": "markdown",
   "id": "ec662f8f-28e8-430b-8c16-447fd6f0770a",
   "metadata": {},
   "source": [
    "* The above command was changed to markdown, because it would take a long time to run due to the number of rows it contains. It is for reference. "
   ]
  },
  {
   "cell_type": "code",
   "execution_count": 144,
   "id": "43a67a17-3f73-4bfb-a43c-7ba67be01b09",
   "metadata": {},
   "outputs": [
    {
     "name": "stdout",
     "output_type": "stream",
     "text": [
      " * postgresql://student@/assignment2\n",
      "1 rows affected.\n"
     ]
    },
    {
     "data": {
      "text/html": [
       "<table>\n",
       "    <thead>\n",
       "        <tr>\n",
       "            <th>count</th>\n",
       "        </tr>\n",
       "    </thead>\n",
       "    <tbody>\n",
       "        <tr>\n",
       "            <td>148672</td>\n",
       "        </tr>\n",
       "    </tbody>\n",
       "</table>"
      ],
      "text/plain": [
       "[(148672,)]"
      ]
     },
     "execution_count": 144,
     "metadata": {},
     "output_type": "execute_result"
    }
   ],
   "source": [
    "%%sql\n",
    "SELECT COUNT(*) FROM NIBRS_Victim_Offense"
   ]
  },
  {
   "cell_type": "markdown",
   "id": "f8254048-46a9-4fe3-a7d6-43fde4c77b38",
   "metadata": {},
   "source": [
    "!csvcut NIBRS_VICTIM_OFFENSE_F.csv | csvstat"
   ]
  },
  {
   "cell_type": "code",
   "execution_count": 145,
   "id": "17b1b578-88f1-40c8-a3a2-e2795f34de96",
   "metadata": {},
   "outputs": [
    {
     "name": "stdout",
     "output_type": "stream",
     "text": [
      "148672\n"
     ]
    }
   ],
   "source": [
    "!xsv count NIBRS_VICTIM_OFFENSE_F.csv"
   ]
  },
  {
   "cell_type": "markdown",
   "id": "9d1f0953-3718-44d1-95b9-e275622b8f37",
   "metadata": {},
   "source": [
    "* We decided to use xsv instead of csvcut to run it more efficiently. "
   ]
  },
  {
   "cell_type": "markdown",
   "id": "70f59188-a9cd-4b5c-a606-cb1aca4289f6",
   "metadata": {},
   "source": [
    "## Problem 4: Basic Data Analysis"
   ]
  },
  {
   "cell_type": "markdown",
   "id": "ef7ddb9d-15b7-4ba8-96e1-120a2e30a650",
   "metadata": {},
   "source": [
    "#### Part A: Write a query to determine the top 5 offenses and bottom 5 offenses in terms of the total number of offenses committed. In the query provide the Offense code, offense name, Offense category, and the number of offenses."
   ]
  },
  {
   "cell_type": "code",
   "execution_count": 146,
   "id": "1af0b3f5-1feb-491c-bbaa-4815c9f75e60",
   "metadata": {},
   "outputs": [
    {
     "name": "stdout",
     "output_type": "stream",
     "text": [
      " * postgresql://student@/assignment2\n",
      "48 rows affected.\n"
     ]
    },
    {
     "data": {
      "text/html": [
       "<table>\n",
       "    <thead>\n",
       "        <tr>\n",
       "            <th>offense_code</th>\n",
       "            <th>offense_name</th>\n",
       "            <th>offense_category_name</th>\n",
       "            <th>num</th>\n",
       "        </tr>\n",
       "    </thead>\n",
       "    <tbody>\n",
       "        <tr>\n",
       "            <td>13B</td>\n",
       "            <td>Simple Assault</td>\n",
       "            <td>Assault Offenses</td>\n",
       "            <td>17800</td>\n",
       "        </tr>\n",
       "        <tr>\n",
       "            <td>290</td>\n",
       "            <td>Destruction/Damage/Vandalism of Property</td>\n",
       "            <td>Destruction/Damage/Vandalism of Property</td>\n",
       "            <td>14837</td>\n",
       "        </tr>\n",
       "        <tr>\n",
       "            <td>23F</td>\n",
       "            <td>Theft From Motor Vehicle</td>\n",
       "            <td>Larceny/Theft Offenses</td>\n",
       "            <td>14521</td>\n",
       "        </tr>\n",
       "        <tr>\n",
       "            <td>35A</td>\n",
       "            <td>Drug/Narcotic Violations</td>\n",
       "            <td>Drug/Narcotic Offenses</td>\n",
       "            <td>13868</td>\n",
       "        </tr>\n",
       "        <tr>\n",
       "            <td>23H</td>\n",
       "            <td>All Other Larceny</td>\n",
       "            <td>Larceny/Theft Offenses</td>\n",
       "            <td>11535</td>\n",
       "        </tr>\n",
       "        <tr>\n",
       "            <td>240</td>\n",
       "            <td>Motor Vehicle Theft</td>\n",
       "            <td>Motor Vehicle Theft</td>\n",
       "            <td>11272</td>\n",
       "        </tr>\n",
       "        <tr>\n",
       "            <td>35B</td>\n",
       "            <td>Drug Equipment Violations</td>\n",
       "            <td>Drug/Narcotic Offenses</td>\n",
       "            <td>8126</td>\n",
       "        </tr>\n",
       "        <tr>\n",
       "            <td>13A</td>\n",
       "            <td>Aggravated Assault</td>\n",
       "            <td>Assault Offenses</td>\n",
       "            <td>7456</td>\n",
       "        </tr>\n",
       "        <tr>\n",
       "            <td>220</td>\n",
       "            <td>Burglary/Breaking &amp; Entering</td>\n",
       "            <td>Burglary/Breaking &amp; Entering</td>\n",
       "            <td>7103</td>\n",
       "        </tr>\n",
       "        <tr>\n",
       "            <td>23C</td>\n",
       "            <td>Shoplifting</td>\n",
       "            <td>Larceny/Theft Offenses</td>\n",
       "            <td>3887</td>\n",
       "        </tr>\n",
       "        <tr>\n",
       "            <td>520</td>\n",
       "            <td>Weapon Law Violations</td>\n",
       "            <td>Weapon Law Violations</td>\n",
       "            <td>3474</td>\n",
       "        </tr>\n",
       "        <tr>\n",
       "            <td>26C</td>\n",
       "            <td>Impersonation</td>\n",
       "            <td>Fraud Offenses</td>\n",
       "            <td>3107</td>\n",
       "        </tr>\n",
       "        <tr>\n",
       "            <td>120</td>\n",
       "            <td>Robbery</td>\n",
       "            <td>Robbery</td>\n",
       "            <td>2300</td>\n",
       "        </tr>\n",
       "        <tr>\n",
       "            <td>23G</td>\n",
       "            <td>Theft of Motor Vehicle Parts or Accessories</td>\n",
       "            <td>Larceny/Theft Offenses</td>\n",
       "            <td>2266</td>\n",
       "        </tr>\n",
       "        <tr>\n",
       "            <td>280</td>\n",
       "            <td>Stolen Property Offenses</td>\n",
       "            <td>Stolen Property Offenses</td>\n",
       "            <td>2064</td>\n",
       "        </tr>\n",
       "        <tr>\n",
       "            <td>26B</td>\n",
       "            <td>Credit Card/Automated Teller Machine Fraud</td>\n",
       "            <td>Fraud Offenses</td>\n",
       "            <td>1980</td>\n",
       "        </tr>\n",
       "        <tr>\n",
       "            <td>13C</td>\n",
       "            <td>Intimidation</td>\n",
       "            <td>Assault Offenses</td>\n",
       "            <td>1725</td>\n",
       "        </tr>\n",
       "        <tr>\n",
       "            <td>23D</td>\n",
       "            <td>Theft From Building</td>\n",
       "            <td>Larceny/Theft Offenses</td>\n",
       "            <td>1599</td>\n",
       "        </tr>\n",
       "        <tr>\n",
       "            <td>26A</td>\n",
       "            <td>False Pretenses/Swindle/Confidence Game</td>\n",
       "            <td>Fraud Offenses</td>\n",
       "            <td>1482</td>\n",
       "        </tr>\n",
       "        <tr>\n",
       "            <td>26F</td>\n",
       "            <td>Identity Theft</td>\n",
       "            <td>Fraud Offenses</td>\n",
       "            <td>1296</td>\n",
       "        </tr>\n",
       "        <tr>\n",
       "            <td>11D</td>\n",
       "            <td>Fondling</td>\n",
       "            <td>Sex Offenses</td>\n",
       "            <td>972</td>\n",
       "        </tr>\n",
       "        <tr>\n",
       "            <td>250</td>\n",
       "            <td>Counterfeiting/Forgery</td>\n",
       "            <td>Counterfeiting/Forgery</td>\n",
       "            <td>960</td>\n",
       "        </tr>\n",
       "        <tr>\n",
       "            <td>11A</td>\n",
       "            <td>Rape</td>\n",
       "            <td>Sex Offenses</td>\n",
       "            <td>656</td>\n",
       "        </tr>\n",
       "        <tr>\n",
       "            <td>100</td>\n",
       "            <td>Kidnapping/Abduction</td>\n",
       "            <td>Kidnapping/Abduction</td>\n",
       "            <td>537</td>\n",
       "        </tr>\n",
       "        <tr>\n",
       "            <td>200</td>\n",
       "            <td>Arson</td>\n",
       "            <td>Arson</td>\n",
       "            <td>407</td>\n",
       "        </tr>\n",
       "        <tr>\n",
       "            <td>40A</td>\n",
       "            <td>Prostitution</td>\n",
       "            <td>Prostitution Offenses</td>\n",
       "            <td>359</td>\n",
       "        </tr>\n",
       "        <tr>\n",
       "            <td>270</td>\n",
       "            <td>Embezzlement</td>\n",
       "            <td>Embezzlement</td>\n",
       "            <td>225</td>\n",
       "        </tr>\n",
       "        <tr>\n",
       "            <td>23B</td>\n",
       "            <td>Purse-snatching</td>\n",
       "            <td>Larceny/Theft Offenses</td>\n",
       "            <td>164</td>\n",
       "        </tr>\n",
       "        <tr>\n",
       "            <td>210</td>\n",
       "            <td>Extortion/Blackmail</td>\n",
       "            <td>Extortion/Blackmail</td>\n",
       "            <td>148</td>\n",
       "        </tr>\n",
       "        <tr>\n",
       "            <td>11C</td>\n",
       "            <td>Sexual Assault With An Object</td>\n",
       "            <td>Sex Offenses</td>\n",
       "            <td>125</td>\n",
       "        </tr>\n",
       "        <tr>\n",
       "            <td>23A</td>\n",
       "            <td>Pocket-picking</td>\n",
       "            <td>Larceny/Theft Offenses</td>\n",
       "            <td>123</td>\n",
       "        </tr>\n",
       "        <tr>\n",
       "            <td>09A</td>\n",
       "            <td>Murder and Nonnegligent Manslaughter</td>\n",
       "            <td>Homicide Offenses</td>\n",
       "            <td>117</td>\n",
       "        </tr>\n",
       "        <tr>\n",
       "            <td>11B</td>\n",
       "            <td>Sodomy</td>\n",
       "            <td>Sex Offenses</td>\n",
       "            <td>95</td>\n",
       "        </tr>\n",
       "        <tr>\n",
       "            <td>36B</td>\n",
       "            <td>Statutory Rape</td>\n",
       "            <td>Sex Offenses, Non-forcible</td>\n",
       "            <td>81</td>\n",
       "        </tr>\n",
       "        <tr>\n",
       "            <td>370</td>\n",
       "            <td>Pornography/Obscene Material</td>\n",
       "            <td>Pornography/Obscene Material</td>\n",
       "            <td>54</td>\n",
       "        </tr>\n",
       "        <tr>\n",
       "            <td>720</td>\n",
       "            <td>Animal Cruelty</td>\n",
       "            <td>Animal Cruelty</td>\n",
       "            <td>40</td>\n",
       "        </tr>\n",
       "        <tr>\n",
       "            <td>23E</td>\n",
       "            <td>Theft From Coin-Operated Machine or Device</td>\n",
       "            <td>Larceny/Theft Offenses</td>\n",
       "            <td>27</td>\n",
       "        </tr>\n",
       "        <tr>\n",
       "            <td>40B</td>\n",
       "            <td>Assisting or Promoting Prostitution</td>\n",
       "            <td>Prostitution Offenses</td>\n",
       "            <td>21</td>\n",
       "        </tr>\n",
       "        <tr>\n",
       "            <td>49B</td>\n",
       "            <td>Flight to Avoid Prosecution</td>\n",
       "            <td>Other Offenses</td>\n",
       "            <td>21</td>\n",
       "        </tr>\n",
       "        <tr>\n",
       "            <td>26G</td>\n",
       "            <td>Hacking/Computer Invasion</td>\n",
       "            <td>Fraud Offenses</td>\n",
       "            <td>4</td>\n",
       "        </tr>\n",
       "        <tr>\n",
       "            <td>26D</td>\n",
       "            <td>Welfare Fraud</td>\n",
       "            <td>Fraud Offenses</td>\n",
       "            <td>4</td>\n",
       "        </tr>\n",
       "        <tr>\n",
       "            <td>510</td>\n",
       "            <td>Bribery</td>\n",
       "            <td>Bribery</td>\n",
       "            <td>2</td>\n",
       "        </tr>\n",
       "        <tr>\n",
       "            <td>09C</td>\n",
       "            <td>Justifiable Homicide</td>\n",
       "            <td>Homicide Offenses</td>\n",
       "            <td>2</td>\n",
       "        </tr>\n",
       "        <tr>\n",
       "            <td>39C</td>\n",
       "            <td>Gambling Equipment Violation</td>\n",
       "            <td>Gambling Offenses</td>\n",
       "            <td>2</td>\n",
       "        </tr>\n",
       "        <tr>\n",
       "            <td>39A</td>\n",
       "            <td>Betting/Wagering</td>\n",
       "            <td>Gambling Offenses</td>\n",
       "            <td>1</td>\n",
       "        </tr>\n",
       "        <tr>\n",
       "            <td>09B</td>\n",
       "            <td>Negligent Manslaughter</td>\n",
       "            <td>Homicide Offenses</td>\n",
       "            <td>1</td>\n",
       "        </tr>\n",
       "        <tr>\n",
       "            <td>39B</td>\n",
       "            <td>Operating/Promoting/Assisting Gambling</td>\n",
       "            <td>Gambling Offenses</td>\n",
       "            <td>1</td>\n",
       "        </tr>\n",
       "        <tr>\n",
       "            <td>49A</td>\n",
       "            <td>Harboring Escapee/Concealing from Arrest</td>\n",
       "            <td>Other Offenses</td>\n",
       "            <td>1</td>\n",
       "        </tr>\n",
       "    </tbody>\n",
       "</table>"
      ],
      "text/plain": [
       "[('13B', 'Simple Assault', 'Assault Offenses', 17800),\n",
       " ('290', 'Destruction/Damage/Vandalism of Property', 'Destruction/Damage/Vandalism of Property', 14837),\n",
       " ('23F', 'Theft From Motor Vehicle', 'Larceny/Theft Offenses', 14521),\n",
       " ('35A', 'Drug/Narcotic Violations', 'Drug/Narcotic Offenses', 13868),\n",
       " ('23H', 'All Other Larceny', 'Larceny/Theft Offenses', 11535),\n",
       " ('240', 'Motor Vehicle Theft', 'Motor Vehicle Theft', 11272),\n",
       " ('35B', 'Drug Equipment Violations', 'Drug/Narcotic Offenses', 8126),\n",
       " ('13A', 'Aggravated Assault', 'Assault Offenses', 7456),\n",
       " ('220', 'Burglary/Breaking & Entering', 'Burglary/Breaking & Entering', 7103),\n",
       " ('23C', 'Shoplifting', 'Larceny/Theft Offenses', 3887),\n",
       " ('520', 'Weapon Law Violations', 'Weapon Law Violations', 3474),\n",
       " ('26C', 'Impersonation', 'Fraud Offenses', 3107),\n",
       " ('120', 'Robbery', 'Robbery', 2300),\n",
       " ('23G', 'Theft of Motor Vehicle Parts or Accessories', 'Larceny/Theft Offenses', 2266),\n",
       " ('280', 'Stolen Property Offenses', 'Stolen Property Offenses', 2064),\n",
       " ('26B', 'Credit Card/Automated Teller Machine Fraud', 'Fraud Offenses', 1980),\n",
       " ('13C', 'Intimidation', 'Assault Offenses', 1725),\n",
       " ('23D', 'Theft From Building', 'Larceny/Theft Offenses', 1599),\n",
       " ('26A', 'False Pretenses/Swindle/Confidence Game', 'Fraud Offenses', 1482),\n",
       " ('26F', 'Identity Theft', 'Fraud Offenses', 1296),\n",
       " ('11D', 'Fondling', 'Sex Offenses', 972),\n",
       " ('250', 'Counterfeiting/Forgery', 'Counterfeiting/Forgery', 960),\n",
       " ('11A', 'Rape', 'Sex Offenses', 656),\n",
       " ('100', 'Kidnapping/Abduction', 'Kidnapping/Abduction', 537),\n",
       " ('200', 'Arson', 'Arson', 407),\n",
       " ('40A', 'Prostitution', 'Prostitution Offenses', 359),\n",
       " ('270', 'Embezzlement', 'Embezzlement', 225),\n",
       " ('23B', 'Purse-snatching', 'Larceny/Theft Offenses', 164),\n",
       " ('210', 'Extortion/Blackmail', 'Extortion/Blackmail', 148),\n",
       " ('11C', 'Sexual Assault With An Object', 'Sex Offenses', 125),\n",
       " ('23A', 'Pocket-picking', 'Larceny/Theft Offenses', 123),\n",
       " ('09A', 'Murder and Nonnegligent Manslaughter', 'Homicide Offenses', 117),\n",
       " ('11B', 'Sodomy', 'Sex Offenses', 95),\n",
       " ('36B', 'Statutory Rape', 'Sex Offenses, Non-forcible', 81),\n",
       " ('370', 'Pornography/Obscene Material', 'Pornography/Obscene Material', 54),\n",
       " ('720', 'Animal Cruelty', 'Animal Cruelty', 40),\n",
       " ('23E', 'Theft From Coin-Operated Machine or Device', 'Larceny/Theft Offenses', 27),\n",
       " ('40B', 'Assisting or Promoting Prostitution', 'Prostitution Offenses', 21),\n",
       " ('49B', 'Flight to Avoid Prosecution', 'Other Offenses', 21),\n",
       " ('26G', 'Hacking/Computer Invasion', 'Fraud Offenses', 4),\n",
       " ('26D', 'Welfare Fraud', 'Fraud Offenses', 4),\n",
       " ('510', 'Bribery', 'Bribery', 2),\n",
       " ('09C', 'Justifiable Homicide', 'Homicide Offenses', 2),\n",
       " ('39C', 'Gambling Equipment Violation', 'Gambling Offenses', 2),\n",
       " ('39A', 'Betting/Wagering', 'Gambling Offenses', 1),\n",
       " ('09B', 'Negligent Manslaughter', 'Homicide Offenses', 1),\n",
       " ('39B', 'Operating/Promoting/Assisting Gambling', 'Gambling Offenses', 1),\n",
       " ('49A', 'Harboring Escapee/Concealing from Arrest', 'Other Offenses', 1)]"
      ]
     },
     "execution_count": 146,
     "metadata": {},
     "output_type": "execute_result"
    }
   ],
   "source": [
    "%%sql\n",
    "\n",
    "SELECT NIBRS_Offense.offense_code, NIBRS_Offense_Type.offense_name, NIBRS_Offense_Type.offense_category_name, COUNT(NIBRS_Offense.Offense_Code) as num\n",
    "FROM NIBRS_Offense_Type, NIBRS_Offense\n",
    "WHERE NIBRS_Offense_Type.Offense_Code = NIBRS_Offense.Offense_code\n",
    "GROUP BY NIBRS_Offense.offense_code, NIBRS_Offense_Type.offense_name, NIBRS_Offense_Type.offense_category_name\n",
    "ORDER BY num Desc"
   ]
  },
  {
   "cell_type": "markdown",
   "id": "c95ba90f-60f2-4792-8e67-7949a0ac4892",
   "metadata": {},
   "source": [
    "**Top 5 Offenses**: Simple Assault, Destruction/Damage/Vandalism of Property, Theft From Motor Vehicle, Drug/Narcotic Violations, All Other Larceny. \n",
    "\n",
    "**Bottom 5 Offenses**: Harboring Escapee/Conceling from Arres, Operation/Promoting/Assisting Gambling, Megligent Manslaughter, Betting/Wagering/ Gambling Equipment Violation"
   ]
  },
  {
   "cell_type": "markdown",
   "id": "a3aaf8fa-bb4e-437e-b4d4-0ef53ff59e3b",
   "metadata": {},
   "source": [
    "#### Part B: Write a query to find the distribution of victims by sex and race and offense location. Only include victims of type “Individual”. In the query, provide the sex, race, location, and count of offenses. \n"
   ]
  },
  {
   "cell_type": "code",
   "execution_count": 147,
   "id": "95b967d4-9988-4099-9cf3-7ffd96d71968",
   "metadata": {},
   "outputs": [
    {
     "name": "stdout",
     "output_type": "stream",
     "text": [
      " * postgresql://student@/assignment2\n",
      "358 rows affected.\n"
     ]
    },
    {
     "data": {
      "text/html": [
       "<table>\n",
       "    <thead>\n",
       "        <tr>\n",
       "            <th>sex_code</th>\n",
       "            <th>race_desc</th>\n",
       "            <th>location_name</th>\n",
       "            <th>count_of_offenses</th>\n",
       "        </tr>\n",
       "    </thead>\n",
       "    <tbody>\n",
       "        <tr>\n",
       "            <td>F</td>\n",
       "            <td>White</td>\n",
       "            <td>Residence/Home</td>\n",
       "            <td>15330</td>\n",
       "        </tr>\n",
       "        <tr>\n",
       "            <td>M</td>\n",
       "            <td>White</td>\n",
       "            <td>Residence/Home</td>\n",
       "            <td>13508</td>\n",
       "        </tr>\n",
       "        <tr>\n",
       "            <td>M</td>\n",
       "            <td>White</td>\n",
       "            <td>Highway/Road/Alley/Street/Sidewalk</td>\n",
       "            <td>9325</td>\n",
       "        </tr>\n",
       "        <tr>\n",
       "            <td>F</td>\n",
       "            <td>White</td>\n",
       "            <td>Highway/Road/Alley/Street/Sidewalk</td>\n",
       "            <td>5484</td>\n",
       "        </tr>\n",
       "        <tr>\n",
       "            <td>M</td>\n",
       "            <td>White</td>\n",
       "            <td>Parking/Drop Lot/Garage</td>\n",
       "            <td>5250</td>\n",
       "        </tr>\n",
       "        <tr>\n",
       "            <td>F</td>\n",
       "            <td>White</td>\n",
       "            <td>Parking/Drop Lot/Garage</td>\n",
       "            <td>3877</td>\n",
       "        </tr>\n",
       "        <tr>\n",
       "            <td>M</td>\n",
       "            <td>Unknown</td>\n",
       "            <td>Highway/Road/Alley/Street/Sidewalk</td>\n",
       "            <td>2238</td>\n",
       "        </tr>\n",
       "        <tr>\n",
       "            <td>M</td>\n",
       "            <td>White</td>\n",
       "            <td>Park/Playground</td>\n",
       "            <td>2209</td>\n",
       "        </tr>\n",
       "        <tr>\n",
       "            <td>F</td>\n",
       "            <td>Black or African American</td>\n",
       "            <td>Residence/Home</td>\n",
       "            <td>2023</td>\n",
       "        </tr>\n",
       "        <tr>\n",
       "            <td>M</td>\n",
       "            <td>White</td>\n",
       "            <td>Commercial/Office Building</td>\n",
       "            <td>1548</td>\n",
       "        </tr>\n",
       "        <tr>\n",
       "            <td>M</td>\n",
       "            <td>Unknown</td>\n",
       "            <td>Residence/Home</td>\n",
       "            <td>1525</td>\n",
       "        </tr>\n",
       "        <tr>\n",
       "            <td>M</td>\n",
       "            <td>White</td>\n",
       "            <td>Other/Unknown</td>\n",
       "            <td>1518</td>\n",
       "        </tr>\n",
       "        <tr>\n",
       "            <td>M</td>\n",
       "            <td>Black or African American</td>\n",
       "            <td>Residence/Home</td>\n",
       "            <td>1480</td>\n",
       "        </tr>\n",
       "        <tr>\n",
       "            <td>F</td>\n",
       "            <td>White</td>\n",
       "            <td>Park/Playground</td>\n",
       "            <td>1359</td>\n",
       "        </tr>\n",
       "        <tr>\n",
       "            <td>F</td>\n",
       "            <td>Unknown</td>\n",
       "            <td>Residence/Home</td>\n",
       "            <td>1343</td>\n",
       "        </tr>\n",
       "        <tr>\n",
       "            <td>F</td>\n",
       "            <td>White</td>\n",
       "            <td>Other/Unknown</td>\n",
       "            <td>1310</td>\n",
       "        </tr>\n",
       "        <tr>\n",
       "            <td>F</td>\n",
       "            <td>Asian</td>\n",
       "            <td>Residence/Home</td>\n",
       "            <td>1302</td>\n",
       "        </tr>\n",
       "        <tr>\n",
       "            <td>M</td>\n",
       "            <td>Unknown</td>\n",
       "            <td>Parking/Drop Lot/Garage</td>\n",
       "            <td>1277</td>\n",
       "        </tr>\n",
       "        <tr>\n",
       "            <td>F</td>\n",
       "            <td>Unknown</td>\n",
       "            <td>Highway/Road/Alley/Street/Sidewalk</td>\n",
       "            <td>1220</td>\n",
       "        </tr>\n",
       "        <tr>\n",
       "            <td>M</td>\n",
       "            <td>Asian</td>\n",
       "            <td>Residence/Home</td>\n",
       "            <td>1143</td>\n",
       "        </tr>\n",
       "        <tr>\n",
       "            <td>M</td>\n",
       "            <td>Black or African American</td>\n",
       "            <td>Highway/Road/Alley/Street/Sidewalk</td>\n",
       "            <td>1108</td>\n",
       "        </tr>\n",
       "        <tr>\n",
       "            <td>F</td>\n",
       "            <td>White</td>\n",
       "            <td>Commercial/Office Building</td>\n",
       "            <td>1025</td>\n",
       "        </tr>\n",
       "        <tr>\n",
       "            <td>F</td>\n",
       "            <td>Unknown</td>\n",
       "            <td>Parking/Drop Lot/Garage</td>\n",
       "            <td>1009</td>\n",
       "        </tr>\n",
       "        <tr>\n",
       "            <td>F</td>\n",
       "            <td>White</td>\n",
       "            <td>Hotel/Motel/Etc.</td>\n",
       "            <td>983</td>\n",
       "        </tr>\n",
       "        <tr>\n",
       "            <td>M</td>\n",
       "            <td>White</td>\n",
       "            <td>Hotel/Motel/Etc.</td>\n",
       "            <td>765</td>\n",
       "        </tr>\n",
       "        <tr>\n",
       "            <td>F</td>\n",
       "            <td>Black or African American</td>\n",
       "            <td>Highway/Road/Alley/Street/Sidewalk</td>\n",
       "            <td>759</td>\n",
       "        </tr>\n",
       "        <tr>\n",
       "            <td>M</td>\n",
       "            <td>White</td>\n",
       "            <td>Jail/Prison/Penitentiary/Corrections Facility</td>\n",
       "            <td>748</td>\n",
       "        </tr>\n",
       "        <tr>\n",
       "            <td>F</td>\n",
       "            <td>Unknown</td>\n",
       "            <td>Other/Unknown</td>\n",
       "            <td>744</td>\n",
       "        </tr>\n",
       "        <tr>\n",
       "            <td>M</td>\n",
       "            <td>Unknown</td>\n",
       "            <td>Other/Unknown</td>\n",
       "            <td>709</td>\n",
       "        </tr>\n",
       "        <tr>\n",
       "            <td>M</td>\n",
       "            <td>Unknown</td>\n",
       "            <td>Park/Playground</td>\n",
       "            <td>612</td>\n",
       "        </tr>\n",
       "        <tr>\n",
       "            <td>M</td>\n",
       "            <td>Black or African American</td>\n",
       "            <td>Parking/Drop Lot/Garage</td>\n",
       "            <td>607</td>\n",
       "        </tr>\n",
       "        <tr>\n",
       "            <td>M</td>\n",
       "            <td>White</td>\n",
       "            <td>Specialty Store</td>\n",
       "            <td>576</td>\n",
       "        </tr>\n",
       "        <tr>\n",
       "            <td>F</td>\n",
       "            <td>White</td>\n",
       "            <td>Specialty Store</td>\n",
       "            <td>557</td>\n",
       "        </tr>\n",
       "        <tr>\n",
       "            <td>F</td>\n",
       "            <td>White</td>\n",
       "            <td>Department/Discount Store</td>\n",
       "            <td>526</td>\n",
       "        </tr>\n",
       "        <tr>\n",
       "            <td>M</td>\n",
       "            <td>White</td>\n",
       "            <td>Department/Discount Store</td>\n",
       "            <td>512</td>\n",
       "        </tr>\n",
       "        <tr>\n",
       "            <td>F</td>\n",
       "            <td>Black or African American</td>\n",
       "            <td>Parking/Drop Lot/Garage</td>\n",
       "            <td>511</td>\n",
       "        </tr>\n",
       "        <tr>\n",
       "            <td>M</td>\n",
       "            <td>Asian</td>\n",
       "            <td>Highway/Road/Alley/Street/Sidewalk</td>\n",
       "            <td>497</td>\n",
       "        </tr>\n",
       "        <tr>\n",
       "            <td>M</td>\n",
       "            <td>White</td>\n",
       "            <td>Convenience Store</td>\n",
       "            <td>422</td>\n",
       "        </tr>\n",
       "        <tr>\n",
       "            <td>U</td>\n",
       "            <td>Unknown</td>\n",
       "            <td>Highway/Road/Alley/Street/Sidewalk</td>\n",
       "            <td>394</td>\n",
       "        </tr>\n",
       "        <tr>\n",
       "            <td>F</td>\n",
       "            <td>Unknown</td>\n",
       "            <td>Park/Playground</td>\n",
       "            <td>385</td>\n",
       "        </tr>\n",
       "        <tr>\n",
       "            <td>M</td>\n",
       "            <td>White</td>\n",
       "            <td>Bar/Nightclub</td>\n",
       "            <td>351</td>\n",
       "        </tr>\n",
       "        <tr>\n",
       "            <td>F</td>\n",
       "            <td>White</td>\n",
       "            <td>Bank/Savings and Loan</td>\n",
       "            <td>339</td>\n",
       "        </tr>\n",
       "        <tr>\n",
       "            <td>M</td>\n",
       "            <td>White</td>\n",
       "            <td>Restaurant</td>\n",
       "            <td>338</td>\n",
       "        </tr>\n",
       "        <tr>\n",
       "            <td>M</td>\n",
       "            <td>White</td>\n",
       "            <td>Bank/Savings and Loan</td>\n",
       "            <td>315</td>\n",
       "        </tr>\n",
       "        <tr>\n",
       "            <td>M</td>\n",
       "            <td>Black or African American</td>\n",
       "            <td>Park/Playground</td>\n",
       "            <td>312</td>\n",
       "        </tr>\n",
       "        <tr>\n",
       "            <td>F</td>\n",
       "            <td>White</td>\n",
       "            <td>Convenience Store</td>\n",
       "            <td>309</td>\n",
       "        </tr>\n",
       "        <tr>\n",
       "            <td>F</td>\n",
       "            <td>White</td>\n",
       "            <td>Restaurant</td>\n",
       "            <td>309</td>\n",
       "        </tr>\n",
       "        <tr>\n",
       "            <td>F</td>\n",
       "            <td>Asian</td>\n",
       "            <td>Highway/Road/Alley/Street/Sidewalk</td>\n",
       "            <td>293</td>\n",
       "        </tr>\n",
       "        <tr>\n",
       "            <td>M</td>\n",
       "            <td>Asian</td>\n",
       "            <td>Parking/Drop Lot/Garage</td>\n",
       "            <td>290</td>\n",
       "        </tr>\n",
       "        <tr>\n",
       "            <td>F</td>\n",
       "            <td>White</td>\n",
       "            <td>Drug Store/Doctor&#x27;s Office/Hospital</td>\n",
       "            <td>274</td>\n",
       "        </tr>\n",
       "        <tr>\n",
       "            <td>M</td>\n",
       "            <td>White</td>\n",
       "            <td>Drug Store/Doctor&#x27;s Office/Hospital</td>\n",
       "            <td>271</td>\n",
       "        </tr>\n",
       "        <tr>\n",
       "            <td>F</td>\n",
       "            <td>White</td>\n",
       "            <td>Bar/Nightclub</td>\n",
       "            <td>266</td>\n",
       "        </tr>\n",
       "        <tr>\n",
       "            <td>F</td>\n",
       "            <td>Asian</td>\n",
       "            <td>Parking/Drop Lot/Garage</td>\n",
       "            <td>265</td>\n",
       "        </tr>\n",
       "        <tr>\n",
       "            <td>M</td>\n",
       "            <td>White</td>\n",
       "            <td>Air/Bus/Train Terminal</td>\n",
       "            <td>263</td>\n",
       "        </tr>\n",
       "        <tr>\n",
       "            <td>M</td>\n",
       "            <td>White</td>\n",
       "            <td>Rental Storage Facility</td>\n",
       "            <td>263</td>\n",
       "        </tr>\n",
       "        <tr>\n",
       "            <td>M</td>\n",
       "            <td>Unknown</td>\n",
       "            <td>Specialty Store</td>\n",
       "            <td>261</td>\n",
       "        </tr>\n",
       "        <tr>\n",
       "            <td>M</td>\n",
       "            <td>White</td>\n",
       "            <td>Service/Gas Station</td>\n",
       "            <td>259</td>\n",
       "        </tr>\n",
       "        <tr>\n",
       "            <td>M</td>\n",
       "            <td>White</td>\n",
       "            <td>School/College</td>\n",
       "            <td>252</td>\n",
       "        </tr>\n",
       "        <tr>\n",
       "            <td>F</td>\n",
       "            <td>Unknown</td>\n",
       "            <td>Specialty Store</td>\n",
       "            <td>243</td>\n",
       "        </tr>\n",
       "        <tr>\n",
       "            <td>F</td>\n",
       "            <td>White</td>\n",
       "            <td>School/College</td>\n",
       "            <td>228</td>\n",
       "        </tr>\n",
       "        <tr>\n",
       "            <td>M</td>\n",
       "            <td>Asian</td>\n",
       "            <td>Commercial/Office Building</td>\n",
       "            <td>209</td>\n",
       "        </tr>\n",
       "        <tr>\n",
       "            <td>F</td>\n",
       "            <td>Black or African American</td>\n",
       "            <td>Hotel/Motel/Etc.</td>\n",
       "            <td>208</td>\n",
       "        </tr>\n",
       "        <tr>\n",
       "            <td>F</td>\n",
       "            <td>White</td>\n",
       "            <td>Service/Gas Station</td>\n",
       "            <td>195</td>\n",
       "        </tr>\n",
       "        <tr>\n",
       "            <td>M</td>\n",
       "            <td>Unknown</td>\n",
       "            <td>Commercial/Office Building</td>\n",
       "            <td>194</td>\n",
       "        </tr>\n",
       "        <tr>\n",
       "            <td>F</td>\n",
       "            <td>Unknown</td>\n",
       "            <td>Bank/Savings and Loan</td>\n",
       "            <td>193</td>\n",
       "        </tr>\n",
       "        <tr>\n",
       "            <td>F</td>\n",
       "            <td>Black or African American</td>\n",
       "            <td>Park/Playground</td>\n",
       "            <td>183</td>\n",
       "        </tr>\n",
       "        <tr>\n",
       "            <td>M</td>\n",
       "            <td>Black or African American</td>\n",
       "            <td>Jail/Prison/Penitentiary/Corrections Facility</td>\n",
       "            <td>178</td>\n",
       "        </tr>\n",
       "        <tr>\n",
       "            <td>F</td>\n",
       "            <td>White</td>\n",
       "            <td>Air/Bus/Train Terminal</td>\n",
       "            <td>172</td>\n",
       "        </tr>\n",
       "        <tr>\n",
       "            <td>F</td>\n",
       "            <td>Black or African American</td>\n",
       "            <td>Other/Unknown</td>\n",
       "            <td>170</td>\n",
       "        </tr>\n",
       "        <tr>\n",
       "            <td>M</td>\n",
       "            <td>Black or African American</td>\n",
       "            <td>Hotel/Motel/Etc.</td>\n",
       "            <td>168</td>\n",
       "        </tr>\n",
       "        <tr>\n",
       "            <td>U</td>\n",
       "            <td>Unknown</td>\n",
       "            <td>Parking/Drop Lot/Garage</td>\n",
       "            <td>161</td>\n",
       "        </tr>\n",
       "        <tr>\n",
       "            <td>M</td>\n",
       "            <td>Unknown</td>\n",
       "            <td>Hotel/Motel/Etc.</td>\n",
       "            <td>161</td>\n",
       "        </tr>\n",
       "        <tr>\n",
       "            <td>M</td>\n",
       "            <td>Unknown</td>\n",
       "            <td>Bank/Savings and Loan</td>\n",
       "            <td>158</td>\n",
       "        </tr>\n",
       "        <tr>\n",
       "            <td>M</td>\n",
       "            <td>Black or African American</td>\n",
       "            <td>Other/Unknown</td>\n",
       "            <td>158</td>\n",
       "        </tr>\n",
       "        <tr>\n",
       "            <td>F</td>\n",
       "            <td>Asian</td>\n",
       "            <td>Other/Unknown</td>\n",
       "            <td>155</td>\n",
       "        </tr>\n",
       "        <tr>\n",
       "            <td>M</td>\n",
       "            <td>White</td>\n",
       "            <td>Field/Woods</td>\n",
       "            <td>146</td>\n",
       "        </tr>\n",
       "        <tr>\n",
       "            <td>F</td>\n",
       "            <td>Unknown</td>\n",
       "            <td>Commercial/Office Building</td>\n",
       "            <td>142</td>\n",
       "        </tr>\n",
       "        <tr>\n",
       "            <td>F</td>\n",
       "            <td>White</td>\n",
       "            <td>Rental Storage Facility</td>\n",
       "            <td>142</td>\n",
       "        </tr>\n",
       "        <tr>\n",
       "            <td>M</td>\n",
       "            <td>Asian</td>\n",
       "            <td>Other/Unknown</td>\n",
       "            <td>140</td>\n",
       "        </tr>\n",
       "        <tr>\n",
       "            <td>M</td>\n",
       "            <td>Asian</td>\n",
       "            <td>Park/Playground</td>\n",
       "            <td>137</td>\n",
       "        </tr>\n",
       "        <tr>\n",
       "            <td>F</td>\n",
       "            <td>Asian</td>\n",
       "            <td>Commercial/Office Building</td>\n",
       "            <td>134</td>\n",
       "        </tr>\n",
       "        <tr>\n",
       "            <td>F</td>\n",
       "            <td>Unknown</td>\n",
       "            <td>Hotel/Motel/Etc.</td>\n",
       "            <td>134</td>\n",
       "        </tr>\n",
       "        <tr>\n",
       "            <td>M</td>\n",
       "            <td>White</td>\n",
       "            <td>Government/Public Building</td>\n",
       "            <td>131</td>\n",
       "        </tr>\n",
       "        <tr>\n",
       "            <td>M</td>\n",
       "            <td>White</td>\n",
       "            <td>Cyberspace</td>\n",
       "            <td>129</td>\n",
       "        </tr>\n",
       "        <tr>\n",
       "            <td>M</td>\n",
       "            <td>Black or African American</td>\n",
       "            <td>Commercial/Office Building</td>\n",
       "            <td>125</td>\n",
       "        </tr>\n",
       "        <tr>\n",
       "            <td>M</td>\n",
       "            <td>White</td>\n",
       "            <td>Grocery/Supermarket</td>\n",
       "            <td>125</td>\n",
       "        </tr>\n",
       "        <tr>\n",
       "            <td>F</td>\n",
       "            <td>White</td>\n",
       "            <td>Grocery/Supermarket</td>\n",
       "            <td>124</td>\n",
       "        </tr>\n",
       "        <tr>\n",
       "            <td>M</td>\n",
       "            <td>White</td>\n",
       "            <td>Construction Site</td>\n",
       "            <td>114</td>\n",
       "        </tr>\n",
       "        <tr>\n",
       "            <td>M</td>\n",
       "            <td>White</td>\n",
       "            <td>Lake/Waterway/Beach</td>\n",
       "            <td>112</td>\n",
       "        </tr>\n",
       "        <tr>\n",
       "            <td>F</td>\n",
       "            <td>Asian</td>\n",
       "            <td>Park/Playground</td>\n",
       "            <td>106</td>\n",
       "        </tr>\n",
       "        <tr>\n",
       "            <td>F</td>\n",
       "            <td>White</td>\n",
       "            <td>Government/Public Building</td>\n",
       "            <td>104</td>\n",
       "        </tr>\n",
       "        <tr>\n",
       "            <td>F</td>\n",
       "            <td>Black or African American</td>\n",
       "            <td>Commercial/Office Building</td>\n",
       "            <td>103</td>\n",
       "        </tr>\n",
       "        <tr>\n",
       "            <td>F</td>\n",
       "            <td>American Indian or Alaska Native</td>\n",
       "            <td>Residence/Home</td>\n",
       "            <td>99</td>\n",
       "        </tr>\n",
       "        <tr>\n",
       "            <td>F</td>\n",
       "            <td>White</td>\n",
       "            <td>Field/Woods</td>\n",
       "            <td>97</td>\n",
       "        </tr>\n",
       "        <tr>\n",
       "            <td>M</td>\n",
       "            <td>White</td>\n",
       "            <td>Liquor Store</td>\n",
       "            <td>85</td>\n",
       "        </tr>\n",
       "        <tr>\n",
       "            <td>U</td>\n",
       "            <td>Unknown</td>\n",
       "            <td>Residence/Home</td>\n",
       "            <td>84</td>\n",
       "        </tr>\n",
       "        <tr>\n",
       "            <td>F</td>\n",
       "            <td>Unknown</td>\n",
       "            <td>Department/Discount Store</td>\n",
       "            <td>83</td>\n",
       "        </tr>\n",
       "        <tr>\n",
       "            <td>F</td>\n",
       "            <td>White</td>\n",
       "            <td>Cyberspace</td>\n",
       "            <td>83</td>\n",
       "        </tr>\n",
       "        <tr>\n",
       "            <td>M</td>\n",
       "            <td>Black or African American</td>\n",
       "            <td>Air/Bus/Train Terminal</td>\n",
       "            <td>81</td>\n",
       "        </tr>\n",
       "        <tr>\n",
       "            <td>F</td>\n",
       "            <td>Native Hawaiian or Other Pacific Islander</td>\n",
       "            <td>Residence/Home</td>\n",
       "            <td>80</td>\n",
       "        </tr>\n",
       "        <tr>\n",
       "            <td>M</td>\n",
       "            <td>Unknown</td>\n",
       "            <td>Department/Discount Store</td>\n",
       "            <td>79</td>\n",
       "        </tr>\n",
       "        <tr>\n",
       "            <td>M</td>\n",
       "            <td>American Indian or Alaska Native</td>\n",
       "            <td>Residence/Home</td>\n",
       "            <td>79</td>\n",
       "        </tr>\n",
       "        <tr>\n",
       "            <td>M</td>\n",
       "            <td>Unknown</td>\n",
       "            <td>Convenience Store</td>\n",
       "            <td>71</td>\n",
       "        </tr>\n",
       "        <tr>\n",
       "            <td>M</td>\n",
       "            <td>Black or African American</td>\n",
       "            <td>Convenience Store</td>\n",
       "            <td>67</td>\n",
       "        </tr>\n",
       "        <tr>\n",
       "            <td>F</td>\n",
       "            <td>Unknown</td>\n",
       "            <td>Cyberspace</td>\n",
       "            <td>62</td>\n",
       "        </tr>\n",
       "        <tr>\n",
       "            <td>M</td>\n",
       "            <td>Native Hawaiian or Other Pacific Islander</td>\n",
       "            <td>Residence/Home</td>\n",
       "            <td>60</td>\n",
       "        </tr>\n",
       "        <tr>\n",
       "            <td>F</td>\n",
       "            <td>Unknown</td>\n",
       "            <td>Convenience Store</td>\n",
       "            <td>58</td>\n",
       "        </tr>\n",
       "        <tr>\n",
       "            <td>U</td>\n",
       "            <td>Unknown</td>\n",
       "            <td>Park/Playground</td>\n",
       "            <td>58</td>\n",
       "        </tr>\n",
       "        <tr>\n",
       "            <td>F</td>\n",
       "            <td>White</td>\n",
       "            <td>Jail/Prison/Penitentiary/Corrections Facility</td>\n",
       "            <td>57</td>\n",
       "        </tr>\n",
       "        <tr>\n",
       "            <td>M</td>\n",
       "            <td>Black or African American</td>\n",
       "            <td>Specialty Store</td>\n",
       "            <td>56</td>\n",
       "        </tr>\n",
       "        <tr>\n",
       "            <td>F</td>\n",
       "            <td>Asian</td>\n",
       "            <td>Hotel/Motel/Etc.</td>\n",
       "            <td>56</td>\n",
       "        </tr>\n",
       "        <tr>\n",
       "            <td>M</td>\n",
       "            <td>Unknown</td>\n",
       "            <td>Service/Gas Station</td>\n",
       "            <td>54</td>\n",
       "        </tr>\n",
       "        <tr>\n",
       "            <td>F</td>\n",
       "            <td>White</td>\n",
       "            <td>Gambling Facility/Casino/Race Track</td>\n",
       "            <td>54</td>\n",
       "        </tr>\n",
       "        <tr>\n",
       "            <td>M</td>\n",
       "            <td>Asian</td>\n",
       "            <td>Specialty Store</td>\n",
       "            <td>52</td>\n",
       "        </tr>\n",
       "        <tr>\n",
       "            <td>U</td>\n",
       "            <td>Unknown</td>\n",
       "            <td>Hotel/Motel/Etc.</td>\n",
       "            <td>50</td>\n",
       "        </tr>\n",
       "        <tr>\n",
       "            <td>M</td>\n",
       "            <td>Black or African American</td>\n",
       "            <td>Department/Discount Store</td>\n",
       "            <td>50</td>\n",
       "        </tr>\n",
       "        <tr>\n",
       "            <td>F</td>\n",
       "            <td>Black or African American</td>\n",
       "            <td>Convenience Store</td>\n",
       "            <td>49</td>\n",
       "        </tr>\n",
       "        <tr>\n",
       "            <td>M</td>\n",
       "            <td>White</td>\n",
       "            <td>Gambling Facility/Casino/Race Track</td>\n",
       "            <td>47</td>\n",
       "        </tr>\n",
       "        <tr>\n",
       "            <td>M</td>\n",
       "            <td>American Indian or Alaska Native</td>\n",
       "            <td>Highway/Road/Alley/Street/Sidewalk</td>\n",
       "            <td>47</td>\n",
       "        </tr>\n",
       "        <tr>\n",
       "            <td>F</td>\n",
       "            <td>Asian</td>\n",
       "            <td>Specialty Store</td>\n",
       "            <td>47</td>\n",
       "        </tr>\n",
       "        <tr>\n",
       "            <td>F</td>\n",
       "            <td>White</td>\n",
       "            <td>Lake/Waterway/Beach</td>\n",
       "            <td>47</td>\n",
       "        </tr>\n",
       "        <tr>\n",
       "            <td>F</td>\n",
       "            <td>Unknown</td>\n",
       "            <td>Air/Bus/Train Terminal</td>\n",
       "            <td>46</td>\n",
       "        </tr>\n",
       "        <tr>\n",
       "            <td>F</td>\n",
       "            <td>Unknown</td>\n",
       "            <td>Service/Gas Station</td>\n",
       "            <td>46</td>\n",
       "        </tr>\n",
       "        <tr>\n",
       "            <td>M</td>\n",
       "            <td>Native Hawaiian or Other Pacific Islander</td>\n",
       "            <td>Highway/Road/Alley/Street/Sidewalk</td>\n",
       "            <td>44</td>\n",
       "        </tr>\n",
       "        <tr>\n",
       "            <td>M</td>\n",
       "            <td>Unknown</td>\n",
       "            <td>Bar/Nightclub</td>\n",
       "            <td>44</td>\n",
       "        </tr>\n",
       "        <tr>\n",
       "            <td>M</td>\n",
       "            <td>Unknown</td>\n",
       "            <td>Air/Bus/Train Terminal</td>\n",
       "            <td>44</td>\n",
       "        </tr>\n",
       "        <tr>\n",
       "            <td>M</td>\n",
       "            <td>Black or African American</td>\n",
       "            <td>Service/Gas Station</td>\n",
       "            <td>43</td>\n",
       "        </tr>\n",
       "        <tr>\n",
       "            <td>F</td>\n",
       "            <td>Black or African American</td>\n",
       "            <td>Specialty Store</td>\n",
       "            <td>42</td>\n",
       "        </tr>\n",
       "        <tr>\n",
       "            <td>F</td>\n",
       "            <td>Asian</td>\n",
       "            <td>Bank/Savings and Loan</td>\n",
       "            <td>42</td>\n",
       "        </tr>\n",
       "        <tr>\n",
       "            <td>M</td>\n",
       "            <td>Asian</td>\n",
       "            <td>Bank/Savings and Loan</td>\n",
       "            <td>39</td>\n",
       "        </tr>\n",
       "        <tr>\n",
       "            <td>M</td>\n",
       "            <td>Black or African American</td>\n",
       "            <td>Bar/Nightclub</td>\n",
       "            <td>39</td>\n",
       "        </tr>\n",
       "        <tr>\n",
       "            <td>F</td>\n",
       "            <td>Unknown</td>\n",
       "            <td>Drug Store/Doctor&#x27;s Office/Hospital</td>\n",
       "            <td>37</td>\n",
       "        </tr>\n",
       "        <tr>\n",
       "            <td>U</td>\n",
       "            <td>Unknown</td>\n",
       "            <td>Other/Unknown</td>\n",
       "            <td>37</td>\n",
       "        </tr>\n",
       "        <tr>\n",
       "            <td>M</td>\n",
       "            <td>Asian</td>\n",
       "            <td>Hotel/Motel/Etc.</td>\n",
       "            <td>37</td>\n",
       "        </tr>\n",
       "        <tr>\n",
       "            <td>M</td>\n",
       "            <td>Unknown</td>\n",
       "            <td>Cyberspace</td>\n",
       "            <td>37</td>\n",
       "        </tr>\n",
       "        <tr>\n",
       "            <td>F</td>\n",
       "            <td>Unknown</td>\n",
       "            <td>Grocery/Supermarket</td>\n",
       "            <td>35</td>\n",
       "        </tr>\n",
       "        <tr>\n",
       "            <td>M</td>\n",
       "            <td>Black or African American</td>\n",
       "            <td>Rental Storage Facility</td>\n",
       "            <td>35</td>\n",
       "        </tr>\n",
       "        <tr>\n",
       "            <td>F</td>\n",
       "            <td>Unknown</td>\n",
       "            <td>Restaurant</td>\n",
       "            <td>35</td>\n",
       "        </tr>\n",
       "        <tr>\n",
       "            <td>F</td>\n",
       "            <td>Unknown</td>\n",
       "            <td>Bar/Nightclub</td>\n",
       "            <td>34</td>\n",
       "        </tr>\n",
       "        <tr>\n",
       "            <td>M</td>\n",
       "            <td>Black or African American</td>\n",
       "            <td>School/College</td>\n",
       "            <td>34</td>\n",
       "        </tr>\n",
       "        <tr>\n",
       "            <td>F</td>\n",
       "            <td>Asian</td>\n",
       "            <td>Department/Discount Store</td>\n",
       "            <td>34</td>\n",
       "        </tr>\n",
       "        <tr>\n",
       "            <td>M</td>\n",
       "            <td>Unknown</td>\n",
       "            <td>Drug Store/Doctor&#x27;s Office/Hospital</td>\n",
       "            <td>34</td>\n",
       "        </tr>\n",
       "        <tr>\n",
       "            <td>M</td>\n",
       "            <td>Black or African American</td>\n",
       "            <td>Restaurant</td>\n",
       "            <td>34</td>\n",
       "        </tr>\n",
       "        <tr>\n",
       "            <td>F</td>\n",
       "            <td>Black or African American</td>\n",
       "            <td>Bank/Savings and Loan</td>\n",
       "            <td>34</td>\n",
       "        </tr>\n",
       "        <tr>\n",
       "            <td>M</td>\n",
       "            <td>Unknown</td>\n",
       "            <td>Rental Storage Facility</td>\n",
       "            <td>32</td>\n",
       "        </tr>\n",
       "        <tr>\n",
       "            <td>M</td>\n",
       "            <td>Black or African American</td>\n",
       "            <td>Drug Store/Doctor&#x27;s Office/Hospital</td>\n",
       "            <td>32</td>\n",
       "        </tr>\n",
       "        <tr>\n",
       "            <td>M</td>\n",
       "            <td>Asian</td>\n",
       "            <td>Restaurant</td>\n",
       "            <td>32</td>\n",
       "        </tr>\n",
       "        <tr>\n",
       "            <td>F</td>\n",
       "            <td>Asian</td>\n",
       "            <td>Drug Store/Doctor&#x27;s Office/Hospital</td>\n",
       "            <td>32</td>\n",
       "        </tr>\n",
       "        <tr>\n",
       "            <td>F</td>\n",
       "            <td>Black or African American</td>\n",
       "            <td>Department/Discount Store</td>\n",
       "            <td>31</td>\n",
       "        </tr>\n",
       "        <tr>\n",
       "            <td>F</td>\n",
       "            <td>Black or African American</td>\n",
       "            <td>Air/Bus/Train Terminal</td>\n",
       "            <td>31</td>\n",
       "        </tr>\n",
       "        <tr>\n",
       "            <td>M</td>\n",
       "            <td>Unknown</td>\n",
       "            <td>Restaurant</td>\n",
       "            <td>31</td>\n",
       "        </tr>\n",
       "        <tr>\n",
       "            <td>M</td>\n",
       "            <td>Asian</td>\n",
       "            <td>Drug Store/Doctor&#x27;s Office/Hospital</td>\n",
       "            <td>30</td>\n",
       "        </tr>\n",
       "        <tr>\n",
       "            <td>F</td>\n",
       "            <td>Asian</td>\n",
       "            <td>Bar/Nightclub</td>\n",
       "            <td>30</td>\n",
       "        </tr>\n",
       "        <tr>\n",
       "            <td>F</td>\n",
       "            <td>Black or African American</td>\n",
       "            <td>Drug Store/Doctor&#x27;s Office/Hospital</td>\n",
       "            <td>30</td>\n",
       "        </tr>\n",
       "        <tr>\n",
       "            <td>M</td>\n",
       "            <td>Asian</td>\n",
       "            <td>Bar/Nightclub</td>\n",
       "            <td>30</td>\n",
       "        </tr>\n",
       "        <tr>\n",
       "            <td>M</td>\n",
       "            <td>Unknown</td>\n",
       "            <td>Jail/Prison/Penitentiary/Corrections Facility</td>\n",
       "            <td>30</td>\n",
       "        </tr>\n",
       "        <tr>\n",
       "            <td>M</td>\n",
       "            <td>Asian</td>\n",
       "            <td>Department/Discount Store</td>\n",
       "            <td>29</td>\n",
       "        </tr>\n",
       "        <tr>\n",
       "            <td>M</td>\n",
       "            <td>White</td>\n",
       "            <td>Church/Synagogue/Temple/Mosque</td>\n",
       "            <td>29</td>\n",
       "        </tr>\n",
       "        <tr>\n",
       "            <td>M</td>\n",
       "            <td>Asian</td>\n",
       "            <td>Jail/Prison/Penitentiary/Corrections Facility</td>\n",
       "            <td>28</td>\n",
       "        </tr>\n",
       "        <tr>\n",
       "            <td>M</td>\n",
       "            <td>Asian</td>\n",
       "            <td>Convenience Store</td>\n",
       "            <td>28</td>\n",
       "        </tr>\n",
       "        <tr>\n",
       "            <td>M</td>\n",
       "            <td>American Indian or Alaska Native</td>\n",
       "            <td>Parking/Drop Lot/Garage</td>\n",
       "            <td>27</td>\n",
       "        </tr>\n",
       "        <tr>\n",
       "            <td>M</td>\n",
       "            <td>Black or African American</td>\n",
       "            <td>Grocery/Supermarket</td>\n",
       "            <td>27</td>\n",
       "        </tr>\n",
       "        <tr>\n",
       "            <td>F</td>\n",
       "            <td>White</td>\n",
       "            <td>Construction Site</td>\n",
       "            <td>26</td>\n",
       "        </tr>\n",
       "        <tr>\n",
       "            <td>M</td>\n",
       "            <td>Black or African American</td>\n",
       "            <td>Bank/Savings and Loan</td>\n",
       "            <td>26</td>\n",
       "        </tr>\n",
       "        <tr>\n",
       "            <td>F</td>\n",
       "            <td>Asian</td>\n",
       "            <td>School/College</td>\n",
       "            <td>24</td>\n",
       "        </tr>\n",
       "        <tr>\n",
       "            <td>M</td>\n",
       "            <td>Black or African American</td>\n",
       "            <td>Government/Public Building</td>\n",
       "            <td>24</td>\n",
       "        </tr>\n",
       "        <tr>\n",
       "            <td>M</td>\n",
       "            <td>Unknown</td>\n",
       "            <td>Government/Public Building</td>\n",
       "            <td>24</td>\n",
       "        </tr>\n",
       "        <tr>\n",
       "            <td>M</td>\n",
       "            <td>Asian</td>\n",
       "            <td>Rental Storage Facility</td>\n",
       "            <td>24</td>\n",
       "        </tr>\n",
       "        <tr>\n",
       "            <td>U</td>\n",
       "            <td>White</td>\n",
       "            <td>Residence/Home</td>\n",
       "            <td>24</td>\n",
       "        </tr>\n",
       "        <tr>\n",
       "            <td>F</td>\n",
       "            <td>Unknown</td>\n",
       "            <td>Rental Storage Facility</td>\n",
       "            <td>24</td>\n",
       "        </tr>\n",
       "        <tr>\n",
       "            <td>F</td>\n",
       "            <td>Native Hawaiian or Other Pacific Islander</td>\n",
       "            <td>Highway/Road/Alley/Street/Sidewalk</td>\n",
       "            <td>23</td>\n",
       "        </tr>\n",
       "        <tr>\n",
       "            <td>F</td>\n",
       "            <td>White</td>\n",
       "            <td>Liquor Store</td>\n",
       "            <td>23</td>\n",
       "        </tr>\n",
       "        <tr>\n",
       "            <td>M</td>\n",
       "            <td>Asian</td>\n",
       "            <td>Air/Bus/Train Terminal</td>\n",
       "            <td>23</td>\n",
       "        </tr>\n",
       "        <tr>\n",
       "            <td>F</td>\n",
       "            <td>Black or African American</td>\n",
       "            <td>Restaurant</td>\n",
       "            <td>23</td>\n",
       "        </tr>\n",
       "        <tr>\n",
       "            <td>F</td>\n",
       "            <td>Black or African American</td>\n",
       "            <td>Service/Gas Station</td>\n",
       "            <td>23</td>\n",
       "        </tr>\n",
       "        <tr>\n",
       "            <td>M</td>\n",
       "            <td>Asian</td>\n",
       "            <td>Field/Woods</td>\n",
       "            <td>23</td>\n",
       "        </tr>\n",
       "        <tr>\n",
       "            <td>F</td>\n",
       "            <td>Asian</td>\n",
       "            <td>Restaurant</td>\n",
       "            <td>22</td>\n",
       "        </tr>\n",
       "        <tr>\n",
       "            <td>M</td>\n",
       "            <td>Native Hawaiian or Other Pacific Islander</td>\n",
       "            <td>Parking/Drop Lot/Garage</td>\n",
       "            <td>22</td>\n",
       "        </tr>\n",
       "        <tr>\n",
       "            <td>F</td>\n",
       "            <td>Unknown</td>\n",
       "            <td>School/College</td>\n",
       "            <td>22</td>\n",
       "        </tr>\n",
       "        <tr>\n",
       "            <td>F</td>\n",
       "            <td>American Indian or Alaska Native</td>\n",
       "            <td>Highway/Road/Alley/Street/Sidewalk</td>\n",
       "            <td>21</td>\n",
       "        </tr>\n",
       "        <tr>\n",
       "            <td>U</td>\n",
       "            <td>White</td>\n",
       "            <td>Highway/Road/Alley/Street/Sidewalk</td>\n",
       "            <td>21</td>\n",
       "        </tr>\n",
       "        <tr>\n",
       "            <td>M</td>\n",
       "            <td>American Indian or Alaska Native</td>\n",
       "            <td>Convenience Store</td>\n",
       "            <td>20</td>\n",
       "        </tr>\n",
       "        <tr>\n",
       "            <td>F</td>\n",
       "            <td>Asian</td>\n",
       "            <td>Field/Woods</td>\n",
       "            <td>20</td>\n",
       "        </tr>\n",
       "        <tr>\n",
       "            <td>F</td>\n",
       "            <td>American Indian or Alaska Native</td>\n",
       "            <td>Parking/Drop Lot/Garage</td>\n",
       "            <td>20</td>\n",
       "        </tr>\n",
       "        <tr>\n",
       "            <td>M</td>\n",
       "            <td>Unknown</td>\n",
       "            <td>Construction Site</td>\n",
       "            <td>20</td>\n",
       "        </tr>\n",
       "        <tr>\n",
       "            <td>F</td>\n",
       "            <td>Asian</td>\n",
       "            <td>Government/Public Building</td>\n",
       "            <td>19</td>\n",
       "        </tr>\n",
       "        <tr>\n",
       "            <td>F</td>\n",
       "            <td>White</td>\n",
       "            <td>Church/Synagogue/Temple/Mosque</td>\n",
       "            <td>18</td>\n",
       "        </tr>\n",
       "        <tr>\n",
       "            <td>F</td>\n",
       "            <td>Asian</td>\n",
       "            <td>Grocery/Supermarket</td>\n",
       "            <td>18</td>\n",
       "        </tr>\n",
       "        <tr>\n",
       "            <td>F</td>\n",
       "            <td>Black or African American</td>\n",
       "            <td>Gambling Facility/Casino/Race Track</td>\n",
       "            <td>17</td>\n",
       "        </tr>\n",
       "        <tr>\n",
       "            <td>F</td>\n",
       "            <td>Black or African American</td>\n",
       "            <td>School/College</td>\n",
       "            <td>17</td>\n",
       "        </tr>\n",
       "        <tr>\n",
       "            <td>M</td>\n",
       "            <td>Unknown</td>\n",
       "            <td>Grocery/Supermarket</td>\n",
       "            <td>17</td>\n",
       "        </tr>\n",
       "        <tr>\n",
       "            <td>F</td>\n",
       "            <td>Black or African American</td>\n",
       "            <td>Jail/Prison/Penitentiary/Corrections Facility</td>\n",
       "            <td>17</td>\n",
       "        </tr>\n",
       "        <tr>\n",
       "            <td>M</td>\n",
       "            <td>Asian</td>\n",
       "            <td>School/College</td>\n",
       "            <td>17</td>\n",
       "        </tr>\n",
       "        <tr>\n",
       "            <td>F</td>\n",
       "            <td>Black or African American</td>\n",
       "            <td>Government/Public Building</td>\n",
       "            <td>17</td>\n",
       "        </tr>\n",
       "        <tr>\n",
       "            <td>U</td>\n",
       "            <td>Unknown</td>\n",
       "            <td>Commercial/Office Building</td>\n",
       "            <td>17</td>\n",
       "        </tr>\n",
       "        <tr>\n",
       "            <td>F</td>\n",
       "            <td>Black or African American</td>\n",
       "            <td>Bar/Nightclub</td>\n",
       "            <td>17</td>\n",
       "        </tr>\n",
       "        <tr>\n",
       "            <td>F</td>\n",
       "            <td>Unknown</td>\n",
       "            <td>Government/Public Building</td>\n",
       "            <td>16</td>\n",
       "        </tr>\n",
       "        <tr>\n",
       "            <td>F</td>\n",
       "            <td>Black or African American</td>\n",
       "            <td>Field/Woods</td>\n",
       "            <td>16</td>\n",
       "        </tr>\n",
       "        <tr>\n",
       "            <td>F</td>\n",
       "            <td>Native Hawaiian or Other Pacific Islander</td>\n",
       "            <td>Parking/Drop Lot/Garage</td>\n",
       "            <td>16</td>\n",
       "        </tr>\n",
       "        <tr>\n",
       "            <td>M</td>\n",
       "            <td>American Indian or Alaska Native</td>\n",
       "            <td>Park/Playground</td>\n",
       "            <td>16</td>\n",
       "        </tr>\n",
       "        <tr>\n",
       "            <td>F</td>\n",
       "            <td>Black or African American</td>\n",
       "            <td>Rental Storage Facility</td>\n",
       "            <td>15</td>\n",
       "        </tr>\n",
       "        <tr>\n",
       "            <td>M</td>\n",
       "            <td>Unknown</td>\n",
       "            <td>School/College</td>\n",
       "            <td>15</td>\n",
       "        </tr>\n",
       "        <tr>\n",
       "            <td>M</td>\n",
       "            <td>Black or African American</td>\n",
       "            <td>Cyberspace</td>\n",
       "            <td>14</td>\n",
       "        </tr>\n",
       "        <tr>\n",
       "            <td>M</td>\n",
       "            <td>Black or African American</td>\n",
       "            <td>Field/Woods</td>\n",
       "            <td>14</td>\n",
       "        </tr>\n",
       "        <tr>\n",
       "            <td>F</td>\n",
       "            <td>Asian</td>\n",
       "            <td>Cyberspace</td>\n",
       "            <td>13</td>\n",
       "        </tr>\n",
       "        <tr>\n",
       "            <td>M</td>\n",
       "            <td>American Indian or Alaska Native</td>\n",
       "            <td>Hotel/Motel/Etc.</td>\n",
       "            <td>13</td>\n",
       "        </tr>\n",
       "        <tr>\n",
       "            <td>M</td>\n",
       "            <td>Asian</td>\n",
       "            <td>Grocery/Supermarket</td>\n",
       "            <td>13</td>\n",
       "        </tr>\n",
       "        <tr>\n",
       "            <td>F</td>\n",
       "            <td>Asian</td>\n",
       "            <td>Convenience Store</td>\n",
       "            <td>13</td>\n",
       "        </tr>\n",
       "        <tr>\n",
       "            <td>M</td>\n",
       "            <td>Asian</td>\n",
       "            <td>Service/Gas Station</td>\n",
       "            <td>13</td>\n",
       "        </tr>\n",
       "        <tr>\n",
       "            <td>M</td>\n",
       "            <td>Black or African American</td>\n",
       "            <td>Construction Site</td>\n",
       "            <td>12</td>\n",
       "        </tr>\n",
       "        <tr>\n",
       "            <td>U</td>\n",
       "            <td>Unknown</td>\n",
       "            <td>Air/Bus/Train Terminal</td>\n",
       "            <td>12</td>\n",
       "        </tr>\n",
       "        <tr>\n",
       "            <td>M</td>\n",
       "            <td>Unknown</td>\n",
       "            <td>Liquor Store</td>\n",
       "            <td>12</td>\n",
       "        </tr>\n",
       "        <tr>\n",
       "            <td>M</td>\n",
       "            <td>Unknown</td>\n",
       "            <td>Lake/Waterway/Beach</td>\n",
       "            <td>12</td>\n",
       "        </tr>\n",
       "        <tr>\n",
       "            <td>M</td>\n",
       "            <td>Asian</td>\n",
       "            <td>Cyberspace</td>\n",
       "            <td>11</td>\n",
       "        </tr>\n",
       "        <tr>\n",
       "            <td>F</td>\n",
       "            <td>Asian</td>\n",
       "            <td>Service/Gas Station</td>\n",
       "            <td>11</td>\n",
       "        </tr>\n",
       "        <tr>\n",
       "            <td>F</td>\n",
       "            <td>American Indian or Alaska Native</td>\n",
       "            <td>Park/Playground</td>\n",
       "            <td>11</td>\n",
       "        </tr>\n",
       "        <tr>\n",
       "            <td>M</td>\n",
       "            <td>Black or African American</td>\n",
       "            <td>Liquor Store</td>\n",
       "            <td>11</td>\n",
       "        </tr>\n",
       "        <tr>\n",
       "            <td>F</td>\n",
       "            <td>Asian</td>\n",
       "            <td>Air/Bus/Train Terminal</td>\n",
       "            <td>10</td>\n",
       "        </tr>\n",
       "        <tr>\n",
       "            <td>F</td>\n",
       "            <td>Black or African American</td>\n",
       "            <td>Grocery/Supermarket</td>\n",
       "            <td>10</td>\n",
       "        </tr>\n",
       "        <tr>\n",
       "            <td>U</td>\n",
       "            <td>Unknown</td>\n",
       "            <td>Jail/Prison/Penitentiary/Corrections Facility</td>\n",
       "            <td>10</td>\n",
       "        </tr>\n",
       "        <tr>\n",
       "            <td>M</td>\n",
       "            <td>American Indian or Alaska Native</td>\n",
       "            <td>Gambling Facility/Casino/Race Track</td>\n",
       "            <td>10</td>\n",
       "        </tr>\n",
       "        <tr>\n",
       "            <td>F</td>\n",
       "            <td>Unknown</td>\n",
       "            <td>Lake/Waterway/Beach</td>\n",
       "            <td>10</td>\n",
       "        </tr>\n",
       "        <tr>\n",
       "            <td>U</td>\n",
       "            <td>Unknown</td>\n",
       "            <td>Service/Gas Station</td>\n",
       "            <td>9</td>\n",
       "        </tr>\n",
       "        <tr>\n",
       "            <td>M</td>\n",
       "            <td>Asian</td>\n",
       "            <td>Lake/Waterway/Beach</td>\n",
       "            <td>9</td>\n",
       "        </tr>\n",
       "        <tr>\n",
       "            <td>F</td>\n",
       "            <td>Black or African American</td>\n",
       "            <td>Liquor Store</td>\n",
       "            <td>9</td>\n",
       "        </tr>\n",
       "        <tr>\n",
       "            <td>U</td>\n",
       "            <td>Unknown</td>\n",
       "            <td>School/College</td>\n",
       "            <td>9</td>\n",
       "        </tr>\n",
       "        <tr>\n",
       "            <td>M</td>\n",
       "            <td>Native Hawaiian or Other Pacific Islander</td>\n",
       "            <td>Commercial/Office Building</td>\n",
       "            <td>9</td>\n",
       "        </tr>\n",
       "        <tr>\n",
       "            <td>M</td>\n",
       "            <td>Unknown</td>\n",
       "            <td>Field/Woods</td>\n",
       "            <td>9</td>\n",
       "        </tr>\n",
       "        <tr>\n",
       "            <td>U</td>\n",
       "            <td>Unknown</td>\n",
       "            <td>Department/Discount Store</td>\n",
       "            <td>8</td>\n",
       "        </tr>\n",
       "        <tr>\n",
       "            <td>M</td>\n",
       "            <td>American Indian or Alaska Native</td>\n",
       "            <td>Other/Unknown</td>\n",
       "            <td>8</td>\n",
       "        </tr>\n",
       "        <tr>\n",
       "            <td>M</td>\n",
       "            <td>Native Hawaiian or Other Pacific Islander</td>\n",
       "            <td>Park/Playground</td>\n",
       "            <td>8</td>\n",
       "        </tr>\n",
       "        <tr>\n",
       "            <td>U</td>\n",
       "            <td>Unknown</td>\n",
       "            <td>Specialty Store</td>\n",
       "            <td>8</td>\n",
       "        </tr>\n",
       "        <tr>\n",
       "            <td>F</td>\n",
       "            <td>American Indian or Alaska Native</td>\n",
       "            <td>Hotel/Motel/Etc.</td>\n",
       "            <td>8</td>\n",
       "        </tr>\n",
       "        <tr>\n",
       "            <td>F</td>\n",
       "            <td>Native Hawaiian or Other Pacific Islander</td>\n",
       "            <td>Hotel/Motel/Etc.</td>\n",
       "            <td>8</td>\n",
       "        </tr>\n",
       "        <tr>\n",
       "            <td>F</td>\n",
       "            <td>Asian</td>\n",
       "            <td>Rental Storage Facility</td>\n",
       "            <td>8</td>\n",
       "        </tr>\n",
       "        <tr>\n",
       "            <td>U</td>\n",
       "            <td>White</td>\n",
       "            <td>Park/Playground</td>\n",
       "            <td>7</td>\n",
       "        </tr>\n",
       "        <tr>\n",
       "            <td>F</td>\n",
       "            <td>American Indian or Alaska Native</td>\n",
       "            <td>Gambling Facility/Casino/Race Track</td>\n",
       "            <td>7</td>\n",
       "        </tr>\n",
       "        <tr>\n",
       "            <td>U</td>\n",
       "            <td>Unknown</td>\n",
       "            <td>Convenience Store</td>\n",
       "            <td>7</td>\n",
       "        </tr>\n",
       "        <tr>\n",
       "            <td>F</td>\n",
       "            <td>Unknown</td>\n",
       "            <td>Construction Site</td>\n",
       "            <td>7</td>\n",
       "        </tr>\n",
       "        <tr>\n",
       "            <td>M</td>\n",
       "            <td>Asian</td>\n",
       "            <td>Church/Synagogue/Temple/Mosque</td>\n",
       "            <td>7</td>\n",
       "        </tr>\n",
       "        <tr>\n",
       "            <td>F</td>\n",
       "            <td>Black or African American</td>\n",
       "            <td>Lake/Waterway/Beach</td>\n",
       "            <td>7</td>\n",
       "        </tr>\n",
       "        <tr>\n",
       "            <td>F</td>\n",
       "            <td>Unknown</td>\n",
       "            <td>Gambling Facility/Casino/Race Track</td>\n",
       "            <td>7</td>\n",
       "        </tr>\n",
       "        <tr>\n",
       "            <td>F</td>\n",
       "            <td>Native Hawaiian or Other Pacific Islander</td>\n",
       "            <td>Park/Playground</td>\n",
       "            <td>6</td>\n",
       "        </tr>\n",
       "        <tr>\n",
       "            <td>F</td>\n",
       "            <td>American Indian or Alaska Native</td>\n",
       "            <td>Tribal Lands</td>\n",
       "            <td>6</td>\n",
       "        </tr>\n",
       "        <tr>\n",
       "            <td>F</td>\n",
       "            <td>Asian</td>\n",
       "            <td>Gambling Facility/Casino/Race Track</td>\n",
       "            <td>6</td>\n",
       "        </tr>\n",
       "        <tr>\n",
       "            <td>F</td>\n",
       "            <td>Native Hawaiian or Other Pacific Islander</td>\n",
       "            <td>Commercial/Office Building</td>\n",
       "            <td>6</td>\n",
       "        </tr>\n",
       "        <tr>\n",
       "            <td>F</td>\n",
       "            <td>Unknown</td>\n",
       "            <td>Field/Woods</td>\n",
       "            <td>6</td>\n",
       "        </tr>\n",
       "        <tr>\n",
       "            <td>M</td>\n",
       "            <td>American Indian or Alaska Native</td>\n",
       "            <td>Specialty Store</td>\n",
       "            <td>6</td>\n",
       "        </tr>\n",
       "        <tr>\n",
       "            <td>M</td>\n",
       "            <td>Asian</td>\n",
       "            <td>Government/Public Building</td>\n",
       "            <td>6</td>\n",
       "        </tr>\n",
       "        <tr>\n",
       "            <td>M</td>\n",
       "            <td>Black or African American</td>\n",
       "            <td>Gambling Facility/Casino/Race Track</td>\n",
       "            <td>6</td>\n",
       "        </tr>\n",
       "        <tr>\n",
       "            <td>M</td>\n",
       "            <td>Native Hawaiian or Other Pacific Islander</td>\n",
       "            <td>Jail/Prison/Penitentiary/Corrections Facility</td>\n",
       "            <td>6</td>\n",
       "        </tr>\n",
       "        <tr>\n",
       "            <td>U</td>\n",
       "            <td>Unknown</td>\n",
       "            <td>Construction Site</td>\n",
       "            <td>6</td>\n",
       "        </tr>\n",
       "        <tr>\n",
       "            <td>U</td>\n",
       "            <td>White</td>\n",
       "            <td>Parking/Drop Lot/Garage</td>\n",
       "            <td>6</td>\n",
       "        </tr>\n",
       "        <tr>\n",
       "            <td>M</td>\n",
       "            <td>American Indian or Alaska Native</td>\n",
       "            <td>Service/Gas Station</td>\n",
       "            <td>5</td>\n",
       "        </tr>\n",
       "        <tr>\n",
       "            <td>M</td>\n",
       "            <td>Black or African American</td>\n",
       "            <td>Lake/Waterway/Beach</td>\n",
       "            <td>5</td>\n",
       "        </tr>\n",
       "        <tr>\n",
       "            <td>F</td>\n",
       "            <td>Native Hawaiian or Other Pacific Islander</td>\n",
       "            <td>Specialty Store</td>\n",
       "            <td>5</td>\n",
       "        </tr>\n",
       "        <tr>\n",
       "            <td>F</td>\n",
       "            <td>Black or African American</td>\n",
       "            <td>Cyberspace</td>\n",
       "            <td>5</td>\n",
       "        </tr>\n",
       "        <tr>\n",
       "            <td>F</td>\n",
       "            <td>American Indian or Alaska Native</td>\n",
       "            <td>Other/Unknown</td>\n",
       "            <td>5</td>\n",
       "        </tr>\n",
       "        <tr>\n",
       "            <td>F</td>\n",
       "            <td>Unknown</td>\n",
       "            <td>Tribal Lands</td>\n",
       "            <td>4</td>\n",
       "        </tr>\n",
       "        <tr>\n",
       "            <td>M</td>\n",
       "            <td>Unknown</td>\n",
       "            <td>Gambling Facility/Casino/Race Track</td>\n",
       "            <td>4</td>\n",
       "        </tr>\n",
       "        <tr>\n",
       "            <td>U</td>\n",
       "            <td>White</td>\n",
       "            <td>Other/Unknown</td>\n",
       "            <td>4</td>\n",
       "        </tr>\n",
       "        <tr>\n",
       "            <td>U</td>\n",
       "            <td>Unknown</td>\n",
       "            <td>Rental Storage Facility</td>\n",
       "            <td>4</td>\n",
       "        </tr>\n",
       "        <tr>\n",
       "            <td>F</td>\n",
       "            <td>American Indian or Alaska Native</td>\n",
       "            <td>School/College</td>\n",
       "            <td>4</td>\n",
       "        </tr>\n",
       "        <tr>\n",
       "            <td>F</td>\n",
       "            <td>Asian</td>\n",
       "            <td>Jail/Prison/Penitentiary/Corrections Facility</td>\n",
       "            <td>4</td>\n",
       "        </tr>\n",
       "        <tr>\n",
       "            <td>U</td>\n",
       "            <td>Unknown</td>\n",
       "            <td>Grocery/Supermarket</td>\n",
       "            <td>4</td>\n",
       "        </tr>\n",
       "        <tr>\n",
       "            <td>M</td>\n",
       "            <td>Black or African American</td>\n",
       "            <td>Church/Synagogue/Temple/Mosque</td>\n",
       "            <td>4</td>\n",
       "        </tr>\n",
       "        <tr>\n",
       "            <td>F</td>\n",
       "            <td>American Indian or Alaska Native</td>\n",
       "            <td>Convenience Store</td>\n",
       "            <td>4</td>\n",
       "        </tr>\n",
       "        <tr>\n",
       "            <td>M</td>\n",
       "            <td>Asian</td>\n",
       "            <td>Gambling Facility/Casino/Race Track</td>\n",
       "            <td>4</td>\n",
       "        </tr>\n",
       "        <tr>\n",
       "            <td>U</td>\n",
       "            <td>Unknown</td>\n",
       "            <td>Field/Woods</td>\n",
       "            <td>4</td>\n",
       "        </tr>\n",
       "        <tr>\n",
       "            <td>M</td>\n",
       "            <td>Unknown</td>\n",
       "            <td>Church/Synagogue/Temple/Mosque</td>\n",
       "            <td>4</td>\n",
       "        </tr>\n",
       "        <tr>\n",
       "            <td>F</td>\n",
       "            <td>American Indian or Alaska Native</td>\n",
       "            <td>Bank/Savings and Loan</td>\n",
       "            <td>4</td>\n",
       "        </tr>\n",
       "        <tr>\n",
       "            <td>M</td>\n",
       "            <td>American Indian or Alaska Native</td>\n",
       "            <td>Liquor Store</td>\n",
       "            <td>4</td>\n",
       "        </tr>\n",
       "        <tr>\n",
       "            <td>U</td>\n",
       "            <td>Asian</td>\n",
       "            <td>Residence/Home</td>\n",
       "            <td>4</td>\n",
       "        </tr>\n",
       "        <tr>\n",
       "            <td>M</td>\n",
       "            <td>Unknown</td>\n",
       "            <td>Tribal Lands</td>\n",
       "            <td>4</td>\n",
       "        </tr>\n",
       "        <tr>\n",
       "            <td>U</td>\n",
       "            <td>Asian</td>\n",
       "            <td>Highway/Road/Alley/Street/Sidewalk</td>\n",
       "            <td>4</td>\n",
       "        </tr>\n",
       "        <tr>\n",
       "            <td>F</td>\n",
       "            <td>Native Hawaiian or Other Pacific Islander</td>\n",
       "            <td>Restaurant</td>\n",
       "            <td>4</td>\n",
       "        </tr>\n",
       "        <tr>\n",
       "            <td>M</td>\n",
       "            <td>Native Hawaiian or Other Pacific Islander</td>\n",
       "            <td>Gambling Facility/Casino/Race Track</td>\n",
       "            <td>4</td>\n",
       "        </tr>\n",
       "        <tr>\n",
       "            <td>F</td>\n",
       "            <td>American Indian or Alaska Native</td>\n",
       "            <td>Cyberspace</td>\n",
       "            <td>4</td>\n",
       "        </tr>\n",
       "        <tr>\n",
       "            <td>U</td>\n",
       "            <td>Native Hawaiian or Other Pacific Islander</td>\n",
       "            <td>Jail/Prison/Penitentiary/Corrections Facility</td>\n",
       "            <td>3</td>\n",
       "        </tr>\n",
       "        <tr>\n",
       "            <td>M</td>\n",
       "            <td>Native Hawaiian or Other Pacific Islander</td>\n",
       "            <td>Hotel/Motel/Etc.</td>\n",
       "            <td>3</td>\n",
       "        </tr>\n",
       "        <tr>\n",
       "            <td>M</td>\n",
       "            <td>Native Hawaiian or Other Pacific Islander</td>\n",
       "            <td>Drug Store/Doctor&#x27;s Office/Hospital</td>\n",
       "            <td>3</td>\n",
       "        </tr>\n",
       "        <tr>\n",
       "            <td>M</td>\n",
       "            <td>Asian</td>\n",
       "            <td>Liquor Store</td>\n",
       "            <td>3</td>\n",
       "        </tr>\n",
       "        <tr>\n",
       "            <td>M</td>\n",
       "            <td>American Indian or Alaska Native</td>\n",
       "            <td>Tribal Lands</td>\n",
       "            <td>3</td>\n",
       "        </tr>\n",
       "        <tr>\n",
       "            <td>M</td>\n",
       "            <td>American Indian or Alaska Native</td>\n",
       "            <td>Bar/Nightclub</td>\n",
       "            <td>3</td>\n",
       "        </tr>\n",
       "        <tr>\n",
       "            <td>M</td>\n",
       "            <td>American Indian or Alaska Native</td>\n",
       "            <td>Bank/Savings and Loan</td>\n",
       "            <td>3</td>\n",
       "        </tr>\n",
       "        <tr>\n",
       "            <td>F</td>\n",
       "            <td>Native Hawaiian or Other Pacific Islander</td>\n",
       "            <td>Other/Unknown</td>\n",
       "            <td>3</td>\n",
       "        </tr>\n",
       "        <tr>\n",
       "            <td>F</td>\n",
       "            <td>Native Hawaiian or Other Pacific Islander</td>\n",
       "            <td>Convenience Store</td>\n",
       "            <td>3</td>\n",
       "        </tr>\n",
       "        <tr>\n",
       "            <td>U</td>\n",
       "            <td>Black or African American</td>\n",
       "            <td>Highway/Road/Alley/Street/Sidewalk</td>\n",
       "            <td>3</td>\n",
       "        </tr>\n",
       "        <tr>\n",
       "            <td>U</td>\n",
       "            <td>Unknown</td>\n",
       "            <td>Bar/Nightclub</td>\n",
       "            <td>3</td>\n",
       "        </tr>\n",
       "        <tr>\n",
       "            <td>U</td>\n",
       "            <td>Unknown</td>\n",
       "            <td>Drug Store/Doctor&#x27;s Office/Hospital</td>\n",
       "            <td>3</td>\n",
       "        </tr>\n",
       "        <tr>\n",
       "            <td>F</td>\n",
       "            <td>American Indian or Alaska Native</td>\n",
       "            <td>Specialty Store</td>\n",
       "            <td>3</td>\n",
       "        </tr>\n",
       "        <tr>\n",
       "            <td>U</td>\n",
       "            <td>Unknown</td>\n",
       "            <td>Restaurant</td>\n",
       "            <td>3</td>\n",
       "        </tr>\n",
       "        <tr>\n",
       "            <td>U</td>\n",
       "            <td>Unknown</td>\n",
       "            <td>Tribal Lands</td>\n",
       "            <td>3</td>\n",
       "        </tr>\n",
       "        <tr>\n",
       "            <td>F</td>\n",
       "            <td>American Indian or Alaska Native</td>\n",
       "            <td>Commercial/Office Building</td>\n",
       "            <td>3</td>\n",
       "        </tr>\n",
       "        <tr>\n",
       "            <td>M</td>\n",
       "            <td>Native Hawaiian or Other Pacific Islander</td>\n",
       "            <td>Department/Discount Store</td>\n",
       "            <td>2</td>\n",
       "        </tr>\n",
       "        <tr>\n",
       "            <td>F</td>\n",
       "            <td>Native Hawaiian or Other Pacific Islander</td>\n",
       "            <td>Government/Public Building</td>\n",
       "            <td>2</td>\n",
       "        </tr>\n",
       "        <tr>\n",
       "            <td>F</td>\n",
       "            <td>Native Hawaiian or Other Pacific Islander</td>\n",
       "            <td>Gambling Facility/Casino/Race Track</td>\n",
       "            <td>2</td>\n",
       "        </tr>\n",
       "        <tr>\n",
       "            <td>F</td>\n",
       "            <td>Native Hawaiian or Other Pacific Islander</td>\n",
       "            <td>Field/Woods</td>\n",
       "            <td>2</td>\n",
       "        </tr>\n",
       "        <tr>\n",
       "            <td>F</td>\n",
       "            <td>Native Hawaiian or Other Pacific Islander</td>\n",
       "            <td>Drug Store/Doctor&#x27;s Office/Hospital</td>\n",
       "            <td>2</td>\n",
       "        </tr>\n",
       "        <tr>\n",
       "            <td>F</td>\n",
       "            <td>Native Hawaiian or Other Pacific Islander</td>\n",
       "            <td>Department/Discount Store</td>\n",
       "            <td>2</td>\n",
       "        </tr>\n",
       "        <tr>\n",
       "            <td>F</td>\n",
       "            <td>Native Hawaiian or Other Pacific Islander</td>\n",
       "            <td>Bank/Savings and Loan</td>\n",
       "            <td>2</td>\n",
       "        </tr>\n",
       "        <tr>\n",
       "            <td>M</td>\n",
       "            <td>White</td>\n",
       "            <td>Tribal Lands</td>\n",
       "            <td>2</td>\n",
       "        </tr>\n",
       "        <tr>\n",
       "            <td>U</td>\n",
       "            <td>Black or African American</td>\n",
       "            <td>Park/Playground</td>\n",
       "            <td>2</td>\n",
       "        </tr>\n",
       "        <tr>\n",
       "            <td>U</td>\n",
       "            <td>Black or African American</td>\n",
       "            <td>Residence/Home</td>\n",
       "            <td>2</td>\n",
       "        </tr>\n",
       "        <tr>\n",
       "            <td>U</td>\n",
       "            <td>Native Hawaiian or Other Pacific Islander</td>\n",
       "            <td>Highway/Road/Alley/Street/Sidewalk</td>\n",
       "            <td>2</td>\n",
       "        </tr>\n",
       "        <tr>\n",
       "            <td>U</td>\n",
       "            <td>Unknown</td>\n",
       "            <td>Bank/Savings and Loan</td>\n",
       "            <td>2</td>\n",
       "        </tr>\n",
       "        <tr>\n",
       "            <td>M</td>\n",
       "            <td>Native Hawaiian or Other Pacific Islander</td>\n",
       "            <td>Service/Gas Station</td>\n",
       "            <td>2</td>\n",
       "        </tr>\n",
       "        <tr>\n",
       "            <td>M</td>\n",
       "            <td>American Indian or Alaska Native</td>\n",
       "            <td>Restaurant</td>\n",
       "            <td>2</td>\n",
       "        </tr>\n",
       "        <tr>\n",
       "            <td>F</td>\n",
       "            <td>Asian</td>\n",
       "            <td>Liquor Store</td>\n",
       "            <td>2</td>\n",
       "        </tr>\n",
       "        <tr>\n",
       "            <td>M</td>\n",
       "            <td>Native Hawaiian or Other Pacific Islander</td>\n",
       "            <td>Air/Bus/Train Terminal</td>\n",
       "            <td>2</td>\n",
       "        </tr>\n",
       "        <tr>\n",
       "            <td>F</td>\n",
       "            <td>Asian</td>\n",
       "            <td>Church/Synagogue/Temple/Mosque</td>\n",
       "            <td>2</td>\n",
       "        </tr>\n",
       "        <tr>\n",
       "            <td>M</td>\n",
       "            <td>Native Hawaiian or Other Pacific Islander</td>\n",
       "            <td>Bank/Savings and Loan</td>\n",
       "            <td>2</td>\n",
       "        </tr>\n",
       "        <tr>\n",
       "            <td>M</td>\n",
       "            <td>Native Hawaiian or Other Pacific Islander</td>\n",
       "            <td>Other/Unknown</td>\n",
       "            <td>2</td>\n",
       "        </tr>\n",
       "        <tr>\n",
       "            <td>U</td>\n",
       "            <td>White</td>\n",
       "            <td>Commercial/Office Building</td>\n",
       "            <td>2</td>\n",
       "        </tr>\n",
       "        <tr>\n",
       "            <td>F</td>\n",
       "            <td>Unknown</td>\n",
       "            <td>Liquor Store</td>\n",
       "            <td>2</td>\n",
       "        </tr>\n",
       "        <tr>\n",
       "            <td>F</td>\n",
       "            <td>Unknown</td>\n",
       "            <td>Jail/Prison/Penitentiary/Corrections Facility</td>\n",
       "            <td>2</td>\n",
       "        </tr>\n",
       "        <tr>\n",
       "            <td>F</td>\n",
       "            <td>Unknown</td>\n",
       "            <td>Church/Synagogue/Temple/Mosque</td>\n",
       "            <td>2</td>\n",
       "        </tr>\n",
       "        <tr>\n",
       "            <td>M</td>\n",
       "            <td>American Indian or Alaska Native</td>\n",
       "            <td>Commercial/Office Building</td>\n",
       "            <td>2</td>\n",
       "        </tr>\n",
       "        <tr>\n",
       "            <td>F</td>\n",
       "            <td>Native Hawaiian or Other Pacific Islander</td>\n",
       "            <td>Service/Gas Station</td>\n",
       "            <td>2</td>\n",
       "        </tr>\n",
       "        <tr>\n",
       "            <td>M</td>\n",
       "            <td>American Indian or Alaska Native</td>\n",
       "            <td>Department/Discount Store</td>\n",
       "            <td>2</td>\n",
       "        </tr>\n",
       "        <tr>\n",
       "            <td>F</td>\n",
       "            <td>American Indian or Alaska Native</td>\n",
       "            <td>Air/Bus/Train Terminal</td>\n",
       "            <td>2</td>\n",
       "        </tr>\n",
       "        <tr>\n",
       "            <td>F</td>\n",
       "            <td>American Indian or Alaska Native</td>\n",
       "            <td>Drug Store/Doctor&#x27;s Office/Hospital</td>\n",
       "            <td>1</td>\n",
       "        </tr>\n",
       "        <tr>\n",
       "            <td>U</td>\n",
       "            <td>Unknown</td>\n",
       "            <td>Church/Synagogue/Temple/Mosque</td>\n",
       "            <td>1</td>\n",
       "        </tr>\n",
       "        <tr>\n",
       "            <td>F</td>\n",
       "            <td>Black or African American</td>\n",
       "            <td>Construction Site</td>\n",
       "            <td>1</td>\n",
       "        </tr>\n",
       "        <tr>\n",
       "            <td>M</td>\n",
       "            <td>Native Hawaiian or Other Pacific Islander</td>\n",
       "            <td>Field/Woods</td>\n",
       "            <td>1</td>\n",
       "        </tr>\n",
       "        <tr>\n",
       "            <td>F</td>\n",
       "            <td>Black or African American</td>\n",
       "            <td>Church/Synagogue/Temple/Mosque</td>\n",
       "            <td>1</td>\n",
       "        </tr>\n",
       "        <tr>\n",
       "            <td>F</td>\n",
       "            <td>White</td>\n",
       "            <td>Tribal Lands</td>\n",
       "            <td>1</td>\n",
       "        </tr>\n",
       "        <tr>\n",
       "            <td>M</td>\n",
       "            <td>Native Hawaiian or Other Pacific Islander</td>\n",
       "            <td>School/College</td>\n",
       "            <td>1</td>\n",
       "        </tr>\n",
       "        <tr>\n",
       "            <td>M</td>\n",
       "            <td>Asian</td>\n",
       "            <td>Construction Site</td>\n",
       "            <td>1</td>\n",
       "        </tr>\n",
       "        <tr>\n",
       "            <td>U</td>\n",
       "            <td>Unknown</td>\n",
       "            <td>Gambling Facility/Casino/Race Track</td>\n",
       "            <td>1</td>\n",
       "        </tr>\n",
       "        <tr>\n",
       "            <td>U</td>\n",
       "            <td>Unknown</td>\n",
       "            <td>Government/Public Building</td>\n",
       "            <td>1</td>\n",
       "        </tr>\n",
       "        <tr>\n",
       "            <td>M</td>\n",
       "            <td>Black or African American</td>\n",
       "            <td>Tribal Lands</td>\n",
       "            <td>1</td>\n",
       "        </tr>\n",
       "        <tr>\n",
       "            <td>U</td>\n",
       "            <td>White</td>\n",
       "            <td>Cyberspace</td>\n",
       "            <td>1</td>\n",
       "        </tr>\n",
       "        <tr>\n",
       "            <td>F</td>\n",
       "            <td>Native Hawaiian or Other Pacific Islander</td>\n",
       "            <td>Grocery/Supermarket</td>\n",
       "            <td>1</td>\n",
       "        </tr>\n",
       "        <tr>\n",
       "            <td>F</td>\n",
       "            <td>Asian</td>\n",
       "            <td>Lake/Waterway/Beach</td>\n",
       "            <td>1</td>\n",
       "        </tr>\n",
       "        <tr>\n",
       "            <td>M</td>\n",
       "            <td>Unknown</td>\n",
       "            <td>Auto Dealership New/Used</td>\n",
       "            <td>1</td>\n",
       "        </tr>\n",
       "        <tr>\n",
       "            <td>M</td>\n",
       "            <td>American Indian or Alaska Native</td>\n",
       "            <td>Air/Bus/Train Terminal</td>\n",
       "            <td>1</td>\n",
       "        </tr>\n",
       "        <tr>\n",
       "            <td>U</td>\n",
       "            <td>Unknown</td>\n",
       "            <td>Lake/Waterway/Beach</td>\n",
       "            <td>1</td>\n",
       "        </tr>\n",
       "        <tr>\n",
       "            <td>U</td>\n",
       "            <td>Unknown</td>\n",
       "            <td>Liquor Store</td>\n",
       "            <td>1</td>\n",
       "        </tr>\n",
       "        <tr>\n",
       "            <td>F</td>\n",
       "            <td>Native Hawaiian or Other Pacific Islander</td>\n",
       "            <td>Cyberspace</td>\n",
       "            <td>1</td>\n",
       "        </tr>\n",
       "        <tr>\n",
       "            <td>U</td>\n",
       "            <td>White</td>\n",
       "            <td>Drug Store/Doctor&#x27;s Office/Hospital</td>\n",
       "            <td>1</td>\n",
       "        </tr>\n",
       "        <tr>\n",
       "            <td>F</td>\n",
       "            <td>Native Hawaiian or Other Pacific Islander</td>\n",
       "            <td>Bar/Nightclub</td>\n",
       "            <td>1</td>\n",
       "        </tr>\n",
       "        <tr>\n",
       "            <td>F</td>\n",
       "            <td>American Indian or Alaska Native</td>\n",
       "            <td>Church/Synagogue/Temple/Mosque</td>\n",
       "            <td>1</td>\n",
       "        </tr>\n",
       "        <tr>\n",
       "            <td>F</td>\n",
       "            <td>Black or African American</td>\n",
       "            <td>Tribal Lands</td>\n",
       "            <td>1</td>\n",
       "        </tr>\n",
       "        <tr>\n",
       "            <td>F</td>\n",
       "            <td>American Indian or Alaska Native</td>\n",
       "            <td>Service/Gas Station</td>\n",
       "            <td>1</td>\n",
       "        </tr>\n",
       "        <tr>\n",
       "            <td>U</td>\n",
       "            <td>Asian</td>\n",
       "            <td>Department/Discount Store</td>\n",
       "            <td>1</td>\n",
       "        </tr>\n",
       "        <tr>\n",
       "            <td>M</td>\n",
       "            <td>American Indian or Alaska Native</td>\n",
       "            <td>Drug Store/Doctor&#x27;s Office/Hospital</td>\n",
       "            <td>1</td>\n",
       "        </tr>\n",
       "        <tr>\n",
       "            <td>M</td>\n",
       "            <td>American Indian or Alaska Native</td>\n",
       "            <td>Government/Public Building</td>\n",
       "            <td>1</td>\n",
       "        </tr>\n",
       "        <tr>\n",
       "            <td>U</td>\n",
       "            <td>Asian</td>\n",
       "            <td>Specialty Store</td>\n",
       "            <td>1</td>\n",
       "        </tr>\n",
       "        <tr>\n",
       "            <td>U</td>\n",
       "            <td>White</td>\n",
       "            <td>Government/Public Building</td>\n",
       "            <td>1</td>\n",
       "        </tr>\n",
       "        <tr>\n",
       "            <td>U</td>\n",
       "            <td>Black or African American</td>\n",
       "            <td>Hotel/Motel/Etc.</td>\n",
       "            <td>1</td>\n",
       "        </tr>\n",
       "        <tr>\n",
       "            <td>U</td>\n",
       "            <td>White</td>\n",
       "            <td>Convenience Store</td>\n",
       "            <td>1</td>\n",
       "        </tr>\n",
       "        <tr>\n",
       "            <td>U</td>\n",
       "            <td>Black or African American</td>\n",
       "            <td>Parking/Drop Lot/Garage</td>\n",
       "            <td>1</td>\n",
       "        </tr>\n",
       "        <tr>\n",
       "            <td>M</td>\n",
       "            <td>Native Hawaiian or Other Pacific Islander</td>\n",
       "            <td>Construction Site</td>\n",
       "            <td>1</td>\n",
       "        </tr>\n",
       "        <tr>\n",
       "            <td>M</td>\n",
       "            <td>White</td>\n",
       "            <td>Industrial Site</td>\n",
       "            <td>1</td>\n",
       "        </tr>\n",
       "        <tr>\n",
       "            <td>M</td>\n",
       "            <td>Native Hawaiian or Other Pacific Islander</td>\n",
       "            <td>Specialty Store</td>\n",
       "            <td>1</td>\n",
       "        </tr>\n",
       "        <tr>\n",
       "            <td>M</td>\n",
       "            <td>American Indian or Alaska Native</td>\n",
       "            <td>Grocery/Supermarket</td>\n",
       "            <td>1</td>\n",
       "        </tr>\n",
       "        <tr>\n",
       "            <td>U</td>\n",
       "            <td>White</td>\n",
       "            <td>Specialty Store</td>\n",
       "            <td>1</td>\n",
       "        </tr>\n",
       "    </tbody>\n",
       "</table>"
      ],
      "text/plain": [
       "[('F', 'White', 'Residence/Home', 15330),\n",
       " ('M', 'White', 'Residence/Home', 13508),\n",
       " ('M', 'White', 'Highway/Road/Alley/Street/Sidewalk', 9325),\n",
       " ('F', 'White', 'Highway/Road/Alley/Street/Sidewalk', 5484),\n",
       " ('M', 'White', 'Parking/Drop Lot/Garage', 5250),\n",
       " ('F', 'White', 'Parking/Drop Lot/Garage', 3877),\n",
       " ('M', 'Unknown', 'Highway/Road/Alley/Street/Sidewalk', 2238),\n",
       " ('M', 'White', 'Park/Playground', 2209),\n",
       " ('F', 'Black or African American', 'Residence/Home', 2023),\n",
       " ('M', 'White', 'Commercial/Office Building', 1548),\n",
       " ('M', 'Unknown', 'Residence/Home', 1525),\n",
       " ('M', 'White', 'Other/Unknown', 1518),\n",
       " ('M', 'Black or African American', 'Residence/Home', 1480),\n",
       " ('F', 'White', 'Park/Playground', 1359),\n",
       " ('F', 'Unknown', 'Residence/Home', 1343),\n",
       " ('F', 'White', 'Other/Unknown', 1310),\n",
       " ('F', 'Asian', 'Residence/Home', 1302),\n",
       " ('M', 'Unknown', 'Parking/Drop Lot/Garage', 1277),\n",
       " ('F', 'Unknown', 'Highway/Road/Alley/Street/Sidewalk', 1220),\n",
       " ('M', 'Asian', 'Residence/Home', 1143),\n",
       " ('M', 'Black or African American', 'Highway/Road/Alley/Street/Sidewalk', 1108),\n",
       " ('F', 'White', 'Commercial/Office Building', 1025),\n",
       " ('F', 'Unknown', 'Parking/Drop Lot/Garage', 1009),\n",
       " ('F', 'White', 'Hotel/Motel/Etc.', 983),\n",
       " ('M', 'White', 'Hotel/Motel/Etc.', 765),\n",
       " ('F', 'Black or African American', 'Highway/Road/Alley/Street/Sidewalk', 759),\n",
       " ('M', 'White', 'Jail/Prison/Penitentiary/Corrections Facility', 748),\n",
       " ('F', 'Unknown', 'Other/Unknown', 744),\n",
       " ('M', 'Unknown', 'Other/Unknown', 709),\n",
       " ('M', 'Unknown', 'Park/Playground', 612),\n",
       " ('M', 'Black or African American', 'Parking/Drop Lot/Garage', 607),\n",
       " ('M', 'White', 'Specialty Store', 576),\n",
       " ('F', 'White', 'Specialty Store', 557),\n",
       " ('F', 'White', 'Department/Discount Store', 526),\n",
       " ('M', 'White', 'Department/Discount Store', 512),\n",
       " ('F', 'Black or African American', 'Parking/Drop Lot/Garage', 511),\n",
       " ('M', 'Asian', 'Highway/Road/Alley/Street/Sidewalk', 497),\n",
       " ('M', 'White', 'Convenience Store', 422),\n",
       " ('U', 'Unknown', 'Highway/Road/Alley/Street/Sidewalk', 394),\n",
       " ('F', 'Unknown', 'Park/Playground', 385),\n",
       " ('M', 'White', 'Bar/Nightclub', 351),\n",
       " ('F', 'White', 'Bank/Savings and Loan', 339),\n",
       " ('M', 'White', 'Restaurant', 338),\n",
       " ('M', 'White', 'Bank/Savings and Loan', 315),\n",
       " ('M', 'Black or African American', 'Park/Playground', 312),\n",
       " ('F', 'White', 'Convenience Store', 309),\n",
       " ('F', 'White', 'Restaurant', 309),\n",
       " ('F', 'Asian', 'Highway/Road/Alley/Street/Sidewalk', 293),\n",
       " ('M', 'Asian', 'Parking/Drop Lot/Garage', 290),\n",
       " ('F', 'White', \"Drug Store/Doctor's Office/Hospital\", 274),\n",
       " ('M', 'White', \"Drug Store/Doctor's Office/Hospital\", 271),\n",
       " ('F', 'White', 'Bar/Nightclub', 266),\n",
       " ('F', 'Asian', 'Parking/Drop Lot/Garage', 265),\n",
       " ('M', 'White', 'Air/Bus/Train Terminal', 263),\n",
       " ('M', 'White', 'Rental Storage Facility', 263),\n",
       " ('M', 'Unknown', 'Specialty Store', 261),\n",
       " ('M', 'White', 'Service/Gas Station', 259),\n",
       " ('M', 'White', 'School/College', 252),\n",
       " ('F', 'Unknown', 'Specialty Store', 243),\n",
       " ('F', 'White', 'School/College', 228),\n",
       " ('M', 'Asian', 'Commercial/Office Building', 209),\n",
       " ('F', 'Black or African American', 'Hotel/Motel/Etc.', 208),\n",
       " ('F', 'White', 'Service/Gas Station', 195),\n",
       " ('M', 'Unknown', 'Commercial/Office Building', 194),\n",
       " ('F', 'Unknown', 'Bank/Savings and Loan', 193),\n",
       " ('F', 'Black or African American', 'Park/Playground', 183),\n",
       " ('M', 'Black or African American', 'Jail/Prison/Penitentiary/Corrections Facility', 178),\n",
       " ('F', 'White', 'Air/Bus/Train Terminal', 172),\n",
       " ('F', 'Black or African American', 'Other/Unknown', 170),\n",
       " ('M', 'Black or African American', 'Hotel/Motel/Etc.', 168),\n",
       " ('U', 'Unknown', 'Parking/Drop Lot/Garage', 161),\n",
       " ('M', 'Unknown', 'Hotel/Motel/Etc.', 161),\n",
       " ('M', 'Unknown', 'Bank/Savings and Loan', 158),\n",
       " ('M', 'Black or African American', 'Other/Unknown', 158),\n",
       " ('F', 'Asian', 'Other/Unknown', 155),\n",
       " ('M', 'White', 'Field/Woods', 146),\n",
       " ('F', 'Unknown', 'Commercial/Office Building', 142),\n",
       " ('F', 'White', 'Rental Storage Facility', 142),\n",
       " ('M', 'Asian', 'Other/Unknown', 140),\n",
       " ('M', 'Asian', 'Park/Playground', 137),\n",
       " ('F', 'Asian', 'Commercial/Office Building', 134),\n",
       " ('F', 'Unknown', 'Hotel/Motel/Etc.', 134),\n",
       " ('M', 'White', 'Government/Public Building', 131),\n",
       " ('M', 'White', 'Cyberspace', 129),\n",
       " ('M', 'Black or African American', 'Commercial/Office Building', 125),\n",
       " ('M', 'White', 'Grocery/Supermarket', 125),\n",
       " ('F', 'White', 'Grocery/Supermarket', 124),\n",
       " ('M', 'White', 'Construction Site', 114),\n",
       " ('M', 'White', 'Lake/Waterway/Beach', 112),\n",
       " ('F', 'Asian', 'Park/Playground', 106),\n",
       " ('F', 'White', 'Government/Public Building', 104),\n",
       " ('F', 'Black or African American', 'Commercial/Office Building', 103),\n",
       " ('F', 'American Indian or Alaska Native', 'Residence/Home', 99),\n",
       " ('F', 'White', 'Field/Woods', 97),\n",
       " ('M', 'White', 'Liquor Store', 85),\n",
       " ('U', 'Unknown', 'Residence/Home', 84),\n",
       " ('F', 'Unknown', 'Department/Discount Store', 83),\n",
       " ('F', 'White', 'Cyberspace', 83),\n",
       " ('M', 'Black or African American', 'Air/Bus/Train Terminal', 81),\n",
       " ('F', 'Native Hawaiian or Other Pacific Islander', 'Residence/Home', 80),\n",
       " ('M', 'Unknown', 'Department/Discount Store', 79),\n",
       " ('M', 'American Indian or Alaska Native', 'Residence/Home', 79),\n",
       " ('M', 'Unknown', 'Convenience Store', 71),\n",
       " ('M', 'Black or African American', 'Convenience Store', 67),\n",
       " ('F', 'Unknown', 'Cyberspace', 62),\n",
       " ('M', 'Native Hawaiian or Other Pacific Islander', 'Residence/Home', 60),\n",
       " ('F', 'Unknown', 'Convenience Store', 58),\n",
       " ('U', 'Unknown', 'Park/Playground', 58),\n",
       " ('F', 'White', 'Jail/Prison/Penitentiary/Corrections Facility', 57),\n",
       " ('M', 'Black or African American', 'Specialty Store', 56),\n",
       " ('F', 'Asian', 'Hotel/Motel/Etc.', 56),\n",
       " ('M', 'Unknown', 'Service/Gas Station', 54),\n",
       " ('F', 'White', 'Gambling Facility/Casino/Race Track', 54),\n",
       " ('M', 'Asian', 'Specialty Store', 52),\n",
       " ('U', 'Unknown', 'Hotel/Motel/Etc.', 50),\n",
       " ('M', 'Black or African American', 'Department/Discount Store', 50),\n",
       " ('F', 'Black or African American', 'Convenience Store', 49),\n",
       " ('M', 'White', 'Gambling Facility/Casino/Race Track', 47),\n",
       " ('M', 'American Indian or Alaska Native', 'Highway/Road/Alley/Street/Sidewalk', 47),\n",
       " ('F', 'Asian', 'Specialty Store', 47),\n",
       " ('F', 'White', 'Lake/Waterway/Beach', 47),\n",
       " ('F', 'Unknown', 'Air/Bus/Train Terminal', 46),\n",
       " ('F', 'Unknown', 'Service/Gas Station', 46),\n",
       " ('M', 'Native Hawaiian or Other Pacific Islander', 'Highway/Road/Alley/Street/Sidewalk', 44),\n",
       " ('M', 'Unknown', 'Bar/Nightclub', 44),\n",
       " ('M', 'Unknown', 'Air/Bus/Train Terminal', 44),\n",
       " ('M', 'Black or African American', 'Service/Gas Station', 43),\n",
       " ('F', 'Black or African American', 'Specialty Store', 42),\n",
       " ('F', 'Asian', 'Bank/Savings and Loan', 42),\n",
       " ('M', 'Asian', 'Bank/Savings and Loan', 39),\n",
       " ('M', 'Black or African American', 'Bar/Nightclub', 39),\n",
       " ('F', 'Unknown', \"Drug Store/Doctor's Office/Hospital\", 37),\n",
       " ('U', 'Unknown', 'Other/Unknown', 37),\n",
       " ('M', 'Asian', 'Hotel/Motel/Etc.', 37),\n",
       " ('M', 'Unknown', 'Cyberspace', 37),\n",
       " ('F', 'Unknown', 'Grocery/Supermarket', 35),\n",
       " ('M', 'Black or African American', 'Rental Storage Facility', 35),\n",
       " ('F', 'Unknown', 'Restaurant', 35),\n",
       " ('F', 'Unknown', 'Bar/Nightclub', 34),\n",
       " ('M', 'Black or African American', 'School/College', 34),\n",
       " ('F', 'Asian', 'Department/Discount Store', 34),\n",
       " ('M', 'Unknown', \"Drug Store/Doctor's Office/Hospital\", 34),\n",
       " ('M', 'Black or African American', 'Restaurant', 34),\n",
       " ('F', 'Black or African American', 'Bank/Savings and Loan', 34),\n",
       " ('M', 'Unknown', 'Rental Storage Facility', 32),\n",
       " ('M', 'Black or African American', \"Drug Store/Doctor's Office/Hospital\", 32),\n",
       " ('M', 'Asian', 'Restaurant', 32),\n",
       " ('F', 'Asian', \"Drug Store/Doctor's Office/Hospital\", 32),\n",
       " ('F', 'Black or African American', 'Department/Discount Store', 31),\n",
       " ('F', 'Black or African American', 'Air/Bus/Train Terminal', 31),\n",
       " ('M', 'Unknown', 'Restaurant', 31),\n",
       " ('M', 'Asian', \"Drug Store/Doctor's Office/Hospital\", 30),\n",
       " ('F', 'Asian', 'Bar/Nightclub', 30),\n",
       " ('F', 'Black or African American', \"Drug Store/Doctor's Office/Hospital\", 30),\n",
       " ('M', 'Asian', 'Bar/Nightclub', 30),\n",
       " ('M', 'Unknown', 'Jail/Prison/Penitentiary/Corrections Facility', 30),\n",
       " ('M', 'Asian', 'Department/Discount Store', 29),\n",
       " ('M', 'White', 'Church/Synagogue/Temple/Mosque', 29),\n",
       " ('M', 'Asian', 'Jail/Prison/Penitentiary/Corrections Facility', 28),\n",
       " ('M', 'Asian', 'Convenience Store', 28),\n",
       " ('M', 'American Indian or Alaska Native', 'Parking/Drop Lot/Garage', 27),\n",
       " ('M', 'Black or African American', 'Grocery/Supermarket', 27),\n",
       " ('F', 'White', 'Construction Site', 26),\n",
       " ('M', 'Black or African American', 'Bank/Savings and Loan', 26),\n",
       " ('F', 'Asian', 'School/College', 24),\n",
       " ('M', 'Black or African American', 'Government/Public Building', 24),\n",
       " ('M', 'Unknown', 'Government/Public Building', 24),\n",
       " ('M', 'Asian', 'Rental Storage Facility', 24),\n",
       " ('U', 'White', 'Residence/Home', 24),\n",
       " ('F', 'Unknown', 'Rental Storage Facility', 24),\n",
       " ('F', 'Native Hawaiian or Other Pacific Islander', 'Highway/Road/Alley/Street/Sidewalk', 23),\n",
       " ('F', 'White', 'Liquor Store', 23),\n",
       " ('M', 'Asian', 'Air/Bus/Train Terminal', 23),\n",
       " ('F', 'Black or African American', 'Restaurant', 23),\n",
       " ('F', 'Black or African American', 'Service/Gas Station', 23),\n",
       " ('M', 'Asian', 'Field/Woods', 23),\n",
       " ('F', 'Asian', 'Restaurant', 22),\n",
       " ('M', 'Native Hawaiian or Other Pacific Islander', 'Parking/Drop Lot/Garage', 22),\n",
       " ('F', 'Unknown', 'School/College', 22),\n",
       " ('F', 'American Indian or Alaska Native', 'Highway/Road/Alley/Street/Sidewalk', 21),\n",
       " ('U', 'White', 'Highway/Road/Alley/Street/Sidewalk', 21),\n",
       " ('M', 'American Indian or Alaska Native', 'Convenience Store', 20),\n",
       " ('F', 'Asian', 'Field/Woods', 20),\n",
       " ('F', 'American Indian or Alaska Native', 'Parking/Drop Lot/Garage', 20),\n",
       " ('M', 'Unknown', 'Construction Site', 20),\n",
       " ('F', 'Asian', 'Government/Public Building', 19),\n",
       " ('F', 'White', 'Church/Synagogue/Temple/Mosque', 18),\n",
       " ('F', 'Asian', 'Grocery/Supermarket', 18),\n",
       " ('F', 'Black or African American', 'Gambling Facility/Casino/Race Track', 17),\n",
       " ('F', 'Black or African American', 'School/College', 17),\n",
       " ('M', 'Unknown', 'Grocery/Supermarket', 17),\n",
       " ('F', 'Black or African American', 'Jail/Prison/Penitentiary/Corrections Facility', 17),\n",
       " ('M', 'Asian', 'School/College', 17),\n",
       " ('F', 'Black or African American', 'Government/Public Building', 17),\n",
       " ('U', 'Unknown', 'Commercial/Office Building', 17),\n",
       " ('F', 'Black or African American', 'Bar/Nightclub', 17),\n",
       " ('F', 'Unknown', 'Government/Public Building', 16),\n",
       " ('F', 'Black or African American', 'Field/Woods', 16),\n",
       " ('F', 'Native Hawaiian or Other Pacific Islander', 'Parking/Drop Lot/Garage', 16),\n",
       " ('M', 'American Indian or Alaska Native', 'Park/Playground', 16),\n",
       " ('F', 'Black or African American', 'Rental Storage Facility', 15),\n",
       " ('M', 'Unknown', 'School/College', 15),\n",
       " ('M', 'Black or African American', 'Cyberspace', 14),\n",
       " ('M', 'Black or African American', 'Field/Woods', 14),\n",
       " ('F', 'Asian', 'Cyberspace', 13),\n",
       " ('M', 'American Indian or Alaska Native', 'Hotel/Motel/Etc.', 13),\n",
       " ('M', 'Asian', 'Grocery/Supermarket', 13),\n",
       " ('F', 'Asian', 'Convenience Store', 13),\n",
       " ('M', 'Asian', 'Service/Gas Station', 13),\n",
       " ('M', 'Black or African American', 'Construction Site', 12),\n",
       " ('U', 'Unknown', 'Air/Bus/Train Terminal', 12),\n",
       " ('M', 'Unknown', 'Liquor Store', 12),\n",
       " ('M', 'Unknown', 'Lake/Waterway/Beach', 12),\n",
       " ('M', 'Asian', 'Cyberspace', 11),\n",
       " ('F', 'Asian', 'Service/Gas Station', 11),\n",
       " ('F', 'American Indian or Alaska Native', 'Park/Playground', 11),\n",
       " ('M', 'Black or African American', 'Liquor Store', 11),\n",
       " ('F', 'Asian', 'Air/Bus/Train Terminal', 10),\n",
       " ('F', 'Black or African American', 'Grocery/Supermarket', 10),\n",
       " ('U', 'Unknown', 'Jail/Prison/Penitentiary/Corrections Facility', 10),\n",
       " ('M', 'American Indian or Alaska Native', 'Gambling Facility/Casino/Race Track', 10),\n",
       " ('F', 'Unknown', 'Lake/Waterway/Beach', 10),\n",
       " ('U', 'Unknown', 'Service/Gas Station', 9),\n",
       " ('M', 'Asian', 'Lake/Waterway/Beach', 9),\n",
       " ('F', 'Black or African American', 'Liquor Store', 9),\n",
       " ('U', 'Unknown', 'School/College', 9),\n",
       " ('M', 'Native Hawaiian or Other Pacific Islander', 'Commercial/Office Building', 9),\n",
       " ('M', 'Unknown', 'Field/Woods', 9),\n",
       " ('U', 'Unknown', 'Department/Discount Store', 8),\n",
       " ('M', 'American Indian or Alaska Native', 'Other/Unknown', 8),\n",
       " ('M', 'Native Hawaiian or Other Pacific Islander', 'Park/Playground', 8),\n",
       " ('U', 'Unknown', 'Specialty Store', 8),\n",
       " ('F', 'American Indian or Alaska Native', 'Hotel/Motel/Etc.', 8),\n",
       " ('F', 'Native Hawaiian or Other Pacific Islander', 'Hotel/Motel/Etc.', 8),\n",
       " ('F', 'Asian', 'Rental Storage Facility', 8),\n",
       " ('U', 'White', 'Park/Playground', 7),\n",
       " ('F', 'American Indian or Alaska Native', 'Gambling Facility/Casino/Race Track', 7),\n",
       " ('U', 'Unknown', 'Convenience Store', 7),\n",
       " ('F', 'Unknown', 'Construction Site', 7),\n",
       " ('M', 'Asian', 'Church/Synagogue/Temple/Mosque', 7),\n",
       " ('F', 'Black or African American', 'Lake/Waterway/Beach', 7),\n",
       " ('F', 'Unknown', 'Gambling Facility/Casino/Race Track', 7),\n",
       " ('F', 'Native Hawaiian or Other Pacific Islander', 'Park/Playground', 6),\n",
       " ('F', 'American Indian or Alaska Native', 'Tribal Lands', 6),\n",
       " ('F', 'Asian', 'Gambling Facility/Casino/Race Track', 6),\n",
       " ('F', 'Native Hawaiian or Other Pacific Islander', 'Commercial/Office Building', 6),\n",
       " ('F', 'Unknown', 'Field/Woods', 6),\n",
       " ('M', 'American Indian or Alaska Native', 'Specialty Store', 6),\n",
       " ('M', 'Asian', 'Government/Public Building', 6),\n",
       " ('M', 'Black or African American', 'Gambling Facility/Casino/Race Track', 6),\n",
       " ('M', 'Native Hawaiian or Other Pacific Islander', 'Jail/Prison/Penitentiary/Corrections Facility', 6),\n",
       " ('U', 'Unknown', 'Construction Site', 6),\n",
       " ('U', 'White', 'Parking/Drop Lot/Garage', 6),\n",
       " ('M', 'American Indian or Alaska Native', 'Service/Gas Station', 5),\n",
       " ('M', 'Black or African American', 'Lake/Waterway/Beach', 5),\n",
       " ('F', 'Native Hawaiian or Other Pacific Islander', 'Specialty Store', 5),\n",
       " ('F', 'Black or African American', 'Cyberspace', 5),\n",
       " ('F', 'American Indian or Alaska Native', 'Other/Unknown', 5),\n",
       " ('F', 'Unknown', 'Tribal Lands', 4),\n",
       " ('M', 'Unknown', 'Gambling Facility/Casino/Race Track', 4),\n",
       " ('U', 'White', 'Other/Unknown', 4),\n",
       " ('U', 'Unknown', 'Rental Storage Facility', 4),\n",
       " ('F', 'American Indian or Alaska Native', 'School/College', 4),\n",
       " ('F', 'Asian', 'Jail/Prison/Penitentiary/Corrections Facility', 4),\n",
       " ('U', 'Unknown', 'Grocery/Supermarket', 4),\n",
       " ('M', 'Black or African American', 'Church/Synagogue/Temple/Mosque', 4),\n",
       " ('F', 'American Indian or Alaska Native', 'Convenience Store', 4),\n",
       " ('M', 'Asian', 'Gambling Facility/Casino/Race Track', 4),\n",
       " ('U', 'Unknown', 'Field/Woods', 4),\n",
       " ('M', 'Unknown', 'Church/Synagogue/Temple/Mosque', 4),\n",
       " ('F', 'American Indian or Alaska Native', 'Bank/Savings and Loan', 4),\n",
       " ('M', 'American Indian or Alaska Native', 'Liquor Store', 4),\n",
       " ('U', 'Asian', 'Residence/Home', 4),\n",
       " ('M', 'Unknown', 'Tribal Lands', 4),\n",
       " ('U', 'Asian', 'Highway/Road/Alley/Street/Sidewalk', 4),\n",
       " ('F', 'Native Hawaiian or Other Pacific Islander', 'Restaurant', 4),\n",
       " ('M', 'Native Hawaiian or Other Pacific Islander', 'Gambling Facility/Casino/Race Track', 4),\n",
       " ('F', 'American Indian or Alaska Native', 'Cyberspace', 4),\n",
       " ('U', 'Native Hawaiian or Other Pacific Islander', 'Jail/Prison/Penitentiary/Corrections Facility', 3),\n",
       " ('M', 'Native Hawaiian or Other Pacific Islander', 'Hotel/Motel/Etc.', 3),\n",
       " ('M', 'Native Hawaiian or Other Pacific Islander', \"Drug Store/Doctor's Office/Hospital\", 3),\n",
       " ('M', 'Asian', 'Liquor Store', 3),\n",
       " ('M', 'American Indian or Alaska Native', 'Tribal Lands', 3),\n",
       " ('M', 'American Indian or Alaska Native', 'Bar/Nightclub', 3),\n",
       " ('M', 'American Indian or Alaska Native', 'Bank/Savings and Loan', 3),\n",
       " ('F', 'Native Hawaiian or Other Pacific Islander', 'Other/Unknown', 3),\n",
       " ('F', 'Native Hawaiian or Other Pacific Islander', 'Convenience Store', 3),\n",
       " ('U', 'Black or African American', 'Highway/Road/Alley/Street/Sidewalk', 3),\n",
       " ('U', 'Unknown', 'Bar/Nightclub', 3),\n",
       " ('U', 'Unknown', \"Drug Store/Doctor's Office/Hospital\", 3),\n",
       " ('F', 'American Indian or Alaska Native', 'Specialty Store', 3),\n",
       " ('U', 'Unknown', 'Restaurant', 3),\n",
       " ('U', 'Unknown', 'Tribal Lands', 3),\n",
       " ('F', 'American Indian or Alaska Native', 'Commercial/Office Building', 3),\n",
       " ('M', 'Native Hawaiian or Other Pacific Islander', 'Department/Discount Store', 2),\n",
       " ('F', 'Native Hawaiian or Other Pacific Islander', 'Government/Public Building', 2),\n",
       " ('F', 'Native Hawaiian or Other Pacific Islander', 'Gambling Facility/Casino/Race Track', 2),\n",
       " ('F', 'Native Hawaiian or Other Pacific Islander', 'Field/Woods', 2),\n",
       " ('F', 'Native Hawaiian or Other Pacific Islander', \"Drug Store/Doctor's Office/Hospital\", 2),\n",
       " ('F', 'Native Hawaiian or Other Pacific Islander', 'Department/Discount Store', 2),\n",
       " ('F', 'Native Hawaiian or Other Pacific Islander', 'Bank/Savings and Loan', 2),\n",
       " ('M', 'White', 'Tribal Lands', 2),\n",
       " ('U', 'Black or African American', 'Park/Playground', 2),\n",
       " ('U', 'Black or African American', 'Residence/Home', 2),\n",
       " ('U', 'Native Hawaiian or Other Pacific Islander', 'Highway/Road/Alley/Street/Sidewalk', 2),\n",
       " ('U', 'Unknown', 'Bank/Savings and Loan', 2),\n",
       " ('M', 'Native Hawaiian or Other Pacific Islander', 'Service/Gas Station', 2),\n",
       " ('M', 'American Indian or Alaska Native', 'Restaurant', 2),\n",
       " ('F', 'Asian', 'Liquor Store', 2),\n",
       " ('M', 'Native Hawaiian or Other Pacific Islander', 'Air/Bus/Train Terminal', 2),\n",
       " ('F', 'Asian', 'Church/Synagogue/Temple/Mosque', 2),\n",
       " ('M', 'Native Hawaiian or Other Pacific Islander', 'Bank/Savings and Loan', 2),\n",
       " ('M', 'Native Hawaiian or Other Pacific Islander', 'Other/Unknown', 2),\n",
       " ('U', 'White', 'Commercial/Office Building', 2),\n",
       " ('F', 'Unknown', 'Liquor Store', 2),\n",
       " ('F', 'Unknown', 'Jail/Prison/Penitentiary/Corrections Facility', 2),\n",
       " ('F', 'Unknown', 'Church/Synagogue/Temple/Mosque', 2),\n",
       " ('M', 'American Indian or Alaska Native', 'Commercial/Office Building', 2),\n",
       " ('F', 'Native Hawaiian or Other Pacific Islander', 'Service/Gas Station', 2),\n",
       " ('M', 'American Indian or Alaska Native', 'Department/Discount Store', 2),\n",
       " ('F', 'American Indian or Alaska Native', 'Air/Bus/Train Terminal', 2),\n",
       " ('F', 'American Indian or Alaska Native', \"Drug Store/Doctor's Office/Hospital\", 1),\n",
       " ('U', 'Unknown', 'Church/Synagogue/Temple/Mosque', 1),\n",
       " ('F', 'Black or African American', 'Construction Site', 1),\n",
       " ('M', 'Native Hawaiian or Other Pacific Islander', 'Field/Woods', 1),\n",
       " ('F', 'Black or African American', 'Church/Synagogue/Temple/Mosque', 1),\n",
       " ('F', 'White', 'Tribal Lands', 1),\n",
       " ('M', 'Native Hawaiian or Other Pacific Islander', 'School/College', 1),\n",
       " ('M', 'Asian', 'Construction Site', 1),\n",
       " ('U', 'Unknown', 'Gambling Facility/Casino/Race Track', 1),\n",
       " ('U', 'Unknown', 'Government/Public Building', 1),\n",
       " ('M', 'Black or African American', 'Tribal Lands', 1),\n",
       " ('U', 'White', 'Cyberspace', 1),\n",
       " ('F', 'Native Hawaiian or Other Pacific Islander', 'Grocery/Supermarket', 1),\n",
       " ('F', 'Asian', 'Lake/Waterway/Beach', 1),\n",
       " ('M', 'Unknown', 'Auto Dealership New/Used', 1),\n",
       " ('M', 'American Indian or Alaska Native', 'Air/Bus/Train Terminal', 1),\n",
       " ('U', 'Unknown', 'Lake/Waterway/Beach', 1),\n",
       " ('U', 'Unknown', 'Liquor Store', 1),\n",
       " ('F', 'Native Hawaiian or Other Pacific Islander', 'Cyberspace', 1),\n",
       " ('U', 'White', \"Drug Store/Doctor's Office/Hospital\", 1),\n",
       " ('F', 'Native Hawaiian or Other Pacific Islander', 'Bar/Nightclub', 1),\n",
       " ('F', 'American Indian or Alaska Native', 'Church/Synagogue/Temple/Mosque', 1),\n",
       " ('F', 'Black or African American', 'Tribal Lands', 1),\n",
       " ('F', 'American Indian or Alaska Native', 'Service/Gas Station', 1),\n",
       " ('U', 'Asian', 'Department/Discount Store', 1),\n",
       " ('M', 'American Indian or Alaska Native', \"Drug Store/Doctor's Office/Hospital\", 1),\n",
       " ('M', 'American Indian or Alaska Native', 'Government/Public Building', 1),\n",
       " ('U', 'Asian', 'Specialty Store', 1),\n",
       " ('U', 'White', 'Government/Public Building', 1),\n",
       " ('U', 'Black or African American', 'Hotel/Motel/Etc.', 1),\n",
       " ('U', 'White', 'Convenience Store', 1),\n",
       " ('U', 'Black or African American', 'Parking/Drop Lot/Garage', 1),\n",
       " ('M', 'Native Hawaiian or Other Pacific Islander', 'Construction Site', 1),\n",
       " ('M', 'White', 'Industrial Site', 1),\n",
       " ('M', 'Native Hawaiian or Other Pacific Islander', 'Specialty Store', 1),\n",
       " ('M', 'American Indian or Alaska Native', 'Grocery/Supermarket', 1),\n",
       " ('U', 'White', 'Specialty Store', 1)]"
      ]
     },
     "execution_count": 147,
     "metadata": {},
     "output_type": "execute_result"
    }
   ],
   "source": [
    "%%sql\n",
    "SELECT NIBRS_Victim.Sex_Code, Ref_Race.Race_Desc, NIBRS_Location_Type.Location_Name, \n",
    "\tCOUNT(DISTINCT Offense_ID) AS count_of_offenses\n",
    "FROM Ref_Race, NIBRS_Victim, NIBRS_Offense, NIBRS_Location_Type\n",
    "WHERE NIBRS_Victim.victim_type_ID = 4\n",
    "\tAND Ref_Race.Race_ID = NIBRS_Victim.Race_ID\n",
    "\tAND NIBRS_Victim.Incident_ID = NIBRS_Offense.Incident_ID\n",
    "\tAND NIBRS_Offense.Location_ID = NIBRS_Location_Type.Location_ID\n",
    "GROUP BY NIBRS_Victim.Sex_Code, Ref_Race.Race_Desc, NIBRS_Location_Type.Location_Name\n",
    "ORDER BY count_of_offenses DESC\n"
   ]
  },
  {
   "cell_type": "markdown",
   "id": "663b5813-e1ed-48b7-8f68-2006e2ea3a2e",
   "metadata": {},
   "source": [
    "#### Part C: Write a query to provide a list of victims who suffered at least 4 offenses in an incident. For each victim, provide victim id, sex, race, ethnicity, and location.\n"
   ]
  },
  {
   "cell_type": "code",
   "execution_count": 152,
   "id": "24d575a1-421c-449a-b049-a66dd49f0a86",
   "metadata": {},
   "outputs": [
    {
     "name": "stdout",
     "output_type": "stream",
     "text": [
      " * postgresql://student@/assignment2\n",
      "23 rows affected.\n"
     ]
    },
    {
     "data": {
      "text/html": [
       "<table>\n",
       "    <thead>\n",
       "        <tr>\n",
       "            <th>victim_id</th>\n",
       "            <th>sex_code</th>\n",
       "            <th>race_desc</th>\n",
       "            <th>ethnicity_name</th>\n",
       "            <th>location_name</th>\n",
       "        </tr>\n",
       "    </thead>\n",
       "    <tbody>\n",
       "        <tr>\n",
       "            <td>147189631</td>\n",
       "            <td>M</td>\n",
       "            <td>Asian</td>\n",
       "            <td>Not Hispanic or Latino</td>\n",
       "            <td>Residence/Home</td>\n",
       "        </tr>\n",
       "        <tr>\n",
       "            <td>149952428</td>\n",
       "            <td>F</td>\n",
       "            <td>White</td>\n",
       "            <td>Not Hispanic or Latino</td>\n",
       "            <td>Residence/Home</td>\n",
       "        </tr>\n",
       "        <tr>\n",
       "            <td>149952429</td>\n",
       "            <td>M</td>\n",
       "            <td>White</td>\n",
       "            <td>Not Hispanic or Latino</td>\n",
       "            <td>Residence/Home</td>\n",
       "        </tr>\n",
       "        <tr>\n",
       "            <td>150577511</td>\n",
       "            <td>X</td>\n",
       "            <td>Not Specified</td>\n",
       "            <td>Not Specified</td>\n",
       "            <td>Hotel/Motel/Etc.</td>\n",
       "        </tr>\n",
       "        <tr>\n",
       "            <td>150927896</td>\n",
       "            <td>F</td>\n",
       "            <td>White</td>\n",
       "            <td>Hispanic or Latino</td>\n",
       "            <td>Residence/Home</td>\n",
       "        </tr>\n",
       "        <tr>\n",
       "            <td>151353643</td>\n",
       "            <td>F</td>\n",
       "            <td>White</td>\n",
       "            <td>Not Hispanic or Latino</td>\n",
       "            <td>Residence/Home</td>\n",
       "        </tr>\n",
       "        <tr>\n",
       "            <td>152275412</td>\n",
       "            <td>F</td>\n",
       "            <td>Asian</td>\n",
       "            <td>Not Hispanic or Latino</td>\n",
       "            <td>Parking/Drop Lot/Garage</td>\n",
       "        </tr>\n",
       "        <tr>\n",
       "            <td>152279582</td>\n",
       "            <td>F</td>\n",
       "            <td>White</td>\n",
       "            <td>Hispanic or Latino</td>\n",
       "            <td>Residence/Home</td>\n",
       "        </tr>\n",
       "        <tr>\n",
       "            <td>153636357</td>\n",
       "            <td>M</td>\n",
       "            <td>Unknown</td>\n",
       "            <td>Not Specified</td>\n",
       "            <td>Residence/Home</td>\n",
       "        </tr>\n",
       "        <tr>\n",
       "            <td>153636358</td>\n",
       "            <td>F</td>\n",
       "            <td>Unknown</td>\n",
       "            <td>Not Specified</td>\n",
       "            <td>Residence/Home</td>\n",
       "        </tr>\n",
       "        <tr>\n",
       "            <td>155146280</td>\n",
       "            <td>X</td>\n",
       "            <td>Not Specified</td>\n",
       "            <td>Not Specified</td>\n",
       "            <td>Commercial/Office Building</td>\n",
       "        </tr>\n",
       "        <tr>\n",
       "            <td>155915041</td>\n",
       "            <td>F</td>\n",
       "            <td>White</td>\n",
       "            <td>Hispanic or Latino</td>\n",
       "            <td>Residence/Home</td>\n",
       "        </tr>\n",
       "        <tr>\n",
       "            <td>157192073</td>\n",
       "            <td>F</td>\n",
       "            <td>White</td>\n",
       "            <td>Not Hispanic or Latino</td>\n",
       "            <td>Specialty Store</td>\n",
       "        </tr>\n",
       "        <tr>\n",
       "            <td>157802745</td>\n",
       "            <td>F</td>\n",
       "            <td>Black or African American</td>\n",
       "            <td>Not Hispanic or Latino</td>\n",
       "            <td>Parking/Drop Lot/Garage</td>\n",
       "        </tr>\n",
       "        <tr>\n",
       "            <td>158089873</td>\n",
       "            <td>M</td>\n",
       "            <td>White</td>\n",
       "            <td>Not Hispanic or Latino</td>\n",
       "            <td>Commercial/Office Building</td>\n",
       "        </tr>\n",
       "        <tr>\n",
       "            <td>158711346</td>\n",
       "            <td>X</td>\n",
       "            <td>Not Specified</td>\n",
       "            <td>Not Specified</td>\n",
       "            <td>School/College</td>\n",
       "        </tr>\n",
       "        <tr>\n",
       "            <td>158721594</td>\n",
       "            <td>X</td>\n",
       "            <td>Not Specified</td>\n",
       "            <td>Not Specified</td>\n",
       "            <td>Parking/Drop Lot/Garage</td>\n",
       "        </tr>\n",
       "        <tr>\n",
       "            <td>159241078</td>\n",
       "            <td>F</td>\n",
       "            <td>White</td>\n",
       "            <td>Hispanic or Latino</td>\n",
       "            <td>Residence/Home</td>\n",
       "        </tr>\n",
       "        <tr>\n",
       "            <td>159241079</td>\n",
       "            <td>M</td>\n",
       "            <td>White</td>\n",
       "            <td>Hispanic or Latino</td>\n",
       "            <td>Residence/Home</td>\n",
       "        </tr>\n",
       "        <tr>\n",
       "            <td>160420142</td>\n",
       "            <td>F</td>\n",
       "            <td>Unknown</td>\n",
       "            <td>Not Specified</td>\n",
       "            <td>Highway/Road/Alley/Street/Sidewalk</td>\n",
       "        </tr>\n",
       "        <tr>\n",
       "            <td>160655133</td>\n",
       "            <td>X</td>\n",
       "            <td>Not Specified</td>\n",
       "            <td>Not Specified</td>\n",
       "            <td>Specialty Store</td>\n",
       "        </tr>\n",
       "        <tr>\n",
       "            <td>160966399</td>\n",
       "            <td>X</td>\n",
       "            <td>Not Specified</td>\n",
       "            <td>Not Specified</td>\n",
       "            <td>Hotel/Motel/Etc.</td>\n",
       "        </tr>\n",
       "        <tr>\n",
       "            <td>165679371</td>\n",
       "            <td>F</td>\n",
       "            <td>White</td>\n",
       "            <td>Not Hispanic or Latino</td>\n",
       "            <td>Drug Store/Doctor&#x27;s Office/Hospital</td>\n",
       "        </tr>\n",
       "    </tbody>\n",
       "</table>"
      ],
      "text/plain": [
       "[(Decimal('147189631'), 'M', 'Asian', 'Not Hispanic or Latino', 'Residence/Home'),\n",
       " (Decimal('149952428'), 'F', 'White', 'Not Hispanic or Latino', 'Residence/Home'),\n",
       " (Decimal('149952429'), 'M', 'White', 'Not Hispanic or Latino', 'Residence/Home'),\n",
       " (Decimal('150577511'), 'X', 'Not Specified', 'Not Specified', 'Hotel/Motel/Etc.'),\n",
       " (Decimal('150927896'), 'F', 'White', 'Hispanic or Latino', 'Residence/Home'),\n",
       " (Decimal('151353643'), 'F', 'White', 'Not Hispanic or Latino', 'Residence/Home'),\n",
       " (Decimal('152275412'), 'F', 'Asian', 'Not Hispanic or Latino', 'Parking/Drop Lot/Garage'),\n",
       " (Decimal('152279582'), 'F', 'White', 'Hispanic or Latino', 'Residence/Home'),\n",
       " (Decimal('153636357'), 'M', 'Unknown', 'Not Specified', 'Residence/Home'),\n",
       " (Decimal('153636358'), 'F', 'Unknown', 'Not Specified', 'Residence/Home'),\n",
       " (Decimal('155146280'), 'X', 'Not Specified', 'Not Specified', 'Commercial/Office Building'),\n",
       " (Decimal('155915041'), 'F', 'White', 'Hispanic or Latino', 'Residence/Home'),\n",
       " (Decimal('157192073'), 'F', 'White', 'Not Hispanic or Latino', 'Specialty Store'),\n",
       " (Decimal('157802745'), 'F', 'Black or African American', 'Not Hispanic or Latino', 'Parking/Drop Lot/Garage'),\n",
       " (Decimal('158089873'), 'M', 'White', 'Not Hispanic or Latino', 'Commercial/Office Building'),\n",
       " (Decimal('158711346'), 'X', 'Not Specified', 'Not Specified', 'School/College'),\n",
       " (Decimal('158721594'), 'X', 'Not Specified', 'Not Specified', 'Parking/Drop Lot/Garage'),\n",
       " (Decimal('159241078'), 'F', 'White', 'Hispanic or Latino', 'Residence/Home'),\n",
       " (Decimal('159241079'), 'M', 'White', 'Hispanic or Latino', 'Residence/Home'),\n",
       " (Decimal('160420142'), 'F', 'Unknown', 'Not Specified', 'Highway/Road/Alley/Street/Sidewalk'),\n",
       " (Decimal('160655133'), 'X', 'Not Specified', 'Not Specified', 'Specialty Store'),\n",
       " (Decimal('160966399'), 'X', 'Not Specified', 'Not Specified', 'Hotel/Motel/Etc.'),\n",
       " (Decimal('165679371'), 'F', 'White', 'Not Hispanic or Latino', \"Drug Store/Doctor's Office/Hospital\")]"
      ]
     },
     "execution_count": 152,
     "metadata": {},
     "output_type": "execute_result"
    }
   ],
   "source": [
    "%%sql\n",
    "SELECT  NIBRS_Victim.Victim_ID, NIBRS_Victim.Sex_Code, Ref_Race.Race_Desc, NIBRS_Ethnicity.Ethnicity_Name, NIBRS_Location_Type.Location_Name\n",
    "FROM   NIBRS_VICTIM, REF_RACE, NIBRS_ETHNICITY, NIBRS_OFFENSE, NIBRS_VICTIM_OFFENSE, NIBRS_LOCATION_TYPE\n",
    "WHERE  NIBRS_VICTIM.Race_ID=REF_RACE.Race_ID AND \n",
    "        NIBRS_VICTIM.Ethnicity_ID=NIBRS_ETHNICITY.Ethnicity_ID AND\n",
    "        NIBRS_VICTIM.Victim_ID=NIBRS_VICTIM_OFFENSE.Victim_ID AND\n",
    "        NIBRS_VICTIM_OFFENSE.offense_ID=NIBRS_OFFENSE.offense_ID AND\n",
    "        NIBRS_OFFENSE.location_ID=NIBRS_LOCATION_TYPE.location_ID\n",
    "GROUP BY NIBRS_Victim.Victim_ID, Sex_Code, Ref_Race.Race_Desc, NIBRS_Ethnicity.Ethnicity_Name, NIBRS_Location_Type.Location_Name\n",
    "HAVING COUNT( NIBRS_VICTIM_OFFENSE.Victim_ID)>= 4\n",
    "ORDER BY 1,2\n"
   ]
  },
  {
   "cell_type": "markdown",
   "id": "5a3fd794-bfd6-4b59-bcf9-a684ac2cab51",
   "metadata": {},
   "source": [
    "#### Part D: Write a query to provide a list of incidents with more than 9 victims. Provide a distribution of the victims (counts) based on their sex, race, and ethnicity.\n"
   ]
  },
  {
   "cell_type": "code",
   "execution_count": 149,
   "id": "6cdf3944-1201-42a7-a36a-58a0c9501b0e",
   "metadata": {},
   "outputs": [
    {
     "name": "stdout",
     "output_type": "stream",
     "text": [
      " * postgresql://student@/assignment2\n",
      "35 rows affected.\n"
     ]
    },
    {
     "data": {
      "text/html": [
       "<table>\n",
       "    <thead>\n",
       "        <tr>\n",
       "            <th>incident_id</th>\n",
       "            <th>sex_code</th>\n",
       "            <th>race_desc</th>\n",
       "            <th>ethnicity_name</th>\n",
       "            <th>count_of_victims</th>\n",
       "        </tr>\n",
       "    </thead>\n",
       "    <tbody>\n",
       "        <tr>\n",
       "            <td>147749775</td>\n",
       "            <td>U</td>\n",
       "            <td>Unknown</td>\n",
       "            <td>Not Specified</td>\n",
       "            <td>35</td>\n",
       "        </tr>\n",
       "        <tr>\n",
       "            <td>137605495</td>\n",
       "            <td>M</td>\n",
       "            <td>Unknown</td>\n",
       "            <td>Not Specified</td>\n",
       "            <td>28</td>\n",
       "        </tr>\n",
       "        <tr>\n",
       "            <td>145691175</td>\n",
       "            <td>U</td>\n",
       "            <td>Unknown</td>\n",
       "            <td>Not Specified</td>\n",
       "            <td>28</td>\n",
       "        </tr>\n",
       "        <tr>\n",
       "            <td>140469254</td>\n",
       "            <td>U</td>\n",
       "            <td>Unknown</td>\n",
       "            <td>Not Specified</td>\n",
       "            <td>26</td>\n",
       "        </tr>\n",
       "        <tr>\n",
       "            <td>142698685</td>\n",
       "            <td>U</td>\n",
       "            <td>Unknown</td>\n",
       "            <td>Not Specified</td>\n",
       "            <td>23</td>\n",
       "        </tr>\n",
       "        <tr>\n",
       "            <td>147896228</td>\n",
       "            <td>U</td>\n",
       "            <td>Unknown</td>\n",
       "            <td>Not Specified</td>\n",
       "            <td>22</td>\n",
       "        </tr>\n",
       "        <tr>\n",
       "            <td>144563456</td>\n",
       "            <td>U</td>\n",
       "            <td>Unknown</td>\n",
       "            <td>Not Specified</td>\n",
       "            <td>17</td>\n",
       "        </tr>\n",
       "        <tr>\n",
       "            <td>139888104</td>\n",
       "            <td>U</td>\n",
       "            <td>Unknown</td>\n",
       "            <td>Not Specified</td>\n",
       "            <td>16</td>\n",
       "        </tr>\n",
       "        <tr>\n",
       "            <td>135345573</td>\n",
       "            <td>U</td>\n",
       "            <td>Unknown</td>\n",
       "            <td>Not Specified</td>\n",
       "            <td>16</td>\n",
       "        </tr>\n",
       "        <tr>\n",
       "            <td>137222669</td>\n",
       "            <td>U</td>\n",
       "            <td>Unknown</td>\n",
       "            <td>Not Specified</td>\n",
       "            <td>16</td>\n",
       "        </tr>\n",
       "        <tr>\n",
       "            <td>141811358</td>\n",
       "            <td>U</td>\n",
       "            <td>Unknown</td>\n",
       "            <td>Not Specified</td>\n",
       "            <td>16</td>\n",
       "        </tr>\n",
       "        <tr>\n",
       "            <td>133601291</td>\n",
       "            <td>U</td>\n",
       "            <td>Unknown</td>\n",
       "            <td>Not Specified</td>\n",
       "            <td>15</td>\n",
       "        </tr>\n",
       "        <tr>\n",
       "            <td>146389290</td>\n",
       "            <td>U</td>\n",
       "            <td>Unknown</td>\n",
       "            <td>Not Specified</td>\n",
       "            <td>15</td>\n",
       "        </tr>\n",
       "        <tr>\n",
       "            <td>138101136</td>\n",
       "            <td>M</td>\n",
       "            <td>Unknown</td>\n",
       "            <td>Not Specified</td>\n",
       "            <td>15</td>\n",
       "        </tr>\n",
       "        <tr>\n",
       "            <td>138407884</td>\n",
       "            <td>U</td>\n",
       "            <td>Unknown</td>\n",
       "            <td>Not Specified</td>\n",
       "            <td>15</td>\n",
       "        </tr>\n",
       "        <tr>\n",
       "            <td>137605495</td>\n",
       "            <td>F</td>\n",
       "            <td>Unknown</td>\n",
       "            <td>Not Specified</td>\n",
       "            <td>14</td>\n",
       "        </tr>\n",
       "        <tr>\n",
       "            <td>147284965</td>\n",
       "            <td>F</td>\n",
       "            <td>Unknown</td>\n",
       "            <td>Not Specified</td>\n",
       "            <td>14</td>\n",
       "        </tr>\n",
       "        <tr>\n",
       "            <td>138646605</td>\n",
       "            <td>U</td>\n",
       "            <td>Unknown</td>\n",
       "            <td>Not Specified</td>\n",
       "            <td>13</td>\n",
       "        </tr>\n",
       "        <tr>\n",
       "            <td>136473317</td>\n",
       "            <td>U</td>\n",
       "            <td>Unknown</td>\n",
       "            <td>Not Specified</td>\n",
       "            <td>13</td>\n",
       "        </tr>\n",
       "        <tr>\n",
       "            <td>145460129</td>\n",
       "            <td>M</td>\n",
       "            <td>Unknown</td>\n",
       "            <td>Not Specified</td>\n",
       "            <td>13</td>\n",
       "        </tr>\n",
       "        <tr>\n",
       "            <td>141879785</td>\n",
       "            <td>M</td>\n",
       "            <td>Unknown</td>\n",
       "            <td>Not Specified</td>\n",
       "            <td>13</td>\n",
       "        </tr>\n",
       "        <tr>\n",
       "            <td>147284965</td>\n",
       "            <td>M</td>\n",
       "            <td>Unknown</td>\n",
       "            <td>Not Specified</td>\n",
       "            <td>13</td>\n",
       "        </tr>\n",
       "        <tr>\n",
       "            <td>135345573</td>\n",
       "            <td>X</td>\n",
       "            <td>Not Specified</td>\n",
       "            <td>Not Specified</td>\n",
       "            <td>12</td>\n",
       "        </tr>\n",
       "        <tr>\n",
       "            <td>139720462</td>\n",
       "            <td>F</td>\n",
       "            <td>Unknown</td>\n",
       "            <td>Not Specified</td>\n",
       "            <td>12</td>\n",
       "        </tr>\n",
       "        <tr>\n",
       "            <td>134920194</td>\n",
       "            <td>M</td>\n",
       "            <td>Unknown</td>\n",
       "            <td>Not Specified</td>\n",
       "            <td>12</td>\n",
       "        </tr>\n",
       "        <tr>\n",
       "            <td>136530510</td>\n",
       "            <td>M</td>\n",
       "            <td>Unknown</td>\n",
       "            <td>Not Specified</td>\n",
       "            <td>11</td>\n",
       "        </tr>\n",
       "        <tr>\n",
       "            <td>133750424</td>\n",
       "            <td>U</td>\n",
       "            <td>Unknown</td>\n",
       "            <td>Not Specified</td>\n",
       "            <td>11</td>\n",
       "        </tr>\n",
       "        <tr>\n",
       "            <td>142308982</td>\n",
       "            <td>M</td>\n",
       "            <td>Unknown</td>\n",
       "            <td>Not Specified</td>\n",
       "            <td>11</td>\n",
       "        </tr>\n",
       "        <tr>\n",
       "            <td>134920194</td>\n",
       "            <td>F</td>\n",
       "            <td>Unknown</td>\n",
       "            <td>Not Specified</td>\n",
       "            <td>11</td>\n",
       "        </tr>\n",
       "        <tr>\n",
       "            <td>147748517</td>\n",
       "            <td>F</td>\n",
       "            <td>White</td>\n",
       "            <td>Not Hispanic or Latino</td>\n",
       "            <td>11</td>\n",
       "        </tr>\n",
       "        <tr>\n",
       "            <td>134105803</td>\n",
       "            <td>M</td>\n",
       "            <td>Unknown</td>\n",
       "            <td>Not Specified</td>\n",
       "            <td>11</td>\n",
       "        </tr>\n",
       "        <tr>\n",
       "            <td>142404011</td>\n",
       "            <td>U</td>\n",
       "            <td>Unknown</td>\n",
       "            <td>Not Specified</td>\n",
       "            <td>10</td>\n",
       "        </tr>\n",
       "        <tr>\n",
       "            <td>138386663</td>\n",
       "            <td>U</td>\n",
       "            <td>Unknown</td>\n",
       "            <td>Not Specified</td>\n",
       "            <td>10</td>\n",
       "        </tr>\n",
       "        <tr>\n",
       "            <td>144563456</td>\n",
       "            <td>X</td>\n",
       "            <td>Not Specified</td>\n",
       "            <td>Not Specified</td>\n",
       "            <td>10</td>\n",
       "        </tr>\n",
       "        <tr>\n",
       "            <td>142426486</td>\n",
       "            <td>M</td>\n",
       "            <td>Unknown</td>\n",
       "            <td>Not Specified</td>\n",
       "            <td>10</td>\n",
       "        </tr>\n",
       "    </tbody>\n",
       "</table>"
      ],
      "text/plain": [
       "[(Decimal('147749775'), 'U', 'Unknown', 'Not Specified', 35),\n",
       " (Decimal('137605495'), 'M', 'Unknown', 'Not Specified', 28),\n",
       " (Decimal('145691175'), 'U', 'Unknown', 'Not Specified', 28),\n",
       " (Decimal('140469254'), 'U', 'Unknown', 'Not Specified', 26),\n",
       " (Decimal('142698685'), 'U', 'Unknown', 'Not Specified', 23),\n",
       " (Decimal('147896228'), 'U', 'Unknown', 'Not Specified', 22),\n",
       " (Decimal('144563456'), 'U', 'Unknown', 'Not Specified', 17),\n",
       " (Decimal('139888104'), 'U', 'Unknown', 'Not Specified', 16),\n",
       " (Decimal('135345573'), 'U', 'Unknown', 'Not Specified', 16),\n",
       " (Decimal('137222669'), 'U', 'Unknown', 'Not Specified', 16),\n",
       " (Decimal('141811358'), 'U', 'Unknown', 'Not Specified', 16),\n",
       " (Decimal('133601291'), 'U', 'Unknown', 'Not Specified', 15),\n",
       " (Decimal('146389290'), 'U', 'Unknown', 'Not Specified', 15),\n",
       " (Decimal('138101136'), 'M', 'Unknown', 'Not Specified', 15),\n",
       " (Decimal('138407884'), 'U', 'Unknown', 'Not Specified', 15),\n",
       " (Decimal('137605495'), 'F', 'Unknown', 'Not Specified', 14),\n",
       " (Decimal('147284965'), 'F', 'Unknown', 'Not Specified', 14),\n",
       " (Decimal('138646605'), 'U', 'Unknown', 'Not Specified', 13),\n",
       " (Decimal('136473317'), 'U', 'Unknown', 'Not Specified', 13),\n",
       " (Decimal('145460129'), 'M', 'Unknown', 'Not Specified', 13),\n",
       " (Decimal('141879785'), 'M', 'Unknown', 'Not Specified', 13),\n",
       " (Decimal('147284965'), 'M', 'Unknown', 'Not Specified', 13),\n",
       " (Decimal('135345573'), 'X', 'Not Specified', 'Not Specified', 12),\n",
       " (Decimal('139720462'), 'F', 'Unknown', 'Not Specified', 12),\n",
       " (Decimal('134920194'), 'M', 'Unknown', 'Not Specified', 12),\n",
       " (Decimal('136530510'), 'M', 'Unknown', 'Not Specified', 11),\n",
       " (Decimal('133750424'), 'U', 'Unknown', 'Not Specified', 11),\n",
       " (Decimal('142308982'), 'M', 'Unknown', 'Not Specified', 11),\n",
       " (Decimal('134920194'), 'F', 'Unknown', 'Not Specified', 11),\n",
       " (Decimal('147748517'), 'F', 'White', 'Not Hispanic or Latino', 11),\n",
       " (Decimal('134105803'), 'M', 'Unknown', 'Not Specified', 11),\n",
       " (Decimal('142404011'), 'U', 'Unknown', 'Not Specified', 10),\n",
       " (Decimal('138386663'), 'U', 'Unknown', 'Not Specified', 10),\n",
       " (Decimal('144563456'), 'X', 'Not Specified', 'Not Specified', 10),\n",
       " (Decimal('142426486'), 'M', 'Unknown', 'Not Specified', 10)]"
      ]
     },
     "execution_count": 149,
     "metadata": {},
     "output_type": "execute_result"
    }
   ],
   "source": [
    "%%sql\n",
    "SELECT NIBRS_Victim.Incident_ID, NIBRS_Victim.Sex_Code, Ref_Race.Race_Desc, NIBRS_Ethnicity.Ethnicity_Name,\n",
    "COUNT(NIBRS_Victim.Victim_ID) AS count_of_victims\n",
    "FROM Ref_Race, NIBRS_Ethnicity, NIBRS_Victim\n",
    "WHERE Ref_Race.Race_ID = NIBRS_Victim.Race_ID\n",
    "\tAND NIBRS_Ethnicity.Ethnicity_ID = NIBRS_Victim.Ethnicity_ID\n",
    "GROUP BY NIBRS_Victim.Incident_ID, NIBRS_Victim.Sex_Code, Ref_Race.Race_Desc, NIBRS_Ethnicity.Ethnicity_Name\n",
    "HAVING COUNT(NIBRS_VICTIM.Victim_ID)>9\n",
    "ORDER BY count_of_victims DESC\n"
   ]
  }
 ],
 "metadata": {
  "kernelspec": {
   "display_name": "Python 3 (ipykernel)",
   "language": "python",
   "name": "python3"
  },
  "language_info": {
   "codemirror_mode": {
    "name": "ipython",
    "version": 3
   },
   "file_extension": ".py",
   "mimetype": "text/x-python",
   "name": "python",
   "nbconvert_exporter": "python",
   "pygments_lexer": "ipython3",
   "version": "3.8.10"
  }
 },
 "nbformat": 4,
 "nbformat_minor": 5
}
